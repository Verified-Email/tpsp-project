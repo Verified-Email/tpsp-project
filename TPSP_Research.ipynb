{
  "cells": [
    {
      "cell_type": "code",
      "source": [
        "from google.colab import drive\n",
        "drive.mount('/content/drive')\n"
      ],
      "metadata": {
        "id": "RixpHMBOZYFE",
        "colab": {
          "base_uri": "https://localhost:8080/"
        },
        "outputId": "ec4db30b-46e4-4ab9-b052-6005dded2eca"
      },
      "execution_count": null,
      "outputs": [
        {
          "output_type": "stream",
          "name": "stdout",
          "text": [
            "Mounted at /content/drive\n"
          ]
        }
      ]
    },
    {
      "cell_type": "markdown",
      "source": [
        "# Libraries"
      ],
      "metadata": {
        "id": "boVuZCUXYqr9"
      }
    },
    {
      "cell_type": "code",
      "execution_count": null,
      "metadata": {
        "id": "j1x4Na03gkTt",
        "colab": {
          "base_uri": "https://localhost:8080/"
        },
        "outputId": "13d59e51-67c4-4812-ed25-cc1b59a48c7e"
      },
      "outputs": [
        {
          "output_type": "stream",
          "name": "stdout",
          "text": [
            "Requirement already satisfied: pymatgen in /usr/local/lib/python3.10/dist-packages (2024.4.13)\n",
            "Requirement already satisfied: pandas in /usr/local/lib/python3.10/dist-packages (2.0.3)\n",
            "Requirement already satisfied: numpy in /usr/local/lib/python3.10/dist-packages (1.25.2)\n",
            "Requirement already satisfied: mp_api in /usr/local/lib/python3.10/dist-packages (0.41.2)\n",
            "Requirement already satisfied: torch_geometric in /usr/local/lib/python3.10/dist-packages (2.5.2)\n",
            "Requirement already satisfied: matgl in /usr/local/lib/python3.10/dist-packages (1.0.0)\n",
            "Requirement already satisfied: py3Dmol in /usr/local/lib/python3.10/dist-packages (2.1.0)\n",
            "Requirement already satisfied: mlflow in /usr/local/lib/python3.10/dist-packages (2.11.3)\n",
            "Requirement already satisfied: matplotlib>=1.5 in /usr/local/lib/python3.10/dist-packages (from pymatgen) (3.7.1)\n",
            "Requirement already satisfied: monty>=2024.2.2 in /usr/local/lib/python3.10/dist-packages (from pymatgen) (2024.3.31)\n",
            "Requirement already satisfied: networkx>=2.2 in /usr/local/lib/python3.10/dist-packages (from pymatgen) (3.3)\n",
            "Requirement already satisfied: palettable>=3.1.1 in /usr/local/lib/python3.10/dist-packages (from pymatgen) (3.3.3)\n",
            "Requirement already satisfied: plotly>=4.5.0 in /usr/local/lib/python3.10/dist-packages (from pymatgen) (5.15.0)\n",
            "Requirement already satisfied: pybtex in /usr/local/lib/python3.10/dist-packages (from pymatgen) (0.24.0)\n",
            "Requirement already satisfied: requests in /usr/local/lib/python3.10/dist-packages (from pymatgen) (2.31.0)\n",
            "Requirement already satisfied: ruamel.yaml>=0.17.0 in /usr/local/lib/python3.10/dist-packages (from pymatgen) (0.17.40)\n",
            "Requirement already satisfied: scipy>=1.5.0 in /usr/local/lib/python3.10/dist-packages (from pymatgen) (1.11.4)\n",
            "Requirement already satisfied: spglib>=2.0.2 in /usr/local/lib/python3.10/dist-packages (from pymatgen) (2.4.0)\n",
            "Requirement already satisfied: sympy in /usr/local/lib/python3.10/dist-packages (from pymatgen) (1.12)\n",
            "Requirement already satisfied: tabulate in /usr/local/lib/python3.10/dist-packages (from pymatgen) (0.9.0)\n",
            "Requirement already satisfied: tqdm in /usr/local/lib/python3.10/dist-packages (from pymatgen) (4.66.2)\n",
            "Requirement already satisfied: uncertainties>=3.1.4 in /usr/local/lib/python3.10/dist-packages (from pymatgen) (3.1.7)\n",
            "Requirement already satisfied: joblib in /usr/local/lib/python3.10/dist-packages (from pymatgen) (1.4.0)\n",
            "Requirement already satisfied: python-dateutil>=2.8.2 in /usr/local/lib/python3.10/dist-packages (from pandas) (2.8.2)\n",
            "Requirement already satisfied: pytz>=2020.1 in /usr/local/lib/python3.10/dist-packages (from pandas) (2023.4)\n",
            "Requirement already satisfied: tzdata>=2022.1 in /usr/local/lib/python3.10/dist-packages (from pandas) (2024.1)\n",
            "Requirement already satisfied: setuptools in /usr/local/lib/python3.10/dist-packages (from mp_api) (67.7.2)\n",
            "Requirement already satisfied: msgpack in /usr/local/lib/python3.10/dist-packages (from mp_api) (1.0.8)\n",
            "Requirement already satisfied: maggma>=0.57.1 in /usr/local/lib/python3.10/dist-packages (from mp_api) (0.64.0)\n",
            "Requirement already satisfied: typing-extensions>=3.7.4.1 in /usr/local/lib/python3.10/dist-packages (from mp_api) (4.11.0)\n",
            "Requirement already satisfied: emmet-core>=0.78.0rc3 in /usr/local/lib/python3.10/dist-packages (from mp_api) (0.82.1)\n",
            "Requirement already satisfied: smart-open in /usr/local/lib/python3.10/dist-packages (from mp_api) (6.4.0)\n",
            "Requirement already satisfied: fsspec in /usr/local/lib/python3.10/dist-packages (from torch_geometric) (2023.6.0)\n",
            "Requirement already satisfied: jinja2 in /usr/local/lib/python3.10/dist-packages (from torch_geometric) (3.1.3)\n",
            "Requirement already satisfied: aiohttp in /usr/local/lib/python3.10/dist-packages (from torch_geometric) (3.9.3)\n",
            "Requirement already satisfied: pyparsing in /usr/local/lib/python3.10/dist-packages (from torch_geometric) (3.1.2)\n",
            "Requirement already satisfied: scikit-learn in /usr/local/lib/python3.10/dist-packages (from torch_geometric) (1.2.2)\n",
            "Requirement already satisfied: psutil>=5.8.0 in /usr/local/lib/python3.10/dist-packages (from torch_geometric) (5.9.5)\n",
            "Requirement already satisfied: ase in /usr/local/lib/python3.10/dist-packages (from matgl) (3.22.1)\n",
            "Requirement already satisfied: dgl in /usr/local/lib/python3.10/dist-packages (from matgl) (2.1.0)\n",
            "Requirement already satisfied: pytorch-lightning in /usr/local/lib/python3.10/dist-packages (from matgl) (2.2.2)\n",
            "Requirement already satisfied: torch in /usr/local/lib/python3.10/dist-packages (from matgl) (2.2.1+cu121)\n",
            "Requirement already satisfied: click<9,>=7.0 in /usr/local/lib/python3.10/dist-packages (from mlflow) (8.1.7)\n",
            "Requirement already satisfied: cloudpickle<4 in /usr/local/lib/python3.10/dist-packages (from mlflow) (2.2.1)\n",
            "Requirement already satisfied: entrypoints<1 in /usr/local/lib/python3.10/dist-packages (from mlflow) (0.4)\n",
            "Requirement already satisfied: gitpython<4,>=3.1.9 in /usr/local/lib/python3.10/dist-packages (from mlflow) (3.1.43)\n",
            "Requirement already satisfied: pyyaml<7,>=5.1 in /usr/local/lib/python3.10/dist-packages (from mlflow) (6.0.1)\n",
            "Requirement already satisfied: protobuf<5,>=3.12.0 in /usr/local/lib/python3.10/dist-packages (from mlflow) (3.20.3)\n",
            "Requirement already satisfied: packaging<24 in /usr/local/lib/python3.10/dist-packages (from mlflow) (23.2)\n",
            "Requirement already satisfied: importlib-metadata!=4.7.0,<8,>=3.7.0 in /usr/local/lib/python3.10/dist-packages (from mlflow) (7.1.0)\n",
            "Requirement already satisfied: sqlparse<1,>=0.4.0 in /usr/local/lib/python3.10/dist-packages (from mlflow) (0.4.4)\n",
            "Requirement already satisfied: alembic!=1.10.0,<2 in /usr/local/lib/python3.10/dist-packages (from mlflow) (1.13.1)\n",
            "Requirement already satisfied: docker<8,>=4.0.0 in /usr/local/lib/python3.10/dist-packages (from mlflow) (7.0.0)\n",
            "Requirement already satisfied: Flask<4 in /usr/local/lib/python3.10/dist-packages (from mlflow) (2.2.5)\n",
            "Requirement already satisfied: querystring-parser<2 in /usr/local/lib/python3.10/dist-packages (from mlflow) (1.2.4)\n",
            "Requirement already satisfied: sqlalchemy<3,>=1.4.0 in /usr/local/lib/python3.10/dist-packages (from mlflow) (2.0.29)\n",
            "Requirement already satisfied: pyarrow<16,>=4.0.0 in /usr/local/lib/python3.10/dist-packages (from mlflow) (14.0.2)\n",
            "Requirement already satisfied: markdown<4,>=3.3 in /usr/local/lib/python3.10/dist-packages (from mlflow) (3.6)\n",
            "Requirement already satisfied: graphene<4 in /usr/local/lib/python3.10/dist-packages (from mlflow) (3.3)\n",
            "Requirement already satisfied: gunicorn<22 in /usr/local/lib/python3.10/dist-packages (from mlflow) (21.2.0)\n",
            "Requirement already satisfied: Mako in /usr/local/lib/python3.10/dist-packages (from alembic!=1.10.0,<2->mlflow) (1.3.3)\n",
            "Requirement already satisfied: urllib3>=1.26.0 in /usr/local/lib/python3.10/dist-packages (from docker<8,>=4.0.0->mlflow) (2.0.7)\n",
            "Requirement already satisfied: pydantic>=2.0 in /usr/local/lib/python3.10/dist-packages (from emmet-core>=0.78.0rc3->mp_api) (2.6.4)\n",
            "Requirement already satisfied: pydantic-settings>=2.0 in /usr/local/lib/python3.10/dist-packages (from emmet-core>=0.78.0rc3->mp_api) (2.2.1)\n",
            "Requirement already satisfied: Werkzeug>=2.2.2 in /usr/local/lib/python3.10/dist-packages (from Flask<4->mlflow) (3.0.2)\n",
            "Requirement already satisfied: itsdangerous>=2.0 in /usr/local/lib/python3.10/dist-packages (from Flask<4->mlflow) (2.1.2)\n",
            "Requirement already satisfied: gitdb<5,>=4.0.1 in /usr/local/lib/python3.10/dist-packages (from gitpython<4,>=3.1.9->mlflow) (4.0.11)\n",
            "Requirement already satisfied: graphql-core<3.3,>=3.1 in /usr/local/lib/python3.10/dist-packages (from graphene<4->mlflow) (3.2.3)\n",
            "Requirement already satisfied: graphql-relay<3.3,>=3.1 in /usr/local/lib/python3.10/dist-packages (from graphene<4->mlflow) (3.2.0)\n",
            "Requirement already satisfied: aniso8601<10,>=8 in /usr/local/lib/python3.10/dist-packages (from graphene<4->mlflow) (9.0.1)\n",
            "Requirement already satisfied: zipp>=0.5 in /usr/local/lib/python3.10/dist-packages (from importlib-metadata!=4.7.0,<8,>=3.7.0->mlflow) (3.18.1)\n",
            "Requirement already satisfied: MarkupSafe>=2.0 in /usr/local/lib/python3.10/dist-packages (from jinja2->torch_geometric) (2.1.5)\n",
            "Requirement already satisfied: pymongo>=4.2.0 in /usr/local/lib/python3.10/dist-packages (from maggma>=0.57.1->mp_api) (4.6.3)\n",
            "Requirement already satisfied: mongomock>=3.10.0 in /usr/local/lib/python3.10/dist-packages (from maggma>=0.57.1->mp_api) (4.1.2)\n",
            "Requirement already satisfied: pydash>=4.1.0 in /usr/local/lib/python3.10/dist-packages (from maggma>=0.57.1->mp_api) (8.0.0)\n",
            "Requirement already satisfied: jsonschema>=3.1.1 in /usr/local/lib/python3.10/dist-packages (from maggma>=0.57.1->mp_api) (4.19.2)\n",
            "Requirement already satisfied: mongogrant>=0.3.1 in /usr/local/lib/python3.10/dist-packages (from maggma>=0.57.1->mp_api) (0.3.3)\n",
            "Requirement already satisfied: aioitertools>=0.5.1 in /usr/local/lib/python3.10/dist-packages (from maggma>=0.57.1->mp_api) (0.11.0)\n",
            "Requirement already satisfied: fastapi>=0.42.0 in /usr/local/lib/python3.10/dist-packages (from maggma>=0.57.1->mp_api) (0.110.1)\n",
            "Requirement already satisfied: pyzmq>=24.0.1 in /usr/local/lib/python3.10/dist-packages (from maggma>=0.57.1->mp_api) (25.1.2)\n",
            "Requirement already satisfied: dnspython>=1.16.0 in /usr/local/lib/python3.10/dist-packages (from maggma>=0.57.1->mp_api) (2.6.1)\n",
            "Requirement already satisfied: sshtunnel>=0.1.5 in /usr/local/lib/python3.10/dist-packages (from maggma>=0.57.1->mp_api) (0.4.0)\n",
            "Requirement already satisfied: orjson>=3.9.0 in /usr/local/lib/python3.10/dist-packages (from maggma>=0.57.1->mp_api) (3.10.0)\n",
            "Requirement already satisfied: boto3>=1.20.41 in /usr/local/lib/python3.10/dist-packages (from maggma>=0.57.1->mp_api) (1.34.84)\n",
            "Requirement already satisfied: uvicorn>=0.18.3 in /usr/local/lib/python3.10/dist-packages (from maggma>=0.57.1->mp_api) (0.29.0)\n",
            "Requirement already satisfied: contourpy>=1.0.1 in /usr/local/lib/python3.10/dist-packages (from matplotlib>=1.5->pymatgen) (1.2.1)\n",
            "Requirement already satisfied: cycler>=0.10 in /usr/local/lib/python3.10/dist-packages (from matplotlib>=1.5->pymatgen) (0.12.1)\n",
            "Requirement already satisfied: fonttools>=4.22.0 in /usr/local/lib/python3.10/dist-packages (from matplotlib>=1.5->pymatgen) (4.51.0)\n",
            "Requirement already satisfied: kiwisolver>=1.0.1 in /usr/local/lib/python3.10/dist-packages (from matplotlib>=1.5->pymatgen) (1.4.5)\n",
            "Requirement already satisfied: pillow>=6.2.0 in /usr/local/lib/python3.10/dist-packages (from matplotlib>=1.5->pymatgen) (9.4.0)\n",
            "Requirement already satisfied: tenacity>=6.2.0 in /usr/local/lib/python3.10/dist-packages (from plotly>=4.5.0->pymatgen) (8.2.3)\n",
            "Requirement already satisfied: latexcodec>=1.0.4 in /usr/local/lib/python3.10/dist-packages (from pybtex->pymatgen) (3.0.0)\n",
            "Requirement already satisfied: six in /usr/local/lib/python3.10/dist-packages (from pybtex->pymatgen) (1.16.0)\n",
            "Requirement already satisfied: charset-normalizer<4,>=2 in /usr/local/lib/python3.10/dist-packages (from requests->pymatgen) (3.3.2)\n",
            "Requirement already satisfied: idna<4,>=2.5 in /usr/local/lib/python3.10/dist-packages (from requests->pymatgen) (3.6)\n",
            "Requirement already satisfied: certifi>=2017.4.17 in /usr/local/lib/python3.10/dist-packages (from requests->pymatgen) (2024.2.2)\n",
            "Requirement already satisfied: ruamel.yaml.clib>=0.2.7 in /usr/local/lib/python3.10/dist-packages (from ruamel.yaml>=0.17.0->pymatgen) (0.2.8)\n",
            "Requirement already satisfied: threadpoolctl>=2.0.0 in /usr/local/lib/python3.10/dist-packages (from scikit-learn->torch_geometric) (3.4.0)\n",
            "Requirement already satisfied: greenlet!=0.4.17 in /usr/local/lib/python3.10/dist-packages (from sqlalchemy<3,>=1.4.0->mlflow) (3.0.3)\n",
            "Traceback (most recent call last):\n",
            "  File \"/usr/local/lib/python3.10/dist-packages/pip/_internal/cli/base_command.py\", line 169, in exc_logging_wrapper\n",
            "    status = run_func(*args)\n",
            "  File \"/usr/local/lib/python3.10/dist-packages/pip/_internal/cli/req_command.py\", line 242, in wrapper\n",
            "    return func(self, options, args)\n",
            "  File \"/usr/local/lib/python3.10/dist-packages/pip/_internal/commands/install.py\", line 377, in run\n",
            "    requirement_set = resolver.resolve(\n",
            "  File \"/usr/local/lib/python3.10/dist-packages/pip/_internal/resolution/resolvelib/resolver.py\", line 92, in resolve\n",
            "    result = self._result = resolver.resolve(\n",
            "  File \"/usr/local/lib/python3.10/dist-packages/pip/_vendor/resolvelib/resolvers.py\", line 546, in resolve\n",
            "    state = resolution.resolve(requirements, max_rounds=max_rounds)\n",
            "  File \"/usr/local/lib/python3.10/dist-packages/pip/_vendor/resolvelib/resolvers.py\", line 443, in resolve\n",
            "    newly_unsatisfied_names = {\n",
            "  File \"/usr/local/lib/python3.10/dist-packages/pip/_vendor/resolvelib/resolvers.py\", line 447, in <setcomp>\n",
            "    and not self._is_current_pin_satisfying(key, criterion)\n",
            "  File \"/usr/local/lib/python3.10/dist-packages/pip/_vendor/resolvelib/resolvers.py\", line 222, in _is_current_pin_satisfying\n",
            "    return all(\n",
            "  File \"/usr/local/lib/python3.10/dist-packages/pip/_vendor/resolvelib/resolvers.py\", line 223, in <genexpr>\n",
            "    self._p.is_satisfied_by(requirement=r, candidate=current_pin)\n",
            "  File \"/usr/local/lib/python3.10/dist-packages/pip/_internal/resolution/resolvelib/provider.py\", line 240, in is_satisfied_by\n",
            "    return requirement.is_satisfied_by(candidate)\n",
            "  File \"/usr/local/lib/python3.10/dist-packages/pip/_internal/resolution/resolvelib/requirements.py\", line 83, in is_satisfied_by\n",
            "    assert candidate.name == self.name, (\n",
            "  File \"/usr/local/lib/python3.10/dist-packages/pip/_internal/resolution/resolvelib/requirements.py\", line 64, in name\n",
            "    return format_name(self.project_name, self._extras)\n",
            "  File \"/usr/local/lib/python3.10/dist-packages/pip/_internal/resolution/resolvelib/base.py\", line 15, in format_name\n",
            "    def format_name(project: str, extras: FrozenSet[str]) -> str:\n",
            "KeyboardInterrupt\n",
            "\n",
            "During handling of the above exception, another exception occurred:\n",
            "\n",
            "Traceback (most recent call last):\n",
            "  File \"/usr/local/bin/pip3\", line 8, in <module>\n",
            "    sys.exit(main())\n",
            "  File \"/usr/local/lib/python3.10/dist-packages/pip/_internal/cli/main.py\", line 79, in main\n",
            "    return command.main(cmd_args)\n",
            "  File \"/usr/local/lib/python3.10/dist-packages/pip/_internal/cli/base_command.py\", line 101, in main\n",
            "    return self._main(args)\n",
            "  File \"/usr/local/lib/python3.10/dist-packages/pip/_internal/cli/base_command.py\", line 223, in _main\n",
            "    return run(options, args)\n",
            "  File \"/usr/local/lib/python3.10/dist-packages/pip/_internal/cli/base_command.py\", line 206, in exc_logging_wrapper\n",
            "    logger.critical(\"Operation cancelled by user\")\n",
            "  File \"/usr/lib/python3.10/logging/__init__.py\", line 1524, in critical\n",
            "    self._log(CRITICAL, msg, args, **kwargs)\n",
            "  File \"/usr/lib/python3.10/logging/__init__.py\", line 1612, in _log\n",
            "    fn, lno, func, sinfo = self.findCaller(stack_info, stacklevel)\n",
            "  File \"/usr/lib/python3.10/logging/__init__.py\", line 1568, in findCaller\n",
            "    filename = os.path.normcase(co.co_filename)\n",
            "  File \"/usr/lib/python3.10/posixpath.py\", line 52, in normcase\n",
            "    def normcase(s):\n",
            "KeyboardInterrupt\n",
            "^C\n"
          ]
        }
      ],
      "source": [
        "!pip install pymatgen pandas numpy mp_api torch_geometric matgl py3Dmol mlflow"
      ]
    },
    {
      "cell_type": "code",
      "execution_count": null,
      "metadata": {
        "id": "iXOHJ0RVE48L"
      },
      "outputs": [],
      "source": [
        "import pandas as pd\n",
        "from mp_api.client import MPRester\n",
        "from pymatgen.core import Structure\n",
        "from pymatgen.analysis.graphs import StructureGraph\n",
        "from pymatgen.analysis.local_env import CrystalNN\n",
        "from emmet.core.summary import HasProps\n",
        "import matgl\n",
        "from matgl.ext.pymatgen import Structure2Graph, get_element_list\n",
        "import torch\n",
        "import torch_geometric\n",
        "from torch_geometric.data import Dataset\n",
        "import numpy as np\n",
        "import os\n",
        "import py3Dmol\n",
        "from tqdm import tqdm"
      ]
    },
    {
      "cell_type": "code",
      "source": [
        "DEVICE = torch.device(\"cuda:0\" if torch.cuda.is_available() else \"cpu\")"
      ],
      "metadata": {
        "id": "ak_h7nRr1V_S"
      },
      "execution_count": null,
      "outputs": []
    },
    {
      "cell_type": "markdown",
      "source": [
        "# Dataset Utilities"
      ],
      "metadata": {
        "id": "HXg1vmg1ZQxc"
      }
    },
    {
      "cell_type": "code",
      "source": [
        "def getGraphFromStructure(struct):\n",
        "  r = torch_geometric.utils.convert.from_dgl(struct[0])\n",
        "\n",
        "  r.edge_index = torch.unique(r.edge_index.t(), dim=0)\n",
        "\n",
        "  r.edge_index = r.edge_index.t()\n",
        "\n",
        "  del r.pbc_offset\n",
        "\n",
        "  cart_coords = torch.matmul(r.frac_coords, struct[1][0])\n",
        "\n",
        "  r.frac_coords = cart_coords\n",
        "\n",
        "  numAtoms = len(r.node_type)\n",
        "\n",
        "  r.x = torch.zeros((numAtoms, 4))\n",
        "\n",
        "  for i in range(numAtoms):\n",
        "    r.x[i] = torch.tensor([r.node_type[i], r.frac_coords[i][0], r.frac_coords[i][1], r.frac_coords[i][2]])\n",
        "\n",
        "\n",
        "  del r.node_type, r.frac_coords\n",
        "\n",
        "  return r\n",
        "\n",
        "def filter_elements(t):\n",
        "    mask = t[0] < t[1]  # Create a mask where the opposite condition is true (we want to keep these)\n",
        "    filtered_tensor = t[:, mask]  # Filter columns based on mask\n",
        "    return filtered_tensor\n",
        "\n",
        "def visualizeCrystal(r):\n",
        "  cart_coords = r.x  # This is a tensor\n",
        "\n",
        "  edge_index = r.edge_index.t()\n",
        "\n",
        "  color_mapping = {\n",
        "      # Alkali metals (Group 1, excluding Hydrogen)\n",
        "      'Li': 'violet', 'Na': 'violet', 'K': 'violet', 'Rb': 'violet', 'Cs': 'violet', 'Fr': 'violet',\n",
        "      # Alkaline earth metals (Group 2)\n",
        "      'Be': 'indigo', 'Mg': 'indigo', 'Ca': 'indigo', 'Sr': 'indigo', 'Ba': 'indigo', 'Ra': 'indigo',\n",
        "      # Transition metals (Groups 3-12)\n",
        "      'Sc': 'blue', 'Ti': 'blue', 'V': 'blue', 'Cr': 'blue', 'Mn': 'blue', 'Fe': 'blue',\n",
        "      'Co': 'blue', 'Ni': 'blue', 'Cu': 'blue', 'Zn': 'blue', 'Y': 'blue',\n",
        "      'Zr': 'blue', 'Nb': 'blue', 'Mo': 'blue', 'Tc': 'blue', 'Ru': 'blue', 'Rh': 'blue',\n",
        "      'Pd': 'blue', 'Ag': 'blue', 'Cd': 'blue', 'Hf': 'blue', 'Ta': 'blue', 'W': 'blue',\n",
        "      'Re': 'blue', 'Os': 'blue', 'Ir': 'blue', 'Pt': 'blue', 'Au': 'blue', 'Hg': 'blue',\n",
        "      'Rf': 'blue', 'Db': 'blue', 'Sg': 'blue', 'Bh': 'blue', 'Hs': 'blue', 'Mt': 'blue',\n",
        "      # Post-transition metals\n",
        "      'Al': 'green', 'Ga': 'green', 'In': 'green', 'Sn': 'green', 'Tl': 'green', 'Pb': 'green', 'Bi': 'green',\n",
        "      # Metalloids\n",
        "      'B': 'yellowgreen', 'Si': 'yellowgreen', 'Ge': 'yellowgreen', 'As': 'yellowgreen', 'Sb': 'yellowgreen', 'Te': 'yellowgreen', 'Po': 'yellowgreen',\n",
        "      # Nonmetals\n",
        "      'H': 'white', 'C': 'black', 'N': 'blue', 'O': 'red', 'P': 'orange', 'S': 'yellow', 'Se': 'yellow',\n",
        "      # Halogens (Group 17)\n",
        "      'F': 'cyan', 'Cl': 'cyan', 'Br': 'cyan', 'I': 'cyan', 'At': 'cyan',\n",
        "      # Noble gases (Group 18)\n",
        "      'He': 'magenta', 'Ne': 'magenta', 'Ar': 'magenta', 'Kr': 'magenta', 'Xe': 'magenta', 'Rn': 'magenta',\n",
        "      # Lanthanides\n",
        "      'La': 'lightblue', 'Ce': 'lightblue', 'Pr': 'lightblue', 'Nd': 'lightblue', 'Pm': 'lightblue',\n",
        "      'Sm': 'lightblue', 'Eu': 'lightblue', 'Gd': 'lightblue', 'Tb': 'lightblue', 'Dy': 'lightblue',\n",
        "      'Ho': 'lightblue', 'Er': 'lightblue', 'Tm': 'lightblue', 'Yb': 'lightblue', 'Lu': 'lightblue',\n",
        "      # Actinides\n",
        "      'Ac': 'lightgreen', 'Th': 'lightgreen', 'Pa': 'lightgreen', 'U': 'lightgreen', 'Np': 'lightgreen',\n",
        "      'Pu': 'lightgreen', 'Am': 'lightgreen', 'Cm': 'lightgreen', 'Bk': 'lightgreen', 'Cf': 'lightgreen',\n",
        "      'Es': 'lightgreen', 'Fm': 'lightgreen', 'Md': 'lightgreen', 'No': 'lightgreen', 'Lr': 'lightgreen',\n",
        "\n",
        "  }\n",
        "\n",
        "  # Start viewer\n",
        "  view = py3Dmol.view(width=800, height=400)\n",
        "\n",
        "  # Add atoms\n",
        "  for atom_type, x, y, z in cart_coords:\n",
        "    atom_color = color_mapping.get(elemList[int(atom_type.item())])  # Use default color if atom_type not in mapping\n",
        "    view.addSphere({'center': {'x': x.item(), 'y': y.item(), 'z': z.item()}, 'radius': 0.5, 'color': atom_color})\n",
        "\n",
        "  # Add bonds - assuming direct connections without considering pbc_offset\n",
        "  for start, end in edge_index:\n",
        "      start_coords = cart_coords[start][1:]\n",
        "      end_coords = cart_coords[end][1:]\n",
        "      view.addCylinder({'start': {'x': start_coords[0].item(), 'y': start_coords[1].item(), 'z': start_coords[2].item()},\n",
        "                        'end': {'x': end_coords[0].item(), 'y': end_coords[1].item(), 'z': end_coords[2].item()},\n",
        "                        'radius': 0.1, 'color': 'gray'})\n",
        "\n",
        "  # Show the structure\n",
        "  view.zoomTo()\n",
        "  view.show()"
      ],
      "metadata": {
        "id": "2XG9zTglZPtw"
      },
      "execution_count": null,
      "outputs": []
    },
    {
      "cell_type": "markdown",
      "source": [
        "# Dataset"
      ],
      "metadata": {
        "id": "AU6y7FnAZBM8"
      }
    },
    {
      "cell_type": "code",
      "execution_count": null,
      "metadata": {
        "id": "BY46rHCflqGY"
      },
      "outputs": [],
      "source": [
        "API_KEY = '0zNsIrPXwPmHXOl8AyT2C96LX2yVIVzI'"
      ]
    },
    {
      "cell_type": "code",
      "execution_count": null,
      "metadata": {
        "colab": {
          "base_uri": "https://localhost:8080/",
          "height": 69,
          "referenced_widgets": [
            "95256678542c4ca2a7c73ce90d5076aa",
            "a26b0d81c2e54833a77d2f09204114ab",
            "ed02cce9871b42a8b97e4b208145090c",
            "709d4ec9829c42a4b7fc1973c1e38513",
            "d258a5c39920443ea110ea17f14a9663",
            "7fc25521383e47349e231b1be2691a03",
            "8b5a046576014d808305ed8ef21a21d3",
            "5ea1c03e4163489381f7b2a6a99e0ee7",
            "3ee5623688764ea2a71c6f1784f08687",
            "3aad5668f60243fcbc3ab9af58d796d5",
            "7c14e05e608c46ad8e956008e88661df"
          ]
        },
        "id": "C5uRHh6DNmxs",
        "outputId": "437e3da5-4170-449a-afe5-49dd80c72250"
      },
      "outputs": [
        {
          "output_type": "display_data",
          "data": {
            "text/plain": [
              "Retrieving ElasticityDoc documents:   0%|          | 0/12392 [00:00<?, ?it/s]"
            ],
            "application/vnd.jupyter.widget-view+json": {
              "version_major": 2,
              "version_minor": 0,
              "model_id": "95256678542c4ca2a7c73ce90d5076aa"
            }
          },
          "metadata": {}
        }
      ],
      "source": [
        "mpr = MPRester(API_KEY)\n",
        "\n",
        "results = mpr.materials.elasticity.search(fields=[\"material_id\", \"structure\", 'bulk_modulus','young_modulus', 'shear_modulus', 'homogeneous_poisson'])\n",
        "data = [result.dict() for result in results]  # Convert result objects to dictionaries"
      ]
    },
    {
      "cell_type": "code",
      "execution_count": null,
      "metadata": {
        "id": "uyBkYX2ZHH2l"
      },
      "outputs": [],
      "source": [
        "structureList = [Structure.from_dict(item['structure']) for item in data]\n",
        "\n",
        "elemList = get_element_list(structureList)"
      ]
    },
    {
      "cell_type": "code",
      "execution_count": null,
      "metadata": {
        "id": "8_W5ujVRFHra",
        "colab": {
          "base_uri": "https://localhost:8080/"
        },
        "outputId": "89a53953-8e83-4fa7-8b91-a7d640eb38f7"
      },
      "outputs": [
        {
          "output_type": "stream",
          "name": "stderr",
          "text": [
            "<ipython-input-15-a2e92e04e5f9>:28: SettingWithCopyWarning: \n",
            "A value is trying to be set on a copy of a slice from a DataFrame.\n",
            "Try using .loc[row_indexer,col_indexer] = value instead\n",
            "\n",
            "See the caveats in the documentation: https://pandas.pydata.org/pandas-docs/stable/user_guide/indexing.html#returning-a-view-versus-a-copy\n",
            "  filtered_df['Graph'] = filtered_df['Structure'].apply(getGraphFromStructure)\n",
            "<ipython-input-15-a2e92e04e5f9>:33: SettingWithCopyWarning: \n",
            "A value is trying to be set on a copy of a slice from a DataFrame.\n",
            "Try using .loc[row_indexer,col_indexer] = value instead\n",
            "\n",
            "See the caveats in the documentation: https://pandas.pydata.org/pandas-docs/stable/user_guide/indexing.html#returning-a-view-versus-a-copy\n",
            "  filtered_df[\"Norm_SM\"]=(filtered_df[\"Shear Modulus\"]-SM_mean)/SM_std\n"
          ]
        }
      ],
      "source": [
        "from torch_geometric.utils import to_dense_adj\n",
        "\n",
        "s = Structure2Graph(elemList, 4)\n",
        "\n",
        "extracted_data = []\n",
        "\n",
        "# Iterate over each dictionary in your list\n",
        "for item in data:\n",
        "    # Extract values, including from the subdictionary\n",
        "    row = {\n",
        "        'Structure': s.get_graph(Structure.from_dict(item['structure'])),\n",
        "        'Shear Modulus': item['shear_modulus']['vrh'],\n",
        "        'Bulk Modulus': item['bulk_modulus']['vrh']\n",
        "    }\n",
        "    # Append the extracted data to your list\n",
        "    extracted_data.append(row)\n",
        "\n",
        "df = pd.DataFrame(extracted_data)\n",
        "\n",
        "trainingDf = pd.DataFrame(columns = [\"Graph\", \"Structure\", \"Shear Modulus\"])\n",
        "\n",
        "trainingDf[\"Structure\"] = df[\"Structure\"]\n",
        "trainingDf[\"Shear Modulus\"] = df[\"Shear Modulus\"]\n",
        "\n",
        "filtered_df = trainingDf[trainingDf['Shear Modulus'] <= 700]\n",
        "filtered_df.reset_index(drop=True, inplace=True)\n",
        "\n",
        "filtered_df['Graph'] = filtered_df['Structure'].apply(getGraphFromStructure)\n",
        "\n",
        "SM_mean = filtered_df[\"Shear Modulus\"].mean()\n",
        "SM_std = filtered_df[\"Shear Modulus\"].std()\n",
        "\n",
        "filtered_df[\"Norm_SM\"]=(filtered_df[\"Shear Modulus\"]-SM_mean)/SM_std\n",
        "\n",
        "for i in range(len(filtered_df[\"Graph\"])):\n",
        "  filtered_df[\"Graph\"][i].SM = filtered_df[\"Norm_SM\"][i]\n",
        "  filtered_df[\"Graph\"][i].edge_index = filter_elements(filtered_df[\"Graph\"][i].edge_index)\n",
        "\n",
        "dataset = []\n",
        "\n",
        "for graph in filtered_df[\"Graph\"]:\n",
        "  if(graph.x.size()[0]<=15 and graph.x.size()[0]>2 and graph.x.size()[0] == torch.squeeze(to_dense_adj(graph.edge_index)).size()[0]):\n",
        "    dataset.append(graph)"
      ]
    },
    {
      "cell_type": "code",
      "source": [
        "from torch_geometric.data import Dataset\n",
        "\n",
        "class CustomDataset(Dataset):\n",
        "    def __init__(self, data_list):\n",
        "        super(CustomDataset, self).__init__()\n",
        "        self.data_list = data_list\n",
        "\n",
        "    def len(self):\n",
        "        return len(self.data_list)\n",
        "\n",
        "    def get(self, idx):\n",
        "        return self.data_list[idx]"
      ],
      "metadata": {
        "id": "kEKZvEl73DsW"
      },
      "execution_count": null,
      "outputs": []
    },
    {
      "cell_type": "code",
      "source": [
        "MaterialsDataset = CustomDataset(dataset)"
      ],
      "metadata": {
        "id": "yfa2t8d93GLx"
      },
      "execution_count": null,
      "outputs": []
    },
    {
      "cell_type": "markdown",
      "source": [
        "# Training Utilities"
      ],
      "metadata": {
        "id": "nAqwRT17Dtlg"
      }
    },
    {
      "cell_type": "code",
      "source": [
        "from torch_geometric.utils import to_dense_adj\n",
        "import torch\n",
        "\n",
        "device = DEVICE\n",
        "\n",
        "def count_parameters(model):\n",
        "    \"\"\"\n",
        "    Counts the number of parameters for a Pytorch model\n",
        "    \"\"\"\n",
        "    return sum(p.numel() for p in model.parameters() if p.requires_grad)\n",
        "\n",
        "def kl_loss(mu=None, logstd=None):\n",
        "    \"\"\"\n",
        "    Closed formula of the KL divergence for normal distributions\n",
        "    \"\"\"\n",
        "    MAX_LOGSTD = 10\n",
        "    logstd =  logstd.clamp(max=MAX_LOGSTD)\n",
        "    kl_div = -0.5 * torch.mean(torch.sum(1 + 2 * logstd - mu**2 - logstd.exp()**2, dim=1))\n",
        "\n",
        "    # Limit numeric errors\n",
        "    kl_div = kl_div.clamp(max=1000)\n",
        "    return kl_div\n",
        "\n",
        "def slice_graph_targets(graph_id, edge_targets, node_targets, batch_index):\n",
        "    \"\"\"\n",
        "    Slices out the upper triangular part of an adjacency matrix for\n",
        "    a single graph from a large adjacency matrix for a full batch.\n",
        "    For the node features the corresponding section in the batch is sliced out.\n",
        "    --------\n",
        "    graph_id: The ID of the graph (in the batch index) to slice\n",
        "    edge_targets: A dense adjacency matrix for the whole batch\n",
        "    node_targets: A tensor of node labels for the whole batch\n",
        "    batch_index: The node to graph map for the batch\n",
        "    \"\"\"\n",
        "    # Create mask for nodes of this graph id\n",
        "    graph_mask = torch.eq(batch_index, graph_id)\n",
        "    # Row slice and column slice batch targets to get graph edge targets\n",
        "    graph_edge_targets = edge_targets[graph_mask][:, graph_mask]\n",
        "    # Get triangular upper part of adjacency matrix for targets\n",
        "    size = graph_edge_targets.shape[0]\n",
        "    if size > 1:  # Ensure there are at least 2 nodes to form an upper triangle\n",
        "        triu_indices = torch.triu_indices(size, size, offset=1)\n",
        "        # Direct indexing using triu_indices\n",
        "        graph_edge_targets = graph_edge_targets[triu_indices[0], triu_indices[1]]\n",
        "    else:\n",
        "        graph_edge_targets = torch.empty((0,), dtype=edge_targets.dtype, device=edge_targets.device)\n",
        "\n",
        "    # Slice node targets\n",
        "    graph_node_targets = node_targets[graph_mask]\n",
        "    return graph_edge_targets, graph_node_targets\n",
        "\n",
        "def slice_graph_predictions(triu_logits, node_logits, graph_triu_size, triu_start_point, graph_size, node_start_point):\n",
        "    \"\"\"\n",
        "    Slices out the corresponding section from a list of batch triu values.\n",
        "    Given a start point and the size of a graph's triu, simply slices\n",
        "    the section from the batch list.\n",
        "    -------\n",
        "    triu_logits: A batch of triu predictions of different graphs\n",
        "    node_logits: A batch of node predictions with fixed size MAX_GRAPH_SIZE\n",
        "    graph_triu_size: Size of the triu of the graph to slice\n",
        "    triu_start_point: Index of the first node of this graph in the triu batch\n",
        "    graph_size: Max graph size\n",
        "    node_start_point: Index of the first node of this graph in the nodes batch\n",
        "    \"\"\"\n",
        "    # Slice edge logits\n",
        "    graph_logits_triu = torch.squeeze(\n",
        "                    triu_logits[triu_start_point:triu_start_point + graph_triu_size]\n",
        "                    )\n",
        "    # Slice node logits\n",
        "    graph_node_logits = torch.squeeze(\n",
        "                    node_logits[node_start_point:node_start_point + graph_size]\n",
        "                    )\n",
        "    return graph_logits_triu, graph_node_logits\n",
        "\n",
        "def to_one_hot(x, options):\n",
        "    \"\"\"\n",
        "    Converts a tensor of values to a one-hot vector\n",
        "    based on the entries in options.\n",
        "    \"\"\"\n",
        "    return torch.nn.functional.one_hot(x.long(), len(options))\n",
        "\n",
        "def squared_difference(input, target):\n",
        "    return (input - target) ** 2\n",
        "\n",
        "\n",
        "def triu_to_dense(triu_values, num_nodes):\n",
        "    \"\"\"\n",
        "    Converts a triangular upper part of a matrix as flat vector\n",
        "    to a squared adjacency matrix with a specific size (num_nodes).\n",
        "    \"\"\"\n",
        "    dense_adj = torch.zeros((num_nodes, num_nodes)).to(device).float()\n",
        "    triu_indices = torch.triu_indices(num_nodes, num_nodes, offset=1)\n",
        "    tril_indices = torch.tril_indices(num_nodes, num_nodes, offset=-1)\n",
        "    dense_adj[triu_indices[0], triu_indices[1]] = triu_values\n",
        "    dense_adj[tril_indices[0], tril_indices[1]] = triu_values\n",
        "    return dense_adj\n",
        "\n",
        "def calculate_node_edge_pair_loss(node_tar, edge_tar, node_pred, edge_pred):\n",
        "    \"\"\"\n",
        "    Calculates a loss based on the sum of node-edge pairs.\n",
        "    node_tar:  [nodes, supported atoms]\n",
        "    node_pred: [max nodes, supported atoms + 1]\n",
        "    edge_tar:  [triu values for target nodes, supported edges]\n",
        "    edge_pred: [triu values for predicted nodes, supported edges]\n",
        "\n",
        "    \"\"\"\n",
        "    # Recover full 3d adjacency matrix for edge predictions\n",
        "    edge_pred_mat = triu_to_dense(edge_pred[:,1].float(), node_pred.shape[0]) # [num nodes, num nodes]\n",
        "\n",
        "    # Recover full 3d adjacency matrix for edge targets\n",
        "    edge_tar_mat = triu_to_dense(edge_tar[:,1].float(), node_tar.shape[0]) # [num nodes, num nodes]\n",
        "\n",
        "    # --- The two output matrices tell us how many edges are connected with each of the atom types\n",
        "    # Multiply each of the edge types with the atom types for the predictions\n",
        "    node_edge_preds = torch.empty((MAX_MAT_SIZE, len(elemList)), dtype=torch.float, device=device)\n",
        "    node_edge_preds = torch.matmul(edge_pred_mat, node_pred[:, :88])\n",
        "\n",
        "    # Multiply each of the edge types with the atom types for the targets\n",
        "    node_edge_tar = torch.empty((node_tar.shape[0], len(elemList)), dtype=torch.float, device=device)\n",
        "    node_edge_tar = torch.matmul(edge_tar_mat, node_tar.float().squeeze())\n",
        "\n",
        "    # Reduce to matrix with [num atom types, num edge types]\n",
        "    node_edge_pred_matrix = torch.sum(node_edge_preds, dim=0)\n",
        "    node_edge_tar_matrix = torch.sum(node_edge_tar, dim=0)\n",
        "\n",
        "    node_edge_loss = torch.mean(sum(squared_difference(node_edge_pred_matrix, node_edge_tar_matrix.float())))\n",
        "\n",
        "    return node_edge_loss\n",
        "\n",
        "\n",
        "def approximate_recon_loss(node_targets, node_preds, triu_targets, triu_preds):\n",
        "    atom_targets = node_targets[:,:1]\n",
        "    coord_targets = node_targets[:,1:]\n",
        "\n",
        "    # Convert targets to one hot\n",
        "    onehot_node_targets = to_one_hot(atom_targets, elemList ) #+ [\"None\"]\n",
        "    onehot_triu_targets = to_one_hot(triu_targets, [\"None\", \"Edge\"])\n",
        "\n",
        "    # Reshape node predictions\n",
        "    node_matrix_shape = (MAX_MAT_SIZE, (len(elemList) + 1 + 3))\n",
        "    node_preds_matrix = node_preds.reshape(node_matrix_shape)\n",
        "\n",
        "    # Reshape triu predictions\n",
        "    edge_matrix_shape = (int((MAX_MAT_SIZE * (MAX_MAT_SIZE - 1))/2), 2)\n",
        "    triu_preds_matrix = triu_preds.reshape(edge_matrix_shape)\n",
        "\n",
        "    # Apply sum on labels per (node/edge) type and discard \"none\" types\n",
        "    node_preds_reduced = torch.sum(node_preds_matrix[:, :88], 0)\n",
        "    node_targets_reduced = torch.sum(onehot_node_targets, 0)\n",
        "    triu_preds_reduced = torch.sum(triu_preds_matrix[:, 1:], 0)\n",
        "    triu_targets_reduced = torch.sum(onehot_triu_targets[:, 1:], 0)\n",
        "\n",
        "    # Calculate node-sum loss and edge-sum loss\n",
        "    node_loss = torch.sum(squared_difference(node_preds_reduced, node_targets_reduced.float()))\n",
        "    edge_loss = torch.sum(squared_difference(triu_preds_reduced, triu_targets_reduced.float()))\n",
        "\n",
        "    # Calculate coordinate loss\n",
        "    coord_target_matrix = torch.zeros(88, 3).to(device)\n",
        "\n",
        "    for node in node_targets:\n",
        "      coord_target_matrix[node[0].int()][0] += node[1]\n",
        "      coord_target_matrix[node[0].int()][1] += node[2]\n",
        "      coord_target_matrix[node[0].int()][2] += node[3]\n",
        "\n",
        "    atom_preds = torch.argmax(node_preds_matrix[:, :-3], dim=1)\n",
        "    atom_preds = atom_preds.unsqueeze(1)\n",
        "    node_coords = node_preds_matrix[:, -3:]\n",
        "    node_preds_coord_matrix = torch.cat((atom_preds, node_coords), dim=1)\n",
        "\n",
        "    coord_pred_matrix = torch.zeros(88, 3).to(device)\n",
        "\n",
        "    for node in node_preds_coord_matrix:\n",
        "      if node[0].int() != 88:\n",
        "        coord_pred_matrix[node[0].int()][0] += node[1]\n",
        "        coord_pred_matrix[node[0].int()][1] += node[2]\n",
        "        coord_pred_matrix[node[0].int()][2] += node[3]\n",
        "\n",
        "    coord_loss = torch.sum(squared_difference(coord_pred_matrix.float(), coord_target_matrix.float()))\n",
        "\n",
        "\n",
        "    # Calculate node-edge-sum loss\n",
        "    # Forces the model to properly arrange the matrices\n",
        "    node_edge_loss = calculate_node_edge_pair_loss(onehot_node_targets,\n",
        "                                      onehot_triu_targets,\n",
        "                                      node_preds_matrix[:, :89],\n",
        "                                      triu_preds_matrix)\n",
        "\n",
        "    approx_loss =   node_loss + coord_loss + edge_loss + node_edge_loss\n",
        "    return approx_loss\n",
        "\n",
        "\n",
        "def gvae_loss(triu_logits, node_logits, edge_index, node_types, \\\n",
        "              mu, logvar, batch_index, kl_beta):\n",
        "    \"\"\"\n",
        "    Calculates the loss for the graph variational autoencoder,\n",
        "    consiting of a node loss, an edge loss and the KL divergence.\n",
        "    \"\"\"\n",
        "    # Convert target edge index to dense adjacency matrix\n",
        "    batch_edge_targets = torch.squeeze(to_dense_adj(edge_index))\n",
        "\n",
        "    # For this model we always have the same (fixed) output dimension\n",
        "    graph_size = MAX_MAT_SIZE*(len(elemList) + 1+3)\n",
        "    graph_triu_size = int((MAX_MAT_SIZE * (MAX_MAT_SIZE - 1)) / 2) * 2\n",
        "\n",
        "    # Reconstruction loss per graph\n",
        "    batch_recon_loss = []\n",
        "    triu_indices_counter = 0\n",
        "    graph_size_counter = 0\n",
        "\n",
        "    # Loop over graphs in this batch\n",
        "    for graph_id in torch.unique(batch_index):\n",
        "            # Get upper triangular targets for this graph from the whole batch\n",
        "            triu_targets, node_targets = slice_graph_targets(graph_id,\n",
        "                                                            batch_edge_targets,\n",
        "                                                            node_types,\n",
        "                                                            batch_index)\n",
        "\n",
        "            # Get upper triangular predictions for this graph from the whole batch\n",
        "            triu_preds, node_preds = slice_graph_predictions(triu_logits,\n",
        "                                                            node_logits,\n",
        "                                                            graph_triu_size,\n",
        "                                                            triu_indices_counter,\n",
        "                                                            graph_size,\n",
        "                                                            graph_size_counter)\n",
        "\n",
        "            # Update counter to the index of the next (upper-triu) graph\n",
        "            triu_indices_counter = triu_indices_counter + graph_triu_size\n",
        "            graph_size_counter = graph_size_counter + graph_size\n",
        "\n",
        "            # Calculate losses\n",
        "            recon_loss = approximate_recon_loss(node_targets,\n",
        "                                                node_preds,\n",
        "                                                triu_targets,\n",
        "                                                triu_preds)\n",
        "            batch_recon_loss.append(recon_loss)\n",
        "\n",
        "    # Take average of all losses\n",
        "    num_graphs = torch.unique(batch_index).shape[0]\n",
        "    batch_recon_loss = torch.true_divide(sum(batch_recon_loss),  num_graphs)\n",
        "\n",
        "    # KL Divergence\n",
        "    kl_divergence = kl_loss(mu, logvar)\n",
        "\n",
        "    return batch_recon_loss + kl_beta * kl_divergence, kl_divergence"
      ],
      "metadata": {
        "id": "5RKANUKwDsxq"
      },
      "execution_count": null,
      "outputs": []
    },
    {
      "cell_type": "markdown",
      "source": [
        "# Model 1"
      ],
      "metadata": {
        "id": "GRO17y6_ZWX0"
      }
    },
    {
      "cell_type": "code",
      "source": [
        "import torch\n",
        "import torch.nn as nn\n",
        "from torch.nn import Linear\n",
        "from torch_geometric.nn.conv import TransformerConv\n",
        "from torch_geometric.nn import Set2Set\n",
        "from torch_geometric.nn import BatchNorm\n",
        "from tqdm import tqdm\n",
        "\n",
        "MAX_MAT_SIZE = 15\n",
        "NUM_ATOMS = len(elemList)\n",
        "\n",
        "class GVAE(nn.Module):\n",
        "    def __init__(self, feature_size=4):\n",
        "        super(GVAE, self).__init__()\n",
        "        self.encoder_embedding_size = 64\n",
        "        self.latent_embedding_size = 128\n",
        "        self.num_atom_types = NUM_ATOMS\n",
        "        self.max_num_atoms = MAX_MAT_SIZE\n",
        "        self.decoder_hidden_neurons = 512\n",
        "        self.device = DEVICE\n",
        "\n",
        "        # Encoder layers\n",
        "        self.conv1 = TransformerConv(feature_size,\n",
        "                                    self.encoder_embedding_size,\n",
        "                                    heads=4,\n",
        "                                    concat=False,\n",
        "                                    beta=True)\n",
        "        self.bn1 = BatchNorm(self.encoder_embedding_size)\n",
        "        self.conv2 = TransformerConv(self.encoder_embedding_size,\n",
        "                                    self.encoder_embedding_size,\n",
        "                                    heads=4,\n",
        "                                    concat=False,\n",
        "                                    beta=True)\n",
        "        self.bn2 = BatchNorm(self.encoder_embedding_size)\n",
        "        self.conv3 = TransformerConv(self.encoder_embedding_size,\n",
        "                                    self.encoder_embedding_size,\n",
        "                                    heads=4,\n",
        "                                    concat=False,\n",
        "                                    beta=True)\n",
        "        self.bn3 = BatchNorm(self.encoder_embedding_size)\n",
        "        self.conv4 = TransformerConv(self.encoder_embedding_size,\n",
        "                                    self.encoder_embedding_size,\n",
        "                                    heads=4,\n",
        "                                    concat=False,\n",
        "                                    beta=True)\n",
        "\n",
        "        # Pooling layers\n",
        "        self.pooling = Set2Set(self.encoder_embedding_size, processing_steps=4)\n",
        "\n",
        "        self.intermediate_linear = Linear(self.encoder_embedding_size * 2, 127)\n",
        "\n",
        "        # Latent transform layers\n",
        "        self.mu_transform = Linear(self.latent_embedding_size,\n",
        "                                            self.latent_embedding_size)\n",
        "        self.logvar_transform = Linear(self.latent_embedding_size,\n",
        "                                            self.latent_embedding_size)\n",
        "\n",
        "        # Decoder layers\n",
        "        # --- Shared layers\n",
        "        self.linear_1 = Linear(self.latent_embedding_size, self.decoder_hidden_neurons)\n",
        "        self.linear_2 = Linear(self.decoder_hidden_neurons, self.decoder_hidden_neurons)\n",
        "\n",
        "        # --- Atom decoding (outputs a matrix: (max_num_atoms) * (# atom_types + \"none\"-type + x-coord + y-coord + z-coord))\n",
        "        atom_output_dim = self.max_num_atoms*(self.num_atom_types + 1 + 3)\n",
        "        self.atom_decode = Linear(self.decoder_hidden_neurons, atom_output_dim)\n",
        "\n",
        "        # --- Edge decoding (outputs a triu tensor: (max_num_atoms*(max_num_atoms-1)/2))\n",
        "        edge_output_dim = int(((self.max_num_atoms * (self.max_num_atoms - 1)) / 2) * 2)\n",
        "        self.edge_decode = Linear(self.decoder_hidden_neurons, edge_output_dim)\n",
        "\n",
        "\n",
        "    def encode(self, x, edge_index, shear_modulus, batch_index):\n",
        "        # GNN layers\n",
        "        x = self.conv1(x, edge_index).relu()\n",
        "        x = self.bn1(x)\n",
        "        x = self.conv2(x, edge_index).relu()\n",
        "        x = self.bn2(x)\n",
        "        x = self.conv3(x, edge_index).relu()\n",
        "        x = self.bn3(x)\n",
        "        x = self.conv4(x, edge_index).relu()\n",
        "\n",
        "        # Pool to global representation\n",
        "        x = self.pooling(x, batch_index)\n",
        "\n",
        "        #Reduce size to add Shear Modulus\n",
        "        x = self.intermediate_linear(x)\n",
        "\n",
        "        shear_modulus = shear_modulus.unsqueeze(-1)\n",
        "\n",
        "        # Concatenate normalized shear modulus to make it 128 elements\n",
        "        x = torch.cat((x, shear_modulus), dim=1)\n",
        "\n",
        "        # Latent transform layers\n",
        "        mu = self.mu_transform(x)\n",
        "        logvar = self.logvar_transform(x)\n",
        "        return mu, logvar\n",
        "\n",
        "    def decode_graph(self, graph_z):\n",
        "        \"\"\"\n",
        "        Decodes a latent vector into a continuous graph representation\n",
        "        consisting of node types and edge types.\n",
        "        \"\"\"\n",
        "        # Pass through shared layers\n",
        "        z = self.linear_1(graph_z).relu()\n",
        "        z = self.linear_2(z).relu()\n",
        "        # Decode atom types\n",
        "        atom_logits = self.atom_decode(z)\n",
        "        # Decode edge types\n",
        "        edge_logits = self.edge_decode(z)\n",
        "\n",
        "        return atom_logits, edge_logits\n",
        "\n",
        "\n",
        "    def decode(self, z, batch_index):\n",
        "        node_logits = []\n",
        "        triu_logits = []\n",
        "        # Iterate over molecules in batch\n",
        "        for graph_id in torch.unique(batch_index):\n",
        "            # Get latent vector for this graph\n",
        "            graph_z = z[graph_id]\n",
        "\n",
        "            # Recover graph from latent vector\n",
        "            atom_logits, edge_logits = self.decode_graph(graph_z)\n",
        "\n",
        "            # Store per graph results\n",
        "            node_logits.append(atom_logits)\n",
        "            triu_logits.append(edge_logits)\n",
        "\n",
        "        # Concatenate all outputs of the batch\n",
        "        node_logits = torch.cat(node_logits)\n",
        "        triu_logits = torch.cat(triu_logits)\n",
        "        return triu_logits, node_logits\n",
        "\n",
        "\n",
        "    def reparameterize(self, mu, logvar):\n",
        "        if self.training:\n",
        "            # Get standard deviation\n",
        "            std = torch.exp(logvar)\n",
        "            # Returns random numbers from a normal distribution\n",
        "            eps = torch.randn_like(std)\n",
        "            # Return sampled values\n",
        "            return eps.mul(std).add_(mu)\n",
        "        else:\n",
        "            return mu\n",
        "\n",
        "    def forward(self, x, edge_index, shear_modulus, batch_index):\n",
        "      # Encode the molecule\n",
        "      mu, logvar = self.encode(x, edge_index, shear_modulus, batch_index)\n",
        "      # Sample latent vector (per atom)\n",
        "      z = self.reparameterize(mu, logvar)\n",
        "      # Decode latent vector into original molecule\n",
        "      triu_logits, node_logits = self.decode(z, batch_index)\n",
        "      return triu_logits, node_logits, mu, logvar\n",
        "\n",
        "\n",
        "\n",
        "    def sample_graphs(self, desired_shear_modulus, num=100):\n",
        "      print(\"Sampling materials ... \")\n",
        "\n",
        "      device = self.device\n",
        "\n",
        "      desired_shear_modulus = (desired_shear_modulus - SM_mean) / SM_std\n",
        "      desired_shear_modulus = torch.tensor([desired_shear_modulus], dtype=torch.float32, device=device)\n",
        "\n",
        "      mats = []\n",
        "\n",
        "      # Sample materials and check if they are valid\n",
        "      for _ in tqdm(range(num)):\n",
        "          # Sample latent space\n",
        "          z = torch.randn(1, self.latent_embedding_size - 1, device=device)\n",
        "\n",
        "          # Adjust dimensions of desired_shear_modulus\n",
        "          desired_shear_modulus_unsqueezed = desired_shear_modulus.unsqueeze(1)\n",
        "\n",
        "          # Concatenate normalized shear modulus to make it 128 elements\n",
        "          z = torch.cat((z, desired_shear_modulus_unsqueezed), dim=1)\n",
        "\n",
        "          # Get model output (this could also be batched)\n",
        "          dummy_batch_index = torch.tensor([0], dtype=torch.int32, device=device)\n",
        "          t, n = self.decode(z, dummy_batch_index)\n",
        "\n",
        "          node_matrix_shape = (MAX_MAT_SIZE, (NUM_ATOMS + 1 + 3))\n",
        "          node_preds_matrix = n.view(node_matrix_shape)\n",
        "          node_preds = torch.argmax(node_preds_matrix[:, :-3], dim=1)\n",
        "          node_coords = node_preds_matrix[:, -3:]\n",
        "\n",
        "          node_preds_reshaped = node_preds.to(node_coords.dtype).unsqueeze(1)\n",
        "          node_features = torch.cat((node_preds_reshaped, node_coords), dim=1)\n",
        "\n",
        "          edge_matrix_shape = (int((MAX_MAT_SIZE * (MAX_MAT_SIZE - 1)) / 2), 2)\n",
        "          triu_preds_matrix = t.view(edge_matrix_shape)\n",
        "          triu_preds = torch.argmax(triu_preds_matrix, dim=1)\n",
        "\n",
        "          edges = torch.tensor([[0, 0]], device=device)\n",
        "\n",
        "          index = 0\n",
        "          for i in range(15):\n",
        "              for j in range(i+1, 15):\n",
        "                  if triu_preds[index] == 1 and node_preds[i] != 88 and node_preds[j] != 88:\n",
        "                      edge = torch.tensor([[i, j]], device=device)\n",
        "                      edges = torch.cat((edges, edge), dim=0)\n",
        "                  index += 1\n",
        "\n",
        "          edges = edges[1:].t()\n",
        "\n",
        "          index_to_remove = torch.where(node_preds == 88)[0]\n",
        "          for ind in reversed(index_to_remove):\n",
        "              mask = torch.arange(node_features.size(0), device=device) != ind\n",
        "\n",
        "              # Apply the mask\n",
        "              node_features = node_features[mask]\n",
        "              edges = edges[(edges[:, 0] != ind) & (edges[:, 1] != ind)]\n",
        "\n",
        "              # Decrement indices of nodes after the removed node\n",
        "              edges[edges >= ind] -= 1\n",
        "\n",
        "          gen_graph = torch_geometric.data.Data(x=node_features, edge_index=edges)\n",
        "          mats.append(gen_graph)\n",
        "\n",
        "      return mats\n",
        "\n",
        "def save_checkpoint(checkpoint):\n",
        "    torch.save(checkpoint, '/content/drive/My Drive/checkpoint.pth.tar')\n",
        "\n",
        "def load_checkpoint(checkpoint):\n",
        "    model.load_state_dict(checkpoint['model_state_dict'])\n",
        "    optimizer.load_state_dict(checkpoint['optimizer_state_dict'])"
      ],
      "metadata": {
        "id": "9cCgQNtJZUsO"
      },
      "execution_count": null,
      "outputs": []
    },
    {
      "cell_type": "markdown",
      "source": [
        "# Model 2"
      ],
      "metadata": {
        "id": "rUvFf-4eez2-"
      }
    },
    {
      "cell_type": "code",
      "source": [
        "import torch\n",
        "import torch.nn as nn\n",
        "from torch.nn import Linear\n",
        "from torch_geometric.nn import TransformerConv, Set2Set, BatchNorm\n",
        "from torch_geometric.data import DataLoader\n",
        "\n",
        "MAX_MAT_SIZE = 15\n",
        "NUM_ATOMS = len(elemList)  # Define elemList appropriately\n",
        "\n",
        "class GraphGenerator(nn.Module):\n",
        "    def __init__(self, feature_size=4):\n",
        "        super(GraphGenerator, self).__init__()\n",
        "        self.encoder_embedding_size = 64\n",
        "        self.latent_embedding_size = 128\n",
        "        self.num_atom_types = NUM_ATOMS\n",
        "        self.max_num_atoms = MAX_MAT_SIZE\n",
        "        self.decoder_hidden_neurons = 512\n",
        "\n",
        "        # Latent space dimension includes shear modulus\n",
        "        self.latent_dim = self.latent_embedding_size + 1\n",
        "\n",
        "        # Generator layers\n",
        "        self.linear_1 = Linear(self.latent_dim, self.decoder_hidden_neurons)\n",
        "        self.linear_2 = Linear(self.decoder_hidden_neurons, self.decoder_hidden_neurons)\n",
        "\n",
        "        # Atom decoding\n",
        "        atom_output_dim = self.max_num_atoms * (self.num_atom_types + 1 + 3)\n",
        "        self.atom_decode = Linear(self.decoder_hidden_neurons, atom_output_dim)\n",
        "\n",
        "        # Edge decoding\n",
        "        edge_output_dim = int(((self.max_num_atoms * (self.max_num_atoms - 1)) / 2) * 2)\n",
        "        self.edge_decode = Linear(self.decoder_hidden_neurons, edge_output_dim)\n",
        "\n",
        "    def forward(self, z):\n",
        "        z = z.relu()\n",
        "        z = self.linear_1(z).relu()\n",
        "        z = self.linear_2(z).relu()\n",
        "\n",
        "        atom_logits = self.atom_decode(z)\n",
        "        edge_logits = self.edge_decode(z)\n",
        "\n",
        "        return atom_logits, edge_logits\n",
        "\n",
        "\n",
        "class GraphDiscriminator(nn.Module):\n",
        "    def __init__(self, feature_size=4):\n",
        "        super(GraphDiscriminator, self).__init__()\n",
        "        self.encoder_embedding_size = 64\n",
        "\n",
        "        # Encoder layers\n",
        "        self.conv1 = TransformerConv(feature_size,\n",
        "                                     self.encoder_embedding_size,\n",
        "                                     heads=4, concat=False, beta=True)\n",
        "        self.bn1 = BatchNorm(self.encoder_embedding_size)\n",
        "\n",
        "        # Pooling\n",
        "        self.pooling = Set2Set(self.encoder_embedding_size, processing_steps=4)\n",
        "\n",
        "        # Classification layer\n",
        "        self.classifier = Linear(self.encoder_embedding_size * 2, 1)\n",
        "\n",
        "    def forward(self, x, edge_index, batch_index):\n",
        "        x = self.conv1(x, edge_index).relu()\n",
        "        x = self.bn1(x)\n",
        "        x = self.pooling(x, batch_index)\n",
        "\n",
        "        return torch.sigmoid(self.classifier(x))\n",
        "\n",
        "\n",
        "def train_gan(generator, discriminator, data_loader, device=DEVICE):\n",
        "    optimizer_G = torch.optim.Adam(generator.parameters(), lr=0.001)\n",
        "    optimizer_D = torch.optim.Adam(discriminator.parameters(), lr=0.001)\n",
        "    criterion = nn.BCELoss()\n",
        "\n",
        "    for epoch in range(50):  # Example epoch count\n",
        "        for data in data_loader:\n",
        "            # Train Discriminator\n",
        "            optimizer_D.zero_grad()\n",
        "            real_data = data.to(device)\n",
        "            real_output = discriminator(real_data.x, real_data.edge_index, real_data.batch)\n",
        "            real_label = torch.ones(real_output.shape[0], 1, device=device)\n",
        "            loss_D_real = criterion(real_output, real_label)\n",
        "\n",
        "            z = torch.randn(real_data.num_graphs, generator.latent_dim, device=device)\n",
        "            generated_atoms, generated_edges = generator(z)\n",
        "            fake_output = discriminator(generated_atoms, generated_edges, real_data.batch)\n",
        "            fake_label = torch.zeros(fake_output.shape[0], 1, device=device)\n",
        "            loss_D_fake = criterion(fake_output, fake_label)\n",
        "\n",
        "            loss_D = (loss_D_real + loss_D_fake) / 2\n",
        "            loss_D.backward()\n",
        "            optimizer_D.step()\n",
        "\n",
        "            # Train Generator\n",
        "            optimizer_G.zero_grad()\n",
        "            z = torch.randn(real_data.num_graphs, generator.latent_dim, device=device)\n",
        "            generated_atoms, generated_edges = generator(z)\n",
        "            fake_output = discriminator(generated_atoms, generated_edges, real_data.batch)\n",
        "            loss_G = criterion(fake_output, real_label)\n",
        "            loss_G.backward()\n",
        "            optimizer_G.step()\n",
        "\n",
        "            print(f\"Epoch {epoch}, Loss D: {loss_D.item()}, Loss G: {loss_G.item()}\")\n",
        "\n",
        "train_dataset = MaterialsDataset\n",
        "test_dataset = MaterialsDataset[:1000]\n",
        "train_loader = DataLoader(train_dataset, batch_size=32, shuffle=True)\n",
        "test_loader = DataLoader(test_dataset, batch_size=32, shuffle=True)\n",
        "\n",
        "generator = GraphGenerator().to(device)\n",
        "discriminator = GraphDiscriminator().to(device)\n",
        "train_gan(generator, discriminator, train_loader)\n"
      ],
      "metadata": {
        "id": "0p4AvxgbexRc"
      },
      "execution_count": null,
      "outputs": []
    },
    {
      "cell_type": "markdown",
      "source": [
        "#Train"
      ],
      "metadata": {
        "id": "GaofKTG4D69o"
      }
    },
    {
      "cell_type": "code",
      "source": [
        "import mlflow.pytorch\n",
        "\n",
        "mlflow.set_tracking_uri(\"/content/drive/My Drive/mlruns\")\n",
        "mlflow.set_experiment(\"GVAE Test 1\")"
      ],
      "metadata": {
        "colab": {
          "base_uri": "https://localhost:8080/"
        },
        "id": "1blv5TmZVbIz",
        "outputId": "8be9c86e-a463-4a44-939d-c58dcc30c97b"
      },
      "execution_count": null,
      "outputs": [
        {
          "output_type": "stream",
          "name": "stderr",
          "text": [
            "2024/04/14 11:52:42 INFO mlflow.tracking.fluent: Experiment with name 'GVAE Test 1' does not exist. Creating a new experiment.\n"
          ]
        },
        {
          "output_type": "execute_result",
          "data": {
            "text/plain": [
              "<Experiment: artifact_location='/content/drive/My Drive/mlruns/358276506967947079', creation_time=1713095562385, experiment_id='358276506967947079', last_update_time=1713095562385, lifecycle_stage='active', name='GVAE Test 1', tags={}>"
            ]
          },
          "metadata": {},
          "execution_count": 27
        }
      ]
    },
    {
      "cell_type": "code",
      "source": [
        "import torch\n",
        "from torch_geometric.data import DataLoader\n",
        "from tqdm import tqdm\n",
        "import numpy as np\n",
        "\n",
        "\n",
        "# Load data\n",
        "train_dataset = MaterialsDataset\n",
        "test_dataset = MaterialsDataset[:1000]\n",
        "train_loader = DataLoader(train_dataset, batch_size=32, shuffle=True)\n",
        "test_loader = DataLoader(test_dataset, batch_size=32, shuffle=True)\n",
        "\n",
        "# Load model\n",
        "model = GVAE()\n",
        "model = model.to(device)\n",
        "print(\"Model parameters: \", count_parameters(model))\n",
        "\n",
        "# Define loss and optimizer\n",
        "loss_fn = gvae_loss\n",
        "optimizer = torch.optim.Adam(model.parameters(), lr=0.002)\n",
        "kl_beta = 0.5\n",
        "\n",
        "# Train function\n",
        "def run_one_epoch(data_loader, type, epoch, kl_beta):\n",
        "    # Store per batch loss and accuracy\n",
        "    all_losses = []\n",
        "    all_kldivs = []\n",
        "\n",
        "    # Iterate over data loader\n",
        "    for _, batch in enumerate(tqdm(data_loader)):\n",
        "            # Use GPU\n",
        "            batch.to(device)\n",
        "            # Reset gradients\n",
        "            optimizer.zero_grad()\n",
        "            # Call model\n",
        "            triu_logits, node_logits, mu, logvar = model(batch.x.float(),\n",
        "                                                        batch.edge_index,\n",
        "                                                        batch.SM.float(),\n",
        "                                                        batch.batch)\n",
        "            # Calculate loss and backpropagate\n",
        "            loss, kl_div = loss_fn(triu_logits, node_logits,\n",
        "                                   batch.edge_index,\n",
        "                                   batch.x.float(), mu, logvar,\n",
        "                                   batch.batch, kl_beta)\n",
        "            if type == \"Train\":\n",
        "                loss.backward()\n",
        "                optimizer.step()\n",
        "            # Store loss and metrics\n",
        "            all_losses.append(loss.detach().cpu().numpy())\n",
        "            #all_accs.append(acc)\n",
        "            all_kldivs.append(kl_div.detach().cpu().numpy())\n",
        "\n",
        "    print(f\"{type} epoch {epoch} loss: \", np.array(all_losses).mean())\n",
        "    mlflow.log_metric(key=f\"{type} Epoch Loss\", value=float(np.array(all_losses).mean()), step=epoch)\n",
        "    mlflow.log_metric(key=f\"{type} KL Divergence\", value=float(np.array(all_kldivs).mean()), step=epoch)\n",
        "    mlflow.pytorch.log_model(model, \"model\")\n",
        "\n",
        "# Run training\n",
        "with mlflow.start_run() as run:\n",
        "    for epoch in range(101):\n",
        "        checkpoint = {\n",
        "          \"epoch\": epoch,\n",
        "          \"model_state_dict\": model.state_dict(),\n",
        "          \"optimizer_state_dict\": optimizer.state_dict(),\n",
        "        }\n",
        "        save_checkpoint(checkpoint)\n",
        "        model.train()\n",
        "        run_one_epoch(train_loader, type=\"Train\", epoch=epoch, kl_beta=kl_beta)\n",
        "\n",
        "    mlflow.pytorch.log_model(model, \"model\")"
      ],
      "metadata": {
        "id": "zi8R2toJD-hp",
        "colab": {
          "base_uri": "https://localhost:8080/"
        },
        "outputId": "a97c07ab-dfb4-441d-c729-f2dc20ce7eef"
      },
      "execution_count": null,
      "outputs": [
        {
          "output_type": "stream",
          "name": "stdout",
          "text": [
            "Model parameters:  1410997\n"
          ]
        },
        {
          "output_type": "stream",
          "name": "stderr",
          "text": [
            "100%|██████████| 281/281 [02:51<00:00,  1.64it/s]\n",
            "2024/04/14 11:55:45 WARNING mlflow.utils.requirements_utils: Found torch version (2.2.1+cu121) contains a local version label (+cu121). MLflow logged a pip requirement for this package as 'torch==2.2.1' without the local version label to make it installable from PyPI. To specify pip requirements containing local version labels, please use `conda_env` or `pip_requirements`.\n"
          ]
        },
        {
          "output_type": "stream",
          "name": "stdout",
          "text": [
            "Train epoch 0 loss:  2063.0513\n"
          ]
        },
        {
          "output_type": "stream",
          "name": "stderr",
          "text": [
            "2024/04/14 11:55:51 WARNING mlflow.utils.requirements_utils: Found jaxlib version (0.4.26+cuda12.cudnn89) contains a local version label (+cuda12.cudnn89). MLflow logged a pip requirement for this package as 'jaxlib==0.4.26' without the local version label to make it installable from PyPI. To specify pip requirements containing local version labels, please use `conda_env` or `pip_requirements`.\n",
            "100%|██████████| 281/281 [02:50<00:00,  1.65it/s]\n",
            "2024/04/14 11:58:42 WARNING mlflow.utils.requirements_utils: Found torch version (2.2.1+cu121) contains a local version label (+cu121). MLflow logged a pip requirement for this package as 'torch==2.2.1' without the local version label to make it installable from PyPI. To specify pip requirements containing local version labels, please use `conda_env` or `pip_requirements`.\n"
          ]
        },
        {
          "output_type": "stream",
          "name": "stdout",
          "text": [
            "Train epoch 1 loss:  1940.612\n"
          ]
        },
        {
          "output_type": "stream",
          "name": "stderr",
          "text": [
            "2024/04/14 11:58:49 WARNING mlflow.utils.requirements_utils: Found jaxlib version (0.4.26+cuda12.cudnn89) contains a local version label (+cuda12.cudnn89). MLflow logged a pip requirement for this package as 'jaxlib==0.4.26' without the local version label to make it installable from PyPI. To specify pip requirements containing local version labels, please use `conda_env` or `pip_requirements`.\n",
            "100%|██████████| 281/281 [02:50<00:00,  1.64it/s]\n",
            "2024/04/14 12:01:40 WARNING mlflow.utils.requirements_utils: Found torch version (2.2.1+cu121) contains a local version label (+cu121). MLflow logged a pip requirement for this package as 'torch==2.2.1' without the local version label to make it installable from PyPI. To specify pip requirements containing local version labels, please use `conda_env` or `pip_requirements`.\n"
          ]
        },
        {
          "output_type": "stream",
          "name": "stdout",
          "text": [
            "Train epoch 2 loss:  1895.513\n"
          ]
        },
        {
          "output_type": "stream",
          "name": "stderr",
          "text": [
            "2024/04/14 12:01:47 WARNING mlflow.utils.requirements_utils: Found jaxlib version (0.4.26+cuda12.cudnn89) contains a local version label (+cuda12.cudnn89). MLflow logged a pip requirement for this package as 'jaxlib==0.4.26' without the local version label to make it installable from PyPI. To specify pip requirements containing local version labels, please use `conda_env` or `pip_requirements`.\n",
            "100%|██████████| 281/281 [02:50<00:00,  1.65it/s]\n",
            "2024/04/14 12:04:37 WARNING mlflow.utils.requirements_utils: Found torch version (2.2.1+cu121) contains a local version label (+cu121). MLflow logged a pip requirement for this package as 'torch==2.2.1' without the local version label to make it installable from PyPI. To specify pip requirements containing local version labels, please use `conda_env` or `pip_requirements`.\n"
          ]
        },
        {
          "output_type": "stream",
          "name": "stdout",
          "text": [
            "Train epoch 3 loss:  1866.9177\n"
          ]
        },
        {
          "output_type": "stream",
          "name": "stderr",
          "text": [
            "2024/04/14 12:04:44 WARNING mlflow.utils.requirements_utils: Found jaxlib version (0.4.26+cuda12.cudnn89) contains a local version label (+cuda12.cudnn89). MLflow logged a pip requirement for this package as 'jaxlib==0.4.26' without the local version label to make it installable from PyPI. To specify pip requirements containing local version labels, please use `conda_env` or `pip_requirements`.\n",
            "100%|██████████| 281/281 [02:51<00:00,  1.64it/s]\n",
            "2024/04/14 12:07:35 WARNING mlflow.utils.requirements_utils: Found torch version (2.2.1+cu121) contains a local version label (+cu121). MLflow logged a pip requirement for this package as 'torch==2.2.1' without the local version label to make it installable from PyPI. To specify pip requirements containing local version labels, please use `conda_env` or `pip_requirements`.\n"
          ]
        },
        {
          "output_type": "stream",
          "name": "stdout",
          "text": [
            "Train epoch 4 loss:  1845.5089\n"
          ]
        },
        {
          "output_type": "stream",
          "name": "stderr",
          "text": [
            "2024/04/14 12:07:42 WARNING mlflow.utils.requirements_utils: Found jaxlib version (0.4.26+cuda12.cudnn89) contains a local version label (+cuda12.cudnn89). MLflow logged a pip requirement for this package as 'jaxlib==0.4.26' without the local version label to make it installable from PyPI. To specify pip requirements containing local version labels, please use `conda_env` or `pip_requirements`.\n",
            "100%|██████████| 281/281 [02:51<00:00,  1.64it/s]\n",
            "2024/04/14 12:10:33 WARNING mlflow.utils.requirements_utils: Found torch version (2.2.1+cu121) contains a local version label (+cu121). MLflow logged a pip requirement for this package as 'torch==2.2.1' without the local version label to make it installable from PyPI. To specify pip requirements containing local version labels, please use `conda_env` or `pip_requirements`.\n"
          ]
        },
        {
          "output_type": "stream",
          "name": "stdout",
          "text": [
            "Train epoch 5 loss:  1862.4941\n"
          ]
        },
        {
          "output_type": "stream",
          "name": "stderr",
          "text": [
            "2024/04/14 12:10:40 WARNING mlflow.utils.requirements_utils: Found jaxlib version (0.4.26+cuda12.cudnn89) contains a local version label (+cuda12.cudnn89). MLflow logged a pip requirement for this package as 'jaxlib==0.4.26' without the local version label to make it installable from PyPI. To specify pip requirements containing local version labels, please use `conda_env` or `pip_requirements`.\n",
            "100%|██████████| 281/281 [02:50<00:00,  1.64it/s]\n",
            "2024/04/14 12:13:31 WARNING mlflow.utils.requirements_utils: Found torch version (2.2.1+cu121) contains a local version label (+cu121). MLflow logged a pip requirement for this package as 'torch==2.2.1' without the local version label to make it installable from PyPI. To specify pip requirements containing local version labels, please use `conda_env` or `pip_requirements`.\n"
          ]
        },
        {
          "output_type": "stream",
          "name": "stdout",
          "text": [
            "Train epoch 6 loss:  1842.4934\n"
          ]
        },
        {
          "output_type": "stream",
          "name": "stderr",
          "text": [
            "2024/04/14 12:13:38 WARNING mlflow.utils.requirements_utils: Found jaxlib version (0.4.26+cuda12.cudnn89) contains a local version label (+cuda12.cudnn89). MLflow logged a pip requirement for this package as 'jaxlib==0.4.26' without the local version label to make it installable from PyPI. To specify pip requirements containing local version labels, please use `conda_env` or `pip_requirements`.\n",
            "100%|██████████| 281/281 [02:51<00:00,  1.64it/s]\n",
            "2024/04/14 12:16:29 WARNING mlflow.utils.requirements_utils: Found torch version (2.2.1+cu121) contains a local version label (+cu121). MLflow logged a pip requirement for this package as 'torch==2.2.1' without the local version label to make it installable from PyPI. To specify pip requirements containing local version labels, please use `conda_env` or `pip_requirements`.\n"
          ]
        },
        {
          "output_type": "stream",
          "name": "stdout",
          "text": [
            "Train epoch 7 loss:  1841.8601\n"
          ]
        },
        {
          "output_type": "stream",
          "name": "stderr",
          "text": [
            "2024/04/14 12:16:36 WARNING mlflow.utils.requirements_utils: Found jaxlib version (0.4.26+cuda12.cudnn89) contains a local version label (+cuda12.cudnn89). MLflow logged a pip requirement for this package as 'jaxlib==0.4.26' without the local version label to make it installable from PyPI. To specify pip requirements containing local version labels, please use `conda_env` or `pip_requirements`.\n",
            "100%|██████████| 281/281 [02:50<00:00,  1.65it/s]\n",
            "2024/04/14 12:19:27 WARNING mlflow.utils.requirements_utils: Found torch version (2.2.1+cu121) contains a local version label (+cu121). MLflow logged a pip requirement for this package as 'torch==2.2.1' without the local version label to make it installable from PyPI. To specify pip requirements containing local version labels, please use `conda_env` or `pip_requirements`.\n"
          ]
        },
        {
          "output_type": "stream",
          "name": "stdout",
          "text": [
            "Train epoch 8 loss:  1843.5116\n"
          ]
        },
        {
          "output_type": "stream",
          "name": "stderr",
          "text": [
            "2024/04/14 12:19:33 WARNING mlflow.utils.requirements_utils: Found jaxlib version (0.4.26+cuda12.cudnn89) contains a local version label (+cuda12.cudnn89). MLflow logged a pip requirement for this package as 'jaxlib==0.4.26' without the local version label to make it installable from PyPI. To specify pip requirements containing local version labels, please use `conda_env` or `pip_requirements`.\n",
            "100%|██████████| 281/281 [02:50<00:00,  1.65it/s]\n",
            "2024/04/14 12:22:24 WARNING mlflow.utils.requirements_utils: Found torch version (2.2.1+cu121) contains a local version label (+cu121). MLflow logged a pip requirement for this package as 'torch==2.2.1' without the local version label to make it installable from PyPI. To specify pip requirements containing local version labels, please use `conda_env` or `pip_requirements`.\n"
          ]
        },
        {
          "output_type": "stream",
          "name": "stdout",
          "text": [
            "Train epoch 9 loss:  1823.0919\n"
          ]
        },
        {
          "output_type": "stream",
          "name": "stderr",
          "text": [
            "2024/04/14 12:22:31 WARNING mlflow.utils.requirements_utils: Found jaxlib version (0.4.26+cuda12.cudnn89) contains a local version label (+cuda12.cudnn89). MLflow logged a pip requirement for this package as 'jaxlib==0.4.26' without the local version label to make it installable from PyPI. To specify pip requirements containing local version labels, please use `conda_env` or `pip_requirements`.\n",
            "100%|██████████| 281/281 [02:50<00:00,  1.64it/s]\n",
            "2024/04/14 12:25:22 WARNING mlflow.utils.requirements_utils: Found torch version (2.2.1+cu121) contains a local version label (+cu121). MLflow logged a pip requirement for this package as 'torch==2.2.1' without the local version label to make it installable from PyPI. To specify pip requirements containing local version labels, please use `conda_env` or `pip_requirements`.\n"
          ]
        },
        {
          "output_type": "stream",
          "name": "stdout",
          "text": [
            "Train epoch 10 loss:  1813.157\n"
          ]
        },
        {
          "output_type": "stream",
          "name": "stderr",
          "text": [
            "2024/04/14 12:25:29 WARNING mlflow.utils.requirements_utils: Found jaxlib version (0.4.26+cuda12.cudnn89) contains a local version label (+cuda12.cudnn89). MLflow logged a pip requirement for this package as 'jaxlib==0.4.26' without the local version label to make it installable from PyPI. To specify pip requirements containing local version labels, please use `conda_env` or `pip_requirements`.\n",
            "100%|██████████| 281/281 [02:51<00:00,  1.64it/s]\n",
            "2024/04/14 12:28:20 WARNING mlflow.utils.requirements_utils: Found torch version (2.2.1+cu121) contains a local version label (+cu121). MLflow logged a pip requirement for this package as 'torch==2.2.1' without the local version label to make it installable from PyPI. To specify pip requirements containing local version labels, please use `conda_env` or `pip_requirements`.\n"
          ]
        },
        {
          "output_type": "stream",
          "name": "stdout",
          "text": [
            "Train epoch 11 loss:  1807.0413\n"
          ]
        },
        {
          "output_type": "stream",
          "name": "stderr",
          "text": [
            "2024/04/14 12:28:27 WARNING mlflow.utils.requirements_utils: Found jaxlib version (0.4.26+cuda12.cudnn89) contains a local version label (+cuda12.cudnn89). MLflow logged a pip requirement for this package as 'jaxlib==0.4.26' without the local version label to make it installable from PyPI. To specify pip requirements containing local version labels, please use `conda_env` or `pip_requirements`.\n",
            "100%|██████████| 281/281 [02:51<00:00,  1.64it/s]\n",
            "2024/04/14 12:31:19 WARNING mlflow.utils.requirements_utils: Found torch version (2.2.1+cu121) contains a local version label (+cu121). MLflow logged a pip requirement for this package as 'torch==2.2.1' without the local version label to make it installable from PyPI. To specify pip requirements containing local version labels, please use `conda_env` or `pip_requirements`.\n"
          ]
        },
        {
          "output_type": "stream",
          "name": "stdout",
          "text": [
            "Train epoch 12 loss:  1806.432\n"
          ]
        },
        {
          "output_type": "stream",
          "name": "stderr",
          "text": [
            "2024/04/14 12:31:26 WARNING mlflow.utils.requirements_utils: Found jaxlib version (0.4.26+cuda12.cudnn89) contains a local version label (+cuda12.cudnn89). MLflow logged a pip requirement for this package as 'jaxlib==0.4.26' without the local version label to make it installable from PyPI. To specify pip requirements containing local version labels, please use `conda_env` or `pip_requirements`.\n",
            "100%|██████████| 281/281 [02:52<00:00,  1.63it/s]\n",
            "2024/04/14 12:34:19 WARNING mlflow.utils.requirements_utils: Found torch version (2.2.1+cu121) contains a local version label (+cu121). MLflow logged a pip requirement for this package as 'torch==2.2.1' without the local version label to make it installable from PyPI. To specify pip requirements containing local version labels, please use `conda_env` or `pip_requirements`.\n"
          ]
        },
        {
          "output_type": "stream",
          "name": "stdout",
          "text": [
            "Train epoch 13 loss:  1790.1262\n"
          ]
        },
        {
          "output_type": "stream",
          "name": "stderr",
          "text": [
            "2024/04/14 12:34:25 WARNING mlflow.utils.requirements_utils: Found jaxlib version (0.4.26+cuda12.cudnn89) contains a local version label (+cuda12.cudnn89). MLflow logged a pip requirement for this package as 'jaxlib==0.4.26' without the local version label to make it installable from PyPI. To specify pip requirements containing local version labels, please use `conda_env` or `pip_requirements`.\n",
            "100%|██████████| 281/281 [02:52<00:00,  1.63it/s]\n",
            "2024/04/14 12:37:18 WARNING mlflow.utils.requirements_utils: Found torch version (2.2.1+cu121) contains a local version label (+cu121). MLflow logged a pip requirement for this package as 'torch==2.2.1' without the local version label to make it installable from PyPI. To specify pip requirements containing local version labels, please use `conda_env` or `pip_requirements`.\n"
          ]
        },
        {
          "output_type": "stream",
          "name": "stdout",
          "text": [
            "Train epoch 14 loss:  1799.1813\n"
          ]
        },
        {
          "output_type": "stream",
          "name": "stderr",
          "text": [
            "2024/04/14 12:37:25 WARNING mlflow.utils.requirements_utils: Found jaxlib version (0.4.26+cuda12.cudnn89) contains a local version label (+cuda12.cudnn89). MLflow logged a pip requirement for this package as 'jaxlib==0.4.26' without the local version label to make it installable from PyPI. To specify pip requirements containing local version labels, please use `conda_env` or `pip_requirements`.\n",
            "100%|██████████| 281/281 [02:52<00:00,  1.63it/s]\n",
            "2024/04/14 12:40:18 WARNING mlflow.utils.requirements_utils: Found torch version (2.2.1+cu121) contains a local version label (+cu121). MLflow logged a pip requirement for this package as 'torch==2.2.1' without the local version label to make it installable from PyPI. To specify pip requirements containing local version labels, please use `conda_env` or `pip_requirements`.\n"
          ]
        },
        {
          "output_type": "stream",
          "name": "stdout",
          "text": [
            "Train epoch 15 loss:  1768.7185\n"
          ]
        },
        {
          "output_type": "stream",
          "name": "stderr",
          "text": [
            "2024/04/14 12:40:25 WARNING mlflow.utils.requirements_utils: Found jaxlib version (0.4.26+cuda12.cudnn89) contains a local version label (+cuda12.cudnn89). MLflow logged a pip requirement for this package as 'jaxlib==0.4.26' without the local version label to make it installable from PyPI. To specify pip requirements containing local version labels, please use `conda_env` or `pip_requirements`.\n",
            "100%|██████████| 281/281 [02:52<00:00,  1.63it/s]\n",
            "2024/04/14 12:43:18 WARNING mlflow.utils.requirements_utils: Found torch version (2.2.1+cu121) contains a local version label (+cu121). MLflow logged a pip requirement for this package as 'torch==2.2.1' without the local version label to make it installable from PyPI. To specify pip requirements containing local version labels, please use `conda_env` or `pip_requirements`.\n"
          ]
        },
        {
          "output_type": "stream",
          "name": "stdout",
          "text": [
            "Train epoch 16 loss:  1763.5181\n"
          ]
        },
        {
          "output_type": "stream",
          "name": "stderr",
          "text": [
            "2024/04/14 12:43:25 WARNING mlflow.utils.requirements_utils: Found jaxlib version (0.4.26+cuda12.cudnn89) contains a local version label (+cuda12.cudnn89). MLflow logged a pip requirement for this package as 'jaxlib==0.4.26' without the local version label to make it installable from PyPI. To specify pip requirements containing local version labels, please use `conda_env` or `pip_requirements`.\n",
            "100%|██████████| 281/281 [02:54<00:00,  1.61it/s]\n",
            "2024/04/14 12:46:19 WARNING mlflow.utils.requirements_utils: Found torch version (2.2.1+cu121) contains a local version label (+cu121). MLflow logged a pip requirement for this package as 'torch==2.2.1' without the local version label to make it installable from PyPI. To specify pip requirements containing local version labels, please use `conda_env` or `pip_requirements`.\n"
          ]
        },
        {
          "output_type": "stream",
          "name": "stdout",
          "text": [
            "Train epoch 17 loss:  1755.2106\n"
          ]
        },
        {
          "output_type": "stream",
          "name": "stderr",
          "text": [
            "2024/04/14 12:46:26 WARNING mlflow.utils.requirements_utils: Found jaxlib version (0.4.26+cuda12.cudnn89) contains a local version label (+cuda12.cudnn89). MLflow logged a pip requirement for this package as 'jaxlib==0.4.26' without the local version label to make it installable from PyPI. To specify pip requirements containing local version labels, please use `conda_env` or `pip_requirements`.\n",
            "100%|██████████| 281/281 [02:53<00:00,  1.62it/s]\n",
            "2024/04/14 12:49:20 WARNING mlflow.utils.requirements_utils: Found torch version (2.2.1+cu121) contains a local version label (+cu121). MLflow logged a pip requirement for this package as 'torch==2.2.1' without the local version label to make it installable from PyPI. To specify pip requirements containing local version labels, please use `conda_env` or `pip_requirements`.\n"
          ]
        },
        {
          "output_type": "stream",
          "name": "stdout",
          "text": [
            "Train epoch 18 loss:  1775.2706\n"
          ]
        },
        {
          "output_type": "stream",
          "name": "stderr",
          "text": [
            "2024/04/14 12:49:27 WARNING mlflow.utils.requirements_utils: Found jaxlib version (0.4.26+cuda12.cudnn89) contains a local version label (+cuda12.cudnn89). MLflow logged a pip requirement for this package as 'jaxlib==0.4.26' without the local version label to make it installable from PyPI. To specify pip requirements containing local version labels, please use `conda_env` or `pip_requirements`.\n",
            "100%|██████████| 281/281 [02:52<00:00,  1.62it/s]\n",
            "2024/04/14 12:52:20 WARNING mlflow.utils.requirements_utils: Found torch version (2.2.1+cu121) contains a local version label (+cu121). MLflow logged a pip requirement for this package as 'torch==2.2.1' without the local version label to make it installable from PyPI. To specify pip requirements containing local version labels, please use `conda_env` or `pip_requirements`.\n"
          ]
        },
        {
          "output_type": "stream",
          "name": "stdout",
          "text": [
            "Train epoch 19 loss:  1760.8936\n"
          ]
        },
        {
          "output_type": "stream",
          "name": "stderr",
          "text": [
            "2024/04/14 12:52:27 WARNING mlflow.utils.requirements_utils: Found jaxlib version (0.4.26+cuda12.cudnn89) contains a local version label (+cuda12.cudnn89). MLflow logged a pip requirement for this package as 'jaxlib==0.4.26' without the local version label to make it installable from PyPI. To specify pip requirements containing local version labels, please use `conda_env` or `pip_requirements`.\n",
            "100%|██████████| 281/281 [02:53<00:00,  1.62it/s]\n",
            "2024/04/14 12:55:20 WARNING mlflow.utils.requirements_utils: Found torch version (2.2.1+cu121) contains a local version label (+cu121). MLflow logged a pip requirement for this package as 'torch==2.2.1' without the local version label to make it installable from PyPI. To specify pip requirements containing local version labels, please use `conda_env` or `pip_requirements`.\n"
          ]
        },
        {
          "output_type": "stream",
          "name": "stdout",
          "text": [
            "Train epoch 20 loss:  1723.6572\n"
          ]
        },
        {
          "output_type": "stream",
          "name": "stderr",
          "text": [
            "2024/04/14 12:55:27 WARNING mlflow.utils.requirements_utils: Found jaxlib version (0.4.26+cuda12.cudnn89) contains a local version label (+cuda12.cudnn89). MLflow logged a pip requirement for this package as 'jaxlib==0.4.26' without the local version label to make it installable from PyPI. To specify pip requirements containing local version labels, please use `conda_env` or `pip_requirements`.\n",
            "100%|██████████| 281/281 [02:53<00:00,  1.62it/s]\n",
            "2024/04/14 12:58:21 WARNING mlflow.utils.requirements_utils: Found torch version (2.2.1+cu121) contains a local version label (+cu121). MLflow logged a pip requirement for this package as 'torch==2.2.1' without the local version label to make it installable from PyPI. To specify pip requirements containing local version labels, please use `conda_env` or `pip_requirements`.\n"
          ]
        },
        {
          "output_type": "stream",
          "name": "stdout",
          "text": [
            "Train epoch 21 loss:  1710.602\n"
          ]
        },
        {
          "output_type": "stream",
          "name": "stderr",
          "text": [
            "2024/04/14 12:58:28 WARNING mlflow.utils.requirements_utils: Found jaxlib version (0.4.26+cuda12.cudnn89) contains a local version label (+cuda12.cudnn89). MLflow logged a pip requirement for this package as 'jaxlib==0.4.26' without the local version label to make it installable from PyPI. To specify pip requirements containing local version labels, please use `conda_env` or `pip_requirements`.\n",
            "100%|██████████| 281/281 [02:53<00:00,  1.62it/s]\n",
            "2024/04/14 13:01:22 WARNING mlflow.utils.requirements_utils: Found torch version (2.2.1+cu121) contains a local version label (+cu121). MLflow logged a pip requirement for this package as 'torch==2.2.1' without the local version label to make it installable from PyPI. To specify pip requirements containing local version labels, please use `conda_env` or `pip_requirements`.\n"
          ]
        },
        {
          "output_type": "stream",
          "name": "stdout",
          "text": [
            "Train epoch 22 loss:  1746.1686\n"
          ]
        },
        {
          "output_type": "stream",
          "name": "stderr",
          "text": [
            "2024/04/14 13:01:29 WARNING mlflow.utils.requirements_utils: Found jaxlib version (0.4.26+cuda12.cudnn89) contains a local version label (+cuda12.cudnn89). MLflow logged a pip requirement for this package as 'jaxlib==0.4.26' without the local version label to make it installable from PyPI. To specify pip requirements containing local version labels, please use `conda_env` or `pip_requirements`.\n",
            "100%|██████████| 281/281 [02:53<00:00,  1.62it/s]\n",
            "2024/04/14 13:04:23 WARNING mlflow.utils.requirements_utils: Found torch version (2.2.1+cu121) contains a local version label (+cu121). MLflow logged a pip requirement for this package as 'torch==2.2.1' without the local version label to make it installable from PyPI. To specify pip requirements containing local version labels, please use `conda_env` or `pip_requirements`.\n"
          ]
        },
        {
          "output_type": "stream",
          "name": "stdout",
          "text": [
            "Train epoch 23 loss:  1737.8912\n"
          ]
        },
        {
          "output_type": "stream",
          "name": "stderr",
          "text": [
            "2024/04/14 13:04:30 WARNING mlflow.utils.requirements_utils: Found jaxlib version (0.4.26+cuda12.cudnn89) contains a local version label (+cuda12.cudnn89). MLflow logged a pip requirement for this package as 'jaxlib==0.4.26' without the local version label to make it installable from PyPI. To specify pip requirements containing local version labels, please use `conda_env` or `pip_requirements`.\n",
            "100%|██████████| 281/281 [02:53<00:00,  1.62it/s]\n",
            "2024/04/14 13:07:23 WARNING mlflow.utils.requirements_utils: Found torch version (2.2.1+cu121) contains a local version label (+cu121). MLflow logged a pip requirement for this package as 'torch==2.2.1' without the local version label to make it installable from PyPI. To specify pip requirements containing local version labels, please use `conda_env` or `pip_requirements`.\n"
          ]
        },
        {
          "output_type": "stream",
          "name": "stdout",
          "text": [
            "Train epoch 24 loss:  1739.263\n"
          ]
        },
        {
          "output_type": "stream",
          "name": "stderr",
          "text": [
            "2024/04/14 13:07:30 WARNING mlflow.utils.requirements_utils: Found jaxlib version (0.4.26+cuda12.cudnn89) contains a local version label (+cuda12.cudnn89). MLflow logged a pip requirement for this package as 'jaxlib==0.4.26' without the local version label to make it installable from PyPI. To specify pip requirements containing local version labels, please use `conda_env` or `pip_requirements`.\n",
            "100%|██████████| 281/281 [02:52<00:00,  1.63it/s]\n",
            "2024/04/14 13:10:23 WARNING mlflow.utils.requirements_utils: Found torch version (2.2.1+cu121) contains a local version label (+cu121). MLflow logged a pip requirement for this package as 'torch==2.2.1' without the local version label to make it installable from PyPI. To specify pip requirements containing local version labels, please use `conda_env` or `pip_requirements`.\n"
          ]
        },
        {
          "output_type": "stream",
          "name": "stdout",
          "text": [
            "Train epoch 25 loss:  1727.3728\n"
          ]
        },
        {
          "output_type": "stream",
          "name": "stderr",
          "text": [
            "2024/04/14 13:10:30 WARNING mlflow.utils.requirements_utils: Found jaxlib version (0.4.26+cuda12.cudnn89) contains a local version label (+cuda12.cudnn89). MLflow logged a pip requirement for this package as 'jaxlib==0.4.26' without the local version label to make it installable from PyPI. To specify pip requirements containing local version labels, please use `conda_env` or `pip_requirements`.\n",
            "100%|██████████| 281/281 [02:52<00:00,  1.63it/s]\n",
            "2024/04/14 13:13:22 WARNING mlflow.utils.requirements_utils: Found torch version (2.2.1+cu121) contains a local version label (+cu121). MLflow logged a pip requirement for this package as 'torch==2.2.1' without the local version label to make it installable from PyPI. To specify pip requirements containing local version labels, please use `conda_env` or `pip_requirements`.\n"
          ]
        },
        {
          "output_type": "stream",
          "name": "stdout",
          "text": [
            "Train epoch 26 loss:  1707.0173\n"
          ]
        },
        {
          "output_type": "stream",
          "name": "stderr",
          "text": [
            "2024/04/14 13:13:29 WARNING mlflow.utils.requirements_utils: Found jaxlib version (0.4.26+cuda12.cudnn89) contains a local version label (+cuda12.cudnn89). MLflow logged a pip requirement for this package as 'jaxlib==0.4.26' without the local version label to make it installable from PyPI. To specify pip requirements containing local version labels, please use `conda_env` or `pip_requirements`.\n",
            "100%|██████████| 281/281 [02:53<00:00,  1.62it/s]\n",
            "2024/04/14 13:16:23 WARNING mlflow.utils.requirements_utils: Found torch version (2.2.1+cu121) contains a local version label (+cu121). MLflow logged a pip requirement for this package as 'torch==2.2.1' without the local version label to make it installable from PyPI. To specify pip requirements containing local version labels, please use `conda_env` or `pip_requirements`.\n"
          ]
        },
        {
          "output_type": "stream",
          "name": "stdout",
          "text": [
            "Train epoch 27 loss:  1700.5098\n"
          ]
        },
        {
          "output_type": "stream",
          "name": "stderr",
          "text": [
            "2024/04/14 13:16:29 WARNING mlflow.utils.requirements_utils: Found jaxlib version (0.4.26+cuda12.cudnn89) contains a local version label (+cuda12.cudnn89). MLflow logged a pip requirement for this package as 'jaxlib==0.4.26' without the local version label to make it installable from PyPI. To specify pip requirements containing local version labels, please use `conda_env` or `pip_requirements`.\n",
            "100%|██████████| 281/281 [02:52<00:00,  1.63it/s]\n",
            "2024/04/14 13:19:23 WARNING mlflow.utils.requirements_utils: Found torch version (2.2.1+cu121) contains a local version label (+cu121). MLflow logged a pip requirement for this package as 'torch==2.2.1' without the local version label to make it installable from PyPI. To specify pip requirements containing local version labels, please use `conda_env` or `pip_requirements`.\n"
          ]
        },
        {
          "output_type": "stream",
          "name": "stdout",
          "text": [
            "Train epoch 28 loss:  1695.9379\n"
          ]
        },
        {
          "output_type": "stream",
          "name": "stderr",
          "text": [
            "2024/04/14 13:19:29 WARNING mlflow.utils.requirements_utils: Found jaxlib version (0.4.26+cuda12.cudnn89) contains a local version label (+cuda12.cudnn89). MLflow logged a pip requirement for this package as 'jaxlib==0.4.26' without the local version label to make it installable from PyPI. To specify pip requirements containing local version labels, please use `conda_env` or `pip_requirements`.\n",
            "100%|██████████| 281/281 [02:53<00:00,  1.62it/s]\n",
            "2024/04/14 13:22:23 WARNING mlflow.utils.requirements_utils: Found torch version (2.2.1+cu121) contains a local version label (+cu121). MLflow logged a pip requirement for this package as 'torch==2.2.1' without the local version label to make it installable from PyPI. To specify pip requirements containing local version labels, please use `conda_env` or `pip_requirements`.\n"
          ]
        },
        {
          "output_type": "stream",
          "name": "stdout",
          "text": [
            "Train epoch 29 loss:  1719.8492\n"
          ]
        },
        {
          "output_type": "stream",
          "name": "stderr",
          "text": [
            "2024/04/14 13:22:29 WARNING mlflow.utils.requirements_utils: Found jaxlib version (0.4.26+cuda12.cudnn89) contains a local version label (+cuda12.cudnn89). MLflow logged a pip requirement for this package as 'jaxlib==0.4.26' without the local version label to make it installable from PyPI. To specify pip requirements containing local version labels, please use `conda_env` or `pip_requirements`.\n",
            "100%|██████████| 281/281 [02:53<00:00,  1.62it/s]\n",
            "2024/04/14 13:25:23 WARNING mlflow.utils.requirements_utils: Found torch version (2.2.1+cu121) contains a local version label (+cu121). MLflow logged a pip requirement for this package as 'torch==2.2.1' without the local version label to make it installable from PyPI. To specify pip requirements containing local version labels, please use `conda_env` or `pip_requirements`.\n"
          ]
        },
        {
          "output_type": "stream",
          "name": "stdout",
          "text": [
            "Train epoch 30 loss:  1688.3771\n"
          ]
        },
        {
          "output_type": "stream",
          "name": "stderr",
          "text": [
            "2024/04/14 13:25:30 WARNING mlflow.utils.requirements_utils: Found jaxlib version (0.4.26+cuda12.cudnn89) contains a local version label (+cuda12.cudnn89). MLflow logged a pip requirement for this package as 'jaxlib==0.4.26' without the local version label to make it installable from PyPI. To specify pip requirements containing local version labels, please use `conda_env` or `pip_requirements`.\n",
            "100%|██████████| 281/281 [02:53<00:00,  1.62it/s]\n",
            "2024/04/14 13:28:24 WARNING mlflow.utils.requirements_utils: Found torch version (2.2.1+cu121) contains a local version label (+cu121). MLflow logged a pip requirement for this package as 'torch==2.2.1' without the local version label to make it installable from PyPI. To specify pip requirements containing local version labels, please use `conda_env` or `pip_requirements`.\n"
          ]
        },
        {
          "output_type": "stream",
          "name": "stdout",
          "text": [
            "Train epoch 31 loss:  1694.9526\n"
          ]
        },
        {
          "output_type": "stream",
          "name": "stderr",
          "text": [
            "2024/04/14 13:28:31 WARNING mlflow.utils.requirements_utils: Found jaxlib version (0.4.26+cuda12.cudnn89) contains a local version label (+cuda12.cudnn89). MLflow logged a pip requirement for this package as 'jaxlib==0.4.26' without the local version label to make it installable from PyPI. To specify pip requirements containing local version labels, please use `conda_env` or `pip_requirements`.\n",
            "100%|██████████| 281/281 [02:53<00:00,  1.62it/s]\n",
            "2024/04/14 13:31:24 WARNING mlflow.utils.requirements_utils: Found torch version (2.2.1+cu121) contains a local version label (+cu121). MLflow logged a pip requirement for this package as 'torch==2.2.1' without the local version label to make it installable from PyPI. To specify pip requirements containing local version labels, please use `conda_env` or `pip_requirements`.\n"
          ]
        },
        {
          "output_type": "stream",
          "name": "stdout",
          "text": [
            "Train epoch 32 loss:  1668.474\n"
          ]
        },
        {
          "output_type": "stream",
          "name": "stderr",
          "text": [
            "2024/04/14 13:31:31 WARNING mlflow.utils.requirements_utils: Found jaxlib version (0.4.26+cuda12.cudnn89) contains a local version label (+cuda12.cudnn89). MLflow logged a pip requirement for this package as 'jaxlib==0.4.26' without the local version label to make it installable from PyPI. To specify pip requirements containing local version labels, please use `conda_env` or `pip_requirements`.\n",
            "100%|██████████| 281/281 [02:52<00:00,  1.63it/s]\n",
            "2024/04/14 13:34:24 WARNING mlflow.utils.requirements_utils: Found torch version (2.2.1+cu121) contains a local version label (+cu121). MLflow logged a pip requirement for this package as 'torch==2.2.1' without the local version label to make it installable from PyPI. To specify pip requirements containing local version labels, please use `conda_env` or `pip_requirements`.\n"
          ]
        },
        {
          "output_type": "stream",
          "name": "stdout",
          "text": [
            "Train epoch 33 loss:  1676.007\n"
          ]
        },
        {
          "output_type": "stream",
          "name": "stderr",
          "text": [
            "2024/04/14 13:34:30 WARNING mlflow.utils.requirements_utils: Found jaxlib version (0.4.26+cuda12.cudnn89) contains a local version label (+cuda12.cudnn89). MLflow logged a pip requirement for this package as 'jaxlib==0.4.26' without the local version label to make it installable from PyPI. To specify pip requirements containing local version labels, please use `conda_env` or `pip_requirements`.\n",
            "100%|██████████| 281/281 [02:52<00:00,  1.62it/s]\n",
            "2024/04/14 13:37:24 WARNING mlflow.utils.requirements_utils: Found torch version (2.2.1+cu121) contains a local version label (+cu121). MLflow logged a pip requirement for this package as 'torch==2.2.1' without the local version label to make it installable from PyPI. To specify pip requirements containing local version labels, please use `conda_env` or `pip_requirements`.\n"
          ]
        },
        {
          "output_type": "stream",
          "name": "stdout",
          "text": [
            "Train epoch 34 loss:  1691.2124\n"
          ]
        },
        {
          "output_type": "stream",
          "name": "stderr",
          "text": [
            "2024/04/14 13:37:30 WARNING mlflow.utils.requirements_utils: Found jaxlib version (0.4.26+cuda12.cudnn89) contains a local version label (+cuda12.cudnn89). MLflow logged a pip requirement for this package as 'jaxlib==0.4.26' without the local version label to make it installable from PyPI. To specify pip requirements containing local version labels, please use `conda_env` or `pip_requirements`.\n",
            "100%|██████████| 281/281 [02:53<00:00,  1.62it/s]\n",
            "2024/04/14 13:40:24 WARNING mlflow.utils.requirements_utils: Found torch version (2.2.1+cu121) contains a local version label (+cu121). MLflow logged a pip requirement for this package as 'torch==2.2.1' without the local version label to make it installable from PyPI. To specify pip requirements containing local version labels, please use `conda_env` or `pip_requirements`.\n"
          ]
        },
        {
          "output_type": "stream",
          "name": "stdout",
          "text": [
            "Train epoch 35 loss:  1687.4193\n"
          ]
        },
        {
          "output_type": "stream",
          "name": "stderr",
          "text": [
            "2024/04/14 13:40:30 WARNING mlflow.utils.requirements_utils: Found jaxlib version (0.4.26+cuda12.cudnn89) contains a local version label (+cuda12.cudnn89). MLflow logged a pip requirement for this package as 'jaxlib==0.4.26' without the local version label to make it installable from PyPI. To specify pip requirements containing local version labels, please use `conda_env` or `pip_requirements`.\n",
            "100%|██████████| 281/281 [02:51<00:00,  1.64it/s]\n",
            "2024/04/14 13:43:22 WARNING mlflow.utils.requirements_utils: Found torch version (2.2.1+cu121) contains a local version label (+cu121). MLflow logged a pip requirement for this package as 'torch==2.2.1' without the local version label to make it installable from PyPI. To specify pip requirements containing local version labels, please use `conda_env` or `pip_requirements`.\n"
          ]
        },
        {
          "output_type": "stream",
          "name": "stdout",
          "text": [
            "Train epoch 36 loss:  1658.9464\n"
          ]
        },
        {
          "output_type": "stream",
          "name": "stderr",
          "text": [
            "2024/04/14 13:43:29 WARNING mlflow.utils.requirements_utils: Found jaxlib version (0.4.26+cuda12.cudnn89) contains a local version label (+cuda12.cudnn89). MLflow logged a pip requirement for this package as 'jaxlib==0.4.26' without the local version label to make it installable from PyPI. To specify pip requirements containing local version labels, please use `conda_env` or `pip_requirements`.\n",
            "100%|██████████| 281/281 [02:51<00:00,  1.64it/s]\n",
            "2024/04/14 13:46:20 WARNING mlflow.utils.requirements_utils: Found torch version (2.2.1+cu121) contains a local version label (+cu121). MLflow logged a pip requirement for this package as 'torch==2.2.1' without the local version label to make it installable from PyPI. To specify pip requirements containing local version labels, please use `conda_env` or `pip_requirements`.\n"
          ]
        },
        {
          "output_type": "stream",
          "name": "stdout",
          "text": [
            "Train epoch 37 loss:  1629.5095\n"
          ]
        },
        {
          "output_type": "stream",
          "name": "stderr",
          "text": [
            "2024/04/14 13:46:27 WARNING mlflow.utils.requirements_utils: Found jaxlib version (0.4.26+cuda12.cudnn89) contains a local version label (+cuda12.cudnn89). MLflow logged a pip requirement for this package as 'jaxlib==0.4.26' without the local version label to make it installable from PyPI. To specify pip requirements containing local version labels, please use `conda_env` or `pip_requirements`.\n",
            "100%|██████████| 281/281 [02:51<00:00,  1.64it/s]\n",
            "2024/04/14 13:49:19 WARNING mlflow.utils.requirements_utils: Found torch version (2.2.1+cu121) contains a local version label (+cu121). MLflow logged a pip requirement for this package as 'torch==2.2.1' without the local version label to make it installable from PyPI. To specify pip requirements containing local version labels, please use `conda_env` or `pip_requirements`.\n"
          ]
        },
        {
          "output_type": "stream",
          "name": "stdout",
          "text": [
            "Train epoch 38 loss:  1640.0118\n"
          ]
        },
        {
          "output_type": "stream",
          "name": "stderr",
          "text": [
            "2024/04/14 13:49:25 WARNING mlflow.utils.requirements_utils: Found jaxlib version (0.4.26+cuda12.cudnn89) contains a local version label (+cuda12.cudnn89). MLflow logged a pip requirement for this package as 'jaxlib==0.4.26' without the local version label to make it installable from PyPI. To specify pip requirements containing local version labels, please use `conda_env` or `pip_requirements`.\n",
            "100%|██████████| 281/281 [02:51<00:00,  1.64it/s]\n",
            "2024/04/14 13:52:17 WARNING mlflow.utils.requirements_utils: Found torch version (2.2.1+cu121) contains a local version label (+cu121). MLflow logged a pip requirement for this package as 'torch==2.2.1' without the local version label to make it installable from PyPI. To specify pip requirements containing local version labels, please use `conda_env` or `pip_requirements`.\n"
          ]
        },
        {
          "output_type": "stream",
          "name": "stdout",
          "text": [
            "Train epoch 39 loss:  1626.1003\n"
          ]
        },
        {
          "output_type": "stream",
          "name": "stderr",
          "text": [
            "2024/04/14 13:52:24 WARNING mlflow.utils.requirements_utils: Found jaxlib version (0.4.26+cuda12.cudnn89) contains a local version label (+cuda12.cudnn89). MLflow logged a pip requirement for this package as 'jaxlib==0.4.26' without the local version label to make it installable from PyPI. To specify pip requirements containing local version labels, please use `conda_env` or `pip_requirements`.\n",
            "100%|██████████| 281/281 [02:51<00:00,  1.64it/s]\n",
            "2024/04/14 13:55:16 WARNING mlflow.utils.requirements_utils: Found torch version (2.2.1+cu121) contains a local version label (+cu121). MLflow logged a pip requirement for this package as 'torch==2.2.1' without the local version label to make it installable from PyPI. To specify pip requirements containing local version labels, please use `conda_env` or `pip_requirements`.\n"
          ]
        },
        {
          "output_type": "stream",
          "name": "stdout",
          "text": [
            "Train epoch 40 loss:  1618.9067\n"
          ]
        },
        {
          "output_type": "stream",
          "name": "stderr",
          "text": [
            "2024/04/14 13:55:22 WARNING mlflow.utils.requirements_utils: Found jaxlib version (0.4.26+cuda12.cudnn89) contains a local version label (+cuda12.cudnn89). MLflow logged a pip requirement for this package as 'jaxlib==0.4.26' without the local version label to make it installable from PyPI. To specify pip requirements containing local version labels, please use `conda_env` or `pip_requirements`.\n",
            "100%|██████████| 281/281 [02:51<00:00,  1.64it/s]\n",
            "2024/04/14 13:58:14 WARNING mlflow.utils.requirements_utils: Found torch version (2.2.1+cu121) contains a local version label (+cu121). MLflow logged a pip requirement for this package as 'torch==2.2.1' without the local version label to make it installable from PyPI. To specify pip requirements containing local version labels, please use `conda_env` or `pip_requirements`.\n"
          ]
        },
        {
          "output_type": "stream",
          "name": "stdout",
          "text": [
            "Train epoch 41 loss:  1652.3176\n"
          ]
        },
        {
          "output_type": "stream",
          "name": "stderr",
          "text": [
            "2024/04/14 13:58:21 WARNING mlflow.utils.requirements_utils: Found jaxlib version (0.4.26+cuda12.cudnn89) contains a local version label (+cuda12.cudnn89). MLflow logged a pip requirement for this package as 'jaxlib==0.4.26' without the local version label to make it installable from PyPI. To specify pip requirements containing local version labels, please use `conda_env` or `pip_requirements`.\n",
            "100%|██████████| 281/281 [02:50<00:00,  1.65it/s]\n",
            "2024/04/14 14:01:12 WARNING mlflow.utils.requirements_utils: Found torch version (2.2.1+cu121) contains a local version label (+cu121). MLflow logged a pip requirement for this package as 'torch==2.2.1' without the local version label to make it installable from PyPI. To specify pip requirements containing local version labels, please use `conda_env` or `pip_requirements`.\n"
          ]
        },
        {
          "output_type": "stream",
          "name": "stdout",
          "text": [
            "Train epoch 42 loss:  1610.0421\n"
          ]
        },
        {
          "output_type": "stream",
          "name": "stderr",
          "text": [
            "2024/04/14 14:01:19 WARNING mlflow.utils.requirements_utils: Found jaxlib version (0.4.26+cuda12.cudnn89) contains a local version label (+cuda12.cudnn89). MLflow logged a pip requirement for this package as 'jaxlib==0.4.26' without the local version label to make it installable from PyPI. To specify pip requirements containing local version labels, please use `conda_env` or `pip_requirements`.\n",
            "100%|██████████| 281/281 [02:51<00:00,  1.64it/s]\n",
            "2024/04/14 14:04:10 WARNING mlflow.utils.requirements_utils: Found torch version (2.2.1+cu121) contains a local version label (+cu121). MLflow logged a pip requirement for this package as 'torch==2.2.1' without the local version label to make it installable from PyPI. To specify pip requirements containing local version labels, please use `conda_env` or `pip_requirements`.\n"
          ]
        },
        {
          "output_type": "stream",
          "name": "stdout",
          "text": [
            "Train epoch 43 loss:  1619.4457\n"
          ]
        },
        {
          "output_type": "stream",
          "name": "stderr",
          "text": [
            "2024/04/14 14:04:17 WARNING mlflow.utils.requirements_utils: Found jaxlib version (0.4.26+cuda12.cudnn89) contains a local version label (+cuda12.cudnn89). MLflow logged a pip requirement for this package as 'jaxlib==0.4.26' without the local version label to make it installable from PyPI. To specify pip requirements containing local version labels, please use `conda_env` or `pip_requirements`.\n",
            "100%|██████████| 281/281 [02:51<00:00,  1.64it/s]\n",
            "2024/04/14 14:07:09 WARNING mlflow.utils.requirements_utils: Found torch version (2.2.1+cu121) contains a local version label (+cu121). MLflow logged a pip requirement for this package as 'torch==2.2.1' without the local version label to make it installable from PyPI. To specify pip requirements containing local version labels, please use `conda_env` or `pip_requirements`.\n"
          ]
        },
        {
          "output_type": "stream",
          "name": "stdout",
          "text": [
            "Train epoch 44 loss:  1612.8055\n"
          ]
        },
        {
          "output_type": "stream",
          "name": "stderr",
          "text": [
            "2024/04/14 14:07:16 WARNING mlflow.utils.requirements_utils: Found jaxlib version (0.4.26+cuda12.cudnn89) contains a local version label (+cuda12.cudnn89). MLflow logged a pip requirement for this package as 'jaxlib==0.4.26' without the local version label to make it installable from PyPI. To specify pip requirements containing local version labels, please use `conda_env` or `pip_requirements`.\n",
            "100%|██████████| 281/281 [02:51<00:00,  1.64it/s]\n",
            "2024/04/14 14:10:07 WARNING mlflow.utils.requirements_utils: Found torch version (2.2.1+cu121) contains a local version label (+cu121). MLflow logged a pip requirement for this package as 'torch==2.2.1' without the local version label to make it installable from PyPI. To specify pip requirements containing local version labels, please use `conda_env` or `pip_requirements`.\n"
          ]
        },
        {
          "output_type": "stream",
          "name": "stdout",
          "text": [
            "Train epoch 45 loss:  1626.3525\n"
          ]
        },
        {
          "output_type": "stream",
          "name": "stderr",
          "text": [
            "2024/04/14 14:10:14 WARNING mlflow.utils.requirements_utils: Found jaxlib version (0.4.26+cuda12.cudnn89) contains a local version label (+cuda12.cudnn89). MLflow logged a pip requirement for this package as 'jaxlib==0.4.26' without the local version label to make it installable from PyPI. To specify pip requirements containing local version labels, please use `conda_env` or `pip_requirements`.\n",
            "100%|██████████| 281/281 [02:51<00:00,  1.64it/s]\n",
            "2024/04/14 14:13:06 WARNING mlflow.utils.requirements_utils: Found torch version (2.2.1+cu121) contains a local version label (+cu121). MLflow logged a pip requirement for this package as 'torch==2.2.1' without the local version label to make it installable from PyPI. To specify pip requirements containing local version labels, please use `conda_env` or `pip_requirements`.\n"
          ]
        },
        {
          "output_type": "stream",
          "name": "stdout",
          "text": [
            "Train epoch 46 loss:  1602.4462\n"
          ]
        },
        {
          "output_type": "stream",
          "name": "stderr",
          "text": [
            "2024/04/14 14:13:13 WARNING mlflow.utils.requirements_utils: Found jaxlib version (0.4.26+cuda12.cudnn89) contains a local version label (+cuda12.cudnn89). MLflow logged a pip requirement for this package as 'jaxlib==0.4.26' without the local version label to make it installable from PyPI. To specify pip requirements containing local version labels, please use `conda_env` or `pip_requirements`.\n",
            "100%|██████████| 281/281 [02:51<00:00,  1.63it/s]\n",
            "2024/04/14 14:16:05 WARNING mlflow.utils.requirements_utils: Found torch version (2.2.1+cu121) contains a local version label (+cu121). MLflow logged a pip requirement for this package as 'torch==2.2.1' without the local version label to make it installable from PyPI. To specify pip requirements containing local version labels, please use `conda_env` or `pip_requirements`.\n"
          ]
        },
        {
          "output_type": "stream",
          "name": "stdout",
          "text": [
            "Train epoch 47 loss:  1609.0509\n"
          ]
        },
        {
          "output_type": "stream",
          "name": "stderr",
          "text": [
            "2024/04/14 14:16:12 WARNING mlflow.utils.requirements_utils: Found jaxlib version (0.4.26+cuda12.cudnn89) contains a local version label (+cuda12.cudnn89). MLflow logged a pip requirement for this package as 'jaxlib==0.4.26' without the local version label to make it installable from PyPI. To specify pip requirements containing local version labels, please use `conda_env` or `pip_requirements`.\n",
            "100%|██████████| 281/281 [02:51<00:00,  1.64it/s]\n",
            "2024/04/14 14:19:04 WARNING mlflow.utils.requirements_utils: Found torch version (2.2.1+cu121) contains a local version label (+cu121). MLflow logged a pip requirement for this package as 'torch==2.2.1' without the local version label to make it installable from PyPI. To specify pip requirements containing local version labels, please use `conda_env` or `pip_requirements`.\n"
          ]
        },
        {
          "output_type": "stream",
          "name": "stdout",
          "text": [
            "Train epoch 48 loss:  1603.3956\n"
          ]
        },
        {
          "output_type": "stream",
          "name": "stderr",
          "text": [
            "2024/04/14 14:19:10 WARNING mlflow.utils.requirements_utils: Found jaxlib version (0.4.26+cuda12.cudnn89) contains a local version label (+cuda12.cudnn89). MLflow logged a pip requirement for this package as 'jaxlib==0.4.26' without the local version label to make it installable from PyPI. To specify pip requirements containing local version labels, please use `conda_env` or `pip_requirements`.\n",
            "100%|██████████| 281/281 [02:51<00:00,  1.64it/s]\n",
            "2024/04/14 14:22:02 WARNING mlflow.utils.requirements_utils: Found torch version (2.2.1+cu121) contains a local version label (+cu121). MLflow logged a pip requirement for this package as 'torch==2.2.1' without the local version label to make it installable from PyPI. To specify pip requirements containing local version labels, please use `conda_env` or `pip_requirements`.\n"
          ]
        },
        {
          "output_type": "stream",
          "name": "stdout",
          "text": [
            "Train epoch 49 loss:  1633.6957\n"
          ]
        },
        {
          "output_type": "stream",
          "name": "stderr",
          "text": [
            "2024/04/14 14:22:09 WARNING mlflow.utils.requirements_utils: Found jaxlib version (0.4.26+cuda12.cudnn89) contains a local version label (+cuda12.cudnn89). MLflow logged a pip requirement for this package as 'jaxlib==0.4.26' without the local version label to make it installable from PyPI. To specify pip requirements containing local version labels, please use `conda_env` or `pip_requirements`.\n",
            "100%|██████████| 281/281 [02:50<00:00,  1.65it/s]\n",
            "2024/04/14 14:25:00 WARNING mlflow.utils.requirements_utils: Found torch version (2.2.1+cu121) contains a local version label (+cu121). MLflow logged a pip requirement for this package as 'torch==2.2.1' without the local version label to make it installable from PyPI. To specify pip requirements containing local version labels, please use `conda_env` or `pip_requirements`.\n"
          ]
        },
        {
          "output_type": "stream",
          "name": "stdout",
          "text": [
            "Train epoch 50 loss:  1821.2126\n"
          ]
        },
        {
          "output_type": "stream",
          "name": "stderr",
          "text": [
            "2024/04/14 14:25:07 WARNING mlflow.utils.requirements_utils: Found jaxlib version (0.4.26+cuda12.cudnn89) contains a local version label (+cuda12.cudnn89). MLflow logged a pip requirement for this package as 'jaxlib==0.4.26' without the local version label to make it installable from PyPI. To specify pip requirements containing local version labels, please use `conda_env` or `pip_requirements`.\n",
            "100%|██████████| 281/281 [02:50<00:00,  1.65it/s]\n",
            "2024/04/14 14:27:57 WARNING mlflow.utils.requirements_utils: Found torch version (2.2.1+cu121) contains a local version label (+cu121). MLflow logged a pip requirement for this package as 'torch==2.2.1' without the local version label to make it installable from PyPI. To specify pip requirements containing local version labels, please use `conda_env` or `pip_requirements`.\n"
          ]
        },
        {
          "output_type": "stream",
          "name": "stdout",
          "text": [
            "Train epoch 51 loss:  1692.2834\n"
          ]
        },
        {
          "output_type": "stream",
          "name": "stderr",
          "text": [
            "2024/04/14 14:28:04 WARNING mlflow.utils.requirements_utils: Found jaxlib version (0.4.26+cuda12.cudnn89) contains a local version label (+cuda12.cudnn89). MLflow logged a pip requirement for this package as 'jaxlib==0.4.26' without the local version label to make it installable from PyPI. To specify pip requirements containing local version labels, please use `conda_env` or `pip_requirements`.\n",
            "100%|██████████| 281/281 [02:50<00:00,  1.65it/s]\n",
            "2024/04/14 14:30:54 WARNING mlflow.utils.requirements_utils: Found torch version (2.2.1+cu121) contains a local version label (+cu121). MLflow logged a pip requirement for this package as 'torch==2.2.1' without the local version label to make it installable from PyPI. To specify pip requirements containing local version labels, please use `conda_env` or `pip_requirements`.\n"
          ]
        },
        {
          "output_type": "stream",
          "name": "stdout",
          "text": [
            "Train epoch 52 loss:  1652.8826\n"
          ]
        },
        {
          "output_type": "stream",
          "name": "stderr",
          "text": [
            "2024/04/14 14:31:01 WARNING mlflow.utils.requirements_utils: Found jaxlib version (0.4.26+cuda12.cudnn89) contains a local version label (+cuda12.cudnn89). MLflow logged a pip requirement for this package as 'jaxlib==0.4.26' without the local version label to make it installable from PyPI. To specify pip requirements containing local version labels, please use `conda_env` or `pip_requirements`.\n",
            "100%|██████████| 281/281 [02:50<00:00,  1.65it/s]\n",
            "2024/04/14 14:33:52 WARNING mlflow.utils.requirements_utils: Found torch version (2.2.1+cu121) contains a local version label (+cu121). MLflow logged a pip requirement for this package as 'torch==2.2.1' without the local version label to make it installable from PyPI. To specify pip requirements containing local version labels, please use `conda_env` or `pip_requirements`.\n"
          ]
        },
        {
          "output_type": "stream",
          "name": "stdout",
          "text": [
            "Train epoch 53 loss:  1634.3031\n"
          ]
        },
        {
          "output_type": "stream",
          "name": "stderr",
          "text": [
            "2024/04/14 14:33:58 WARNING mlflow.utils.requirements_utils: Found jaxlib version (0.4.26+cuda12.cudnn89) contains a local version label (+cuda12.cudnn89). MLflow logged a pip requirement for this package as 'jaxlib==0.4.26' without the local version label to make it installable from PyPI. To specify pip requirements containing local version labels, please use `conda_env` or `pip_requirements`.\n",
            "100%|██████████| 281/281 [02:49<00:00,  1.65it/s]\n",
            "2024/04/14 14:36:48 WARNING mlflow.utils.requirements_utils: Found torch version (2.2.1+cu121) contains a local version label (+cu121). MLflow logged a pip requirement for this package as 'torch==2.2.1' without the local version label to make it installable from PyPI. To specify pip requirements containing local version labels, please use `conda_env` or `pip_requirements`.\n"
          ]
        },
        {
          "output_type": "stream",
          "name": "stdout",
          "text": [
            "Train epoch 54 loss:  1644.1969\n"
          ]
        },
        {
          "output_type": "stream",
          "name": "stderr",
          "text": [
            "2024/04/14 14:36:55 WARNING mlflow.utils.requirements_utils: Found jaxlib version (0.4.26+cuda12.cudnn89) contains a local version label (+cuda12.cudnn89). MLflow logged a pip requirement for this package as 'jaxlib==0.4.26' without the local version label to make it installable from PyPI. To specify pip requirements containing local version labels, please use `conda_env` or `pip_requirements`.\n",
            "100%|██████████| 281/281 [02:50<00:00,  1.65it/s]\n",
            "2024/04/14 14:39:45 WARNING mlflow.utils.requirements_utils: Found torch version (2.2.1+cu121) contains a local version label (+cu121). MLflow logged a pip requirement for this package as 'torch==2.2.1' without the local version label to make it installable from PyPI. To specify pip requirements containing local version labels, please use `conda_env` or `pip_requirements`.\n"
          ]
        },
        {
          "output_type": "stream",
          "name": "stdout",
          "text": [
            "Train epoch 55 loss:  1616.6044\n"
          ]
        },
        {
          "output_type": "stream",
          "name": "stderr",
          "text": [
            "2024/04/14 14:39:52 WARNING mlflow.utils.requirements_utils: Found jaxlib version (0.4.26+cuda12.cudnn89) contains a local version label (+cuda12.cudnn89). MLflow logged a pip requirement for this package as 'jaxlib==0.4.26' without the local version label to make it installable from PyPI. To specify pip requirements containing local version labels, please use `conda_env` or `pip_requirements`.\n",
            "100%|██████████| 281/281 [02:50<00:00,  1.65it/s]\n",
            "2024/04/14 14:42:42 WARNING mlflow.utils.requirements_utils: Found torch version (2.2.1+cu121) contains a local version label (+cu121). MLflow logged a pip requirement for this package as 'torch==2.2.1' without the local version label to make it installable from PyPI. To specify pip requirements containing local version labels, please use `conda_env` or `pip_requirements`.\n"
          ]
        },
        {
          "output_type": "stream",
          "name": "stdout",
          "text": [
            "Train epoch 56 loss:  1601.2933\n"
          ]
        },
        {
          "output_type": "stream",
          "name": "stderr",
          "text": [
            "2024/04/14 14:42:49 WARNING mlflow.utils.requirements_utils: Found jaxlib version (0.4.26+cuda12.cudnn89) contains a local version label (+cuda12.cudnn89). MLflow logged a pip requirement for this package as 'jaxlib==0.4.26' without the local version label to make it installable from PyPI. To specify pip requirements containing local version labels, please use `conda_env` or `pip_requirements`.\n",
            "100%|██████████| 281/281 [02:50<00:00,  1.65it/s]\n",
            "2024/04/14 14:45:39 WARNING mlflow.utils.requirements_utils: Found torch version (2.2.1+cu121) contains a local version label (+cu121). MLflow logged a pip requirement for this package as 'torch==2.2.1' without the local version label to make it installable from PyPI. To specify pip requirements containing local version labels, please use `conda_env` or `pip_requirements`.\n"
          ]
        },
        {
          "output_type": "stream",
          "name": "stdout",
          "text": [
            "Train epoch 57 loss:  1670.2982\n"
          ]
        },
        {
          "output_type": "stream",
          "name": "stderr",
          "text": [
            "2024/04/14 14:45:46 WARNING mlflow.utils.requirements_utils: Found jaxlib version (0.4.26+cuda12.cudnn89) contains a local version label (+cuda12.cudnn89). MLflow logged a pip requirement for this package as 'jaxlib==0.4.26' without the local version label to make it installable from PyPI. To specify pip requirements containing local version labels, please use `conda_env` or `pip_requirements`.\n",
            "100%|██████████| 281/281 [02:50<00:00,  1.65it/s]\n",
            "2024/04/14 14:48:37 WARNING mlflow.utils.requirements_utils: Found torch version (2.2.1+cu121) contains a local version label (+cu121). MLflow logged a pip requirement for this package as 'torch==2.2.1' without the local version label to make it installable from PyPI. To specify pip requirements containing local version labels, please use `conda_env` or `pip_requirements`.\n"
          ]
        },
        {
          "output_type": "stream",
          "name": "stdout",
          "text": [
            "Train epoch 58 loss:  1650.2189\n"
          ]
        },
        {
          "output_type": "stream",
          "name": "stderr",
          "text": [
            "2024/04/14 14:48:43 WARNING mlflow.utils.requirements_utils: Found jaxlib version (0.4.26+cuda12.cudnn89) contains a local version label (+cuda12.cudnn89). MLflow logged a pip requirement for this package as 'jaxlib==0.4.26' without the local version label to make it installable from PyPI. To specify pip requirements containing local version labels, please use `conda_env` or `pip_requirements`.\n",
            "100%|██████████| 281/281 [02:50<00:00,  1.65it/s]\n",
            "2024/04/14 14:51:34 WARNING mlflow.utils.requirements_utils: Found torch version (2.2.1+cu121) contains a local version label (+cu121). MLflow logged a pip requirement for this package as 'torch==2.2.1' without the local version label to make it installable from PyPI. To specify pip requirements containing local version labels, please use `conda_env` or `pip_requirements`.\n"
          ]
        },
        {
          "output_type": "stream",
          "name": "stdout",
          "text": [
            "Train epoch 59 loss:  1613.2683\n"
          ]
        },
        {
          "output_type": "stream",
          "name": "stderr",
          "text": [
            "2024/04/14 14:51:41 WARNING mlflow.utils.requirements_utils: Found jaxlib version (0.4.26+cuda12.cudnn89) contains a local version label (+cuda12.cudnn89). MLflow logged a pip requirement for this package as 'jaxlib==0.4.26' without the local version label to make it installable from PyPI. To specify pip requirements containing local version labels, please use `conda_env` or `pip_requirements`.\n",
            "100%|██████████| 281/281 [02:49<00:00,  1.65it/s]\n",
            "2024/04/14 14:54:31 WARNING mlflow.utils.requirements_utils: Found torch version (2.2.1+cu121) contains a local version label (+cu121). MLflow logged a pip requirement for this package as 'torch==2.2.1' without the local version label to make it installable from PyPI. To specify pip requirements containing local version labels, please use `conda_env` or `pip_requirements`.\n"
          ]
        },
        {
          "output_type": "stream",
          "name": "stdout",
          "text": [
            "Train epoch 60 loss:  1592.4819\n"
          ]
        },
        {
          "output_type": "stream",
          "name": "stderr",
          "text": [
            "2024/04/14 14:54:38 WARNING mlflow.utils.requirements_utils: Found jaxlib version (0.4.26+cuda12.cudnn89) contains a local version label (+cuda12.cudnn89). MLflow logged a pip requirement for this package as 'jaxlib==0.4.26' without the local version label to make it installable from PyPI. To specify pip requirements containing local version labels, please use `conda_env` or `pip_requirements`.\n",
            "100%|██████████| 281/281 [02:49<00:00,  1.66it/s]\n",
            "2024/04/14 14:57:28 WARNING mlflow.utils.requirements_utils: Found torch version (2.2.1+cu121) contains a local version label (+cu121). MLflow logged a pip requirement for this package as 'torch==2.2.1' without the local version label to make it installable from PyPI. To specify pip requirements containing local version labels, please use `conda_env` or `pip_requirements`.\n"
          ]
        },
        {
          "output_type": "stream",
          "name": "stdout",
          "text": [
            "Train epoch 61 loss:  1605.1704\n"
          ]
        },
        {
          "output_type": "stream",
          "name": "stderr",
          "text": [
            "2024/04/14 14:57:34 WARNING mlflow.utils.requirements_utils: Found jaxlib version (0.4.26+cuda12.cudnn89) contains a local version label (+cuda12.cudnn89). MLflow logged a pip requirement for this package as 'jaxlib==0.4.26' without the local version label to make it installable from PyPI. To specify pip requirements containing local version labels, please use `conda_env` or `pip_requirements`.\n",
            "100%|██████████| 281/281 [02:50<00:00,  1.65it/s]\n",
            "2024/04/14 15:00:25 WARNING mlflow.utils.requirements_utils: Found torch version (2.2.1+cu121) contains a local version label (+cu121). MLflow logged a pip requirement for this package as 'torch==2.2.1' without the local version label to make it installable from PyPI. To specify pip requirements containing local version labels, please use `conda_env` or `pip_requirements`.\n"
          ]
        },
        {
          "output_type": "stream",
          "name": "stdout",
          "text": [
            "Train epoch 62 loss:  1616.9994\n"
          ]
        },
        {
          "output_type": "stream",
          "name": "stderr",
          "text": [
            "2024/04/14 15:00:32 WARNING mlflow.utils.requirements_utils: Found jaxlib version (0.4.26+cuda12.cudnn89) contains a local version label (+cuda12.cudnn89). MLflow logged a pip requirement for this package as 'jaxlib==0.4.26' without the local version label to make it installable from PyPI. To specify pip requirements containing local version labels, please use `conda_env` or `pip_requirements`.\n",
            "100%|██████████| 281/281 [02:51<00:00,  1.64it/s]\n",
            "2024/04/14 15:03:24 WARNING mlflow.utils.requirements_utils: Found torch version (2.2.1+cu121) contains a local version label (+cu121). MLflow logged a pip requirement for this package as 'torch==2.2.1' without the local version label to make it installable from PyPI. To specify pip requirements containing local version labels, please use `conda_env` or `pip_requirements`.\n"
          ]
        },
        {
          "output_type": "stream",
          "name": "stdout",
          "text": [
            "Train epoch 63 loss:  1626.7356\n"
          ]
        },
        {
          "output_type": "stream",
          "name": "stderr",
          "text": [
            "2024/04/14 15:03:30 WARNING mlflow.utils.requirements_utils: Found jaxlib version (0.4.26+cuda12.cudnn89) contains a local version label (+cuda12.cudnn89). MLflow logged a pip requirement for this package as 'jaxlib==0.4.26' without the local version label to make it installable from PyPI. To specify pip requirements containing local version labels, please use `conda_env` or `pip_requirements`.\n",
            "100%|██████████| 281/281 [02:50<00:00,  1.65it/s]\n",
            "2024/04/14 15:06:21 WARNING mlflow.utils.requirements_utils: Found torch version (2.2.1+cu121) contains a local version label (+cu121). MLflow logged a pip requirement for this package as 'torch==2.2.1' without the local version label to make it installable from PyPI. To specify pip requirements containing local version labels, please use `conda_env` or `pip_requirements`.\n"
          ]
        },
        {
          "output_type": "stream",
          "name": "stdout",
          "text": [
            "Train epoch 64 loss:  1610.54\n"
          ]
        },
        {
          "output_type": "stream",
          "name": "stderr",
          "text": [
            "2024/04/14 15:06:27 WARNING mlflow.utils.requirements_utils: Found jaxlib version (0.4.26+cuda12.cudnn89) contains a local version label (+cuda12.cudnn89). MLflow logged a pip requirement for this package as 'jaxlib==0.4.26' without the local version label to make it installable from PyPI. To specify pip requirements containing local version labels, please use `conda_env` or `pip_requirements`.\n",
            "100%|██████████| 281/281 [02:50<00:00,  1.65it/s]\n",
            "2024/04/14 15:09:18 WARNING mlflow.utils.requirements_utils: Found torch version (2.2.1+cu121) contains a local version label (+cu121). MLflow logged a pip requirement for this package as 'torch==2.2.1' without the local version label to make it installable from PyPI. To specify pip requirements containing local version labels, please use `conda_env` or `pip_requirements`.\n"
          ]
        },
        {
          "output_type": "stream",
          "name": "stdout",
          "text": [
            "Train epoch 65 loss:  1590.0468\n"
          ]
        },
        {
          "output_type": "stream",
          "name": "stderr",
          "text": [
            "2024/04/14 15:09:25 WARNING mlflow.utils.requirements_utils: Found jaxlib version (0.4.26+cuda12.cudnn89) contains a local version label (+cuda12.cudnn89). MLflow logged a pip requirement for this package as 'jaxlib==0.4.26' without the local version label to make it installable from PyPI. To specify pip requirements containing local version labels, please use `conda_env` or `pip_requirements`.\n",
            "100%|██████████| 281/281 [02:49<00:00,  1.65it/s]\n",
            "2024/04/14 15:12:15 WARNING mlflow.utils.requirements_utils: Found torch version (2.2.1+cu121) contains a local version label (+cu121). MLflow logged a pip requirement for this package as 'torch==2.2.1' without the local version label to make it installable from PyPI. To specify pip requirements containing local version labels, please use `conda_env` or `pip_requirements`.\n"
          ]
        },
        {
          "output_type": "stream",
          "name": "stdout",
          "text": [
            "Train epoch 66 loss:  1640.3972\n"
          ]
        },
        {
          "output_type": "stream",
          "name": "stderr",
          "text": [
            "2024/04/14 15:12:21 WARNING mlflow.utils.requirements_utils: Found jaxlib version (0.4.26+cuda12.cudnn89) contains a local version label (+cuda12.cudnn89). MLflow logged a pip requirement for this package as 'jaxlib==0.4.26' without the local version label to make it installable from PyPI. To specify pip requirements containing local version labels, please use `conda_env` or `pip_requirements`.\n",
            "100%|██████████| 281/281 [02:49<00:00,  1.65it/s]\n",
            "2024/04/14 15:15:12 WARNING mlflow.utils.requirements_utils: Found torch version (2.2.1+cu121) contains a local version label (+cu121). MLflow logged a pip requirement for this package as 'torch==2.2.1' without the local version label to make it installable from PyPI. To specify pip requirements containing local version labels, please use `conda_env` or `pip_requirements`.\n"
          ]
        },
        {
          "output_type": "stream",
          "name": "stdout",
          "text": [
            "Train epoch 67 loss:  1615.5465\n"
          ]
        },
        {
          "output_type": "stream",
          "name": "stderr",
          "text": [
            "2024/04/14 15:15:18 WARNING mlflow.utils.requirements_utils: Found jaxlib version (0.4.26+cuda12.cudnn89) contains a local version label (+cuda12.cudnn89). MLflow logged a pip requirement for this package as 'jaxlib==0.4.26' without the local version label to make it installable from PyPI. To specify pip requirements containing local version labels, please use `conda_env` or `pip_requirements`.\n",
            "100%|██████████| 281/281 [02:49<00:00,  1.65it/s]\n",
            "2024/04/14 15:18:08 WARNING mlflow.utils.requirements_utils: Found torch version (2.2.1+cu121) contains a local version label (+cu121). MLflow logged a pip requirement for this package as 'torch==2.2.1' without the local version label to make it installable from PyPI. To specify pip requirements containing local version labels, please use `conda_env` or `pip_requirements`.\n"
          ]
        },
        {
          "output_type": "stream",
          "name": "stdout",
          "text": [
            "Train epoch 68 loss:  1598.0852\n"
          ]
        },
        {
          "output_type": "stream",
          "name": "stderr",
          "text": [
            "2024/04/14 15:18:15 WARNING mlflow.utils.requirements_utils: Found jaxlib version (0.4.26+cuda12.cudnn89) contains a local version label (+cuda12.cudnn89). MLflow logged a pip requirement for this package as 'jaxlib==0.4.26' without the local version label to make it installable from PyPI. To specify pip requirements containing local version labels, please use `conda_env` or `pip_requirements`.\n",
            "100%|██████████| 281/281 [02:50<00:00,  1.65it/s]\n",
            "2024/04/14 15:21:05 WARNING mlflow.utils.requirements_utils: Found torch version (2.2.1+cu121) contains a local version label (+cu121). MLflow logged a pip requirement for this package as 'torch==2.2.1' without the local version label to make it installable from PyPI. To specify pip requirements containing local version labels, please use `conda_env` or `pip_requirements`.\n"
          ]
        },
        {
          "output_type": "stream",
          "name": "stdout",
          "text": [
            "Train epoch 69 loss:  1593.8967\n"
          ]
        },
        {
          "output_type": "stream",
          "name": "stderr",
          "text": [
            "2024/04/14 15:21:12 WARNING mlflow.utils.requirements_utils: Found jaxlib version (0.4.26+cuda12.cudnn89) contains a local version label (+cuda12.cudnn89). MLflow logged a pip requirement for this package as 'jaxlib==0.4.26' without the local version label to make it installable from PyPI. To specify pip requirements containing local version labels, please use `conda_env` or `pip_requirements`.\n",
            "100%|██████████| 281/281 [02:50<00:00,  1.65it/s]\n",
            "2024/04/14 15:24:03 WARNING mlflow.utils.requirements_utils: Found torch version (2.2.1+cu121) contains a local version label (+cu121). MLflow logged a pip requirement for this package as 'torch==2.2.1' without the local version label to make it installable from PyPI. To specify pip requirements containing local version labels, please use `conda_env` or `pip_requirements`.\n"
          ]
        },
        {
          "output_type": "stream",
          "name": "stdout",
          "text": [
            "Train epoch 70 loss:  1602.9915\n"
          ]
        },
        {
          "output_type": "stream",
          "name": "stderr",
          "text": [
            "2024/04/14 15:24:09 WARNING mlflow.utils.requirements_utils: Found jaxlib version (0.4.26+cuda12.cudnn89) contains a local version label (+cuda12.cudnn89). MLflow logged a pip requirement for this package as 'jaxlib==0.4.26' without the local version label to make it installable from PyPI. To specify pip requirements containing local version labels, please use `conda_env` or `pip_requirements`.\n",
            "100%|██████████| 281/281 [02:51<00:00,  1.64it/s]\n",
            "2024/04/14 15:27:01 WARNING mlflow.utils.requirements_utils: Found torch version (2.2.1+cu121) contains a local version label (+cu121). MLflow logged a pip requirement for this package as 'torch==2.2.1' without the local version label to make it installable from PyPI. To specify pip requirements containing local version labels, please use `conda_env` or `pip_requirements`.\n"
          ]
        },
        {
          "output_type": "stream",
          "name": "stdout",
          "text": [
            "Train epoch 71 loss:  1573.0181\n"
          ]
        },
        {
          "output_type": "stream",
          "name": "stderr",
          "text": [
            "2024/04/14 15:27:07 WARNING mlflow.utils.requirements_utils: Found jaxlib version (0.4.26+cuda12.cudnn89) contains a local version label (+cuda12.cudnn89). MLflow logged a pip requirement for this package as 'jaxlib==0.4.26' without the local version label to make it installable from PyPI. To specify pip requirements containing local version labels, please use `conda_env` or `pip_requirements`.\n",
            "100%|██████████| 281/281 [02:49<00:00,  1.65it/s]\n",
            "2024/04/14 15:29:58 WARNING mlflow.utils.requirements_utils: Found torch version (2.2.1+cu121) contains a local version label (+cu121). MLflow logged a pip requirement for this package as 'torch==2.2.1' without the local version label to make it installable from PyPI. To specify pip requirements containing local version labels, please use `conda_env` or `pip_requirements`.\n"
          ]
        },
        {
          "output_type": "stream",
          "name": "stdout",
          "text": [
            "Train epoch 72 loss:  1576.3795\n"
          ]
        },
        {
          "output_type": "stream",
          "name": "stderr",
          "text": [
            "2024/04/14 15:30:04 WARNING mlflow.utils.requirements_utils: Found jaxlib version (0.4.26+cuda12.cudnn89) contains a local version label (+cuda12.cudnn89). MLflow logged a pip requirement for this package as 'jaxlib==0.4.26' without the local version label to make it installable from PyPI. To specify pip requirements containing local version labels, please use `conda_env` or `pip_requirements`.\n",
            "100%|██████████| 281/281 [02:50<00:00,  1.65it/s]\n",
            "2024/04/14 15:32:55 WARNING mlflow.utils.requirements_utils: Found torch version (2.2.1+cu121) contains a local version label (+cu121). MLflow logged a pip requirement for this package as 'torch==2.2.1' without the local version label to make it installable from PyPI. To specify pip requirements containing local version labels, please use `conda_env` or `pip_requirements`.\n"
          ]
        },
        {
          "output_type": "stream",
          "name": "stdout",
          "text": [
            "Train epoch 73 loss:  1565.5748\n"
          ]
        },
        {
          "output_type": "stream",
          "name": "stderr",
          "text": [
            "2024/04/14 15:33:01 WARNING mlflow.utils.requirements_utils: Found jaxlib version (0.4.26+cuda12.cudnn89) contains a local version label (+cuda12.cudnn89). MLflow logged a pip requirement for this package as 'jaxlib==0.4.26' without the local version label to make it installable from PyPI. To specify pip requirements containing local version labels, please use `conda_env` or `pip_requirements`.\n",
            "100%|██████████| 281/281 [02:50<00:00,  1.65it/s]\n",
            "2024/04/14 15:35:52 WARNING mlflow.utils.requirements_utils: Found torch version (2.2.1+cu121) contains a local version label (+cu121). MLflow logged a pip requirement for this package as 'torch==2.2.1' without the local version label to make it installable from PyPI. To specify pip requirements containing local version labels, please use `conda_env` or `pip_requirements`.\n"
          ]
        },
        {
          "output_type": "stream",
          "name": "stdout",
          "text": [
            "Train epoch 74 loss:  1548.3594\n"
          ]
        },
        {
          "output_type": "stream",
          "name": "stderr",
          "text": [
            "2024/04/14 15:35:59 WARNING mlflow.utils.requirements_utils: Found jaxlib version (0.4.26+cuda12.cudnn89) contains a local version label (+cuda12.cudnn89). MLflow logged a pip requirement for this package as 'jaxlib==0.4.26' without the local version label to make it installable from PyPI. To specify pip requirements containing local version labels, please use `conda_env` or `pip_requirements`.\n",
            "100%|██████████| 281/281 [02:50<00:00,  1.65it/s]\n",
            "2024/04/14 15:38:49 WARNING mlflow.utils.requirements_utils: Found torch version (2.2.1+cu121) contains a local version label (+cu121). MLflow logged a pip requirement for this package as 'torch==2.2.1' without the local version label to make it installable from PyPI. To specify pip requirements containing local version labels, please use `conda_env` or `pip_requirements`.\n"
          ]
        },
        {
          "output_type": "stream",
          "name": "stdout",
          "text": [
            "Train epoch 75 loss:  1547.2473\n"
          ]
        },
        {
          "output_type": "stream",
          "name": "stderr",
          "text": [
            "2024/04/14 15:38:56 WARNING mlflow.utils.requirements_utils: Found jaxlib version (0.4.26+cuda12.cudnn89) contains a local version label (+cuda12.cudnn89). MLflow logged a pip requirement for this package as 'jaxlib==0.4.26' without the local version label to make it installable from PyPI. To specify pip requirements containing local version labels, please use `conda_env` or `pip_requirements`.\n",
            "100%|██████████| 281/281 [02:50<00:00,  1.65it/s]\n",
            "2024/04/14 15:41:46 WARNING mlflow.utils.requirements_utils: Found torch version (2.2.1+cu121) contains a local version label (+cu121). MLflow logged a pip requirement for this package as 'torch==2.2.1' without the local version label to make it installable from PyPI. To specify pip requirements containing local version labels, please use `conda_env` or `pip_requirements`.\n"
          ]
        },
        {
          "output_type": "stream",
          "name": "stdout",
          "text": [
            "Train epoch 76 loss:  1552.0181\n"
          ]
        },
        {
          "output_type": "stream",
          "name": "stderr",
          "text": [
            "2024/04/14 15:41:53 WARNING mlflow.utils.requirements_utils: Found jaxlib version (0.4.26+cuda12.cudnn89) contains a local version label (+cuda12.cudnn89). MLflow logged a pip requirement for this package as 'jaxlib==0.4.26' without the local version label to make it installable from PyPI. To specify pip requirements containing local version labels, please use `conda_env` or `pip_requirements`.\n",
            "100%|██████████| 281/281 [02:50<00:00,  1.65it/s]\n",
            "2024/04/14 15:44:43 WARNING mlflow.utils.requirements_utils: Found torch version (2.2.1+cu121) contains a local version label (+cu121). MLflow logged a pip requirement for this package as 'torch==2.2.1' without the local version label to make it installable from PyPI. To specify pip requirements containing local version labels, please use `conda_env` or `pip_requirements`.\n"
          ]
        },
        {
          "output_type": "stream",
          "name": "stdout",
          "text": [
            "Train epoch 77 loss:  1535.3228\n"
          ]
        },
        {
          "output_type": "stream",
          "name": "stderr",
          "text": [
            "2024/04/14 15:44:50 WARNING mlflow.utils.requirements_utils: Found jaxlib version (0.4.26+cuda12.cudnn89) contains a local version label (+cuda12.cudnn89). MLflow logged a pip requirement for this package as 'jaxlib==0.4.26' without the local version label to make it installable from PyPI. To specify pip requirements containing local version labels, please use `conda_env` or `pip_requirements`.\n",
            "100%|██████████| 281/281 [02:50<00:00,  1.65it/s]\n",
            "2024/04/14 15:47:40 WARNING mlflow.utils.requirements_utils: Found torch version (2.2.1+cu121) contains a local version label (+cu121). MLflow logged a pip requirement for this package as 'torch==2.2.1' without the local version label to make it installable from PyPI. To specify pip requirements containing local version labels, please use `conda_env` or `pip_requirements`.\n"
          ]
        },
        {
          "output_type": "stream",
          "name": "stdout",
          "text": [
            "Train epoch 78 loss:  1565.3156\n"
          ]
        },
        {
          "output_type": "stream",
          "name": "stderr",
          "text": [
            "2024/04/14 15:47:47 WARNING mlflow.utils.requirements_utils: Found jaxlib version (0.4.26+cuda12.cudnn89) contains a local version label (+cuda12.cudnn89). MLflow logged a pip requirement for this package as 'jaxlib==0.4.26' without the local version label to make it installable from PyPI. To specify pip requirements containing local version labels, please use `conda_env` or `pip_requirements`.\n",
            "100%|██████████| 281/281 [02:50<00:00,  1.65it/s]\n",
            "2024/04/14 15:50:38 WARNING mlflow.utils.requirements_utils: Found torch version (2.2.1+cu121) contains a local version label (+cu121). MLflow logged a pip requirement for this package as 'torch==2.2.1' without the local version label to make it installable from PyPI. To specify pip requirements containing local version labels, please use `conda_env` or `pip_requirements`.\n"
          ]
        },
        {
          "output_type": "stream",
          "name": "stdout",
          "text": [
            "Train epoch 79 loss:  1542.9753\n"
          ]
        },
        {
          "output_type": "stream",
          "name": "stderr",
          "text": [
            "2024/04/14 15:50:44 WARNING mlflow.utils.requirements_utils: Found jaxlib version (0.4.26+cuda12.cudnn89) contains a local version label (+cuda12.cudnn89). MLflow logged a pip requirement for this package as 'jaxlib==0.4.26' without the local version label to make it installable from PyPI. To specify pip requirements containing local version labels, please use `conda_env` or `pip_requirements`.\n",
            "100%|██████████| 281/281 [02:50<00:00,  1.65it/s]\n",
            "2024/04/14 15:53:35 WARNING mlflow.utils.requirements_utils: Found torch version (2.2.1+cu121) contains a local version label (+cu121). MLflow logged a pip requirement for this package as 'torch==2.2.1' without the local version label to make it installable from PyPI. To specify pip requirements containing local version labels, please use `conda_env` or `pip_requirements`.\n"
          ]
        },
        {
          "output_type": "stream",
          "name": "stdout",
          "text": [
            "Train epoch 80 loss:  1554.9264\n"
          ]
        },
        {
          "output_type": "stream",
          "name": "stderr",
          "text": [
            "2024/04/14 15:53:41 WARNING mlflow.utils.requirements_utils: Found jaxlib version (0.4.26+cuda12.cudnn89) contains a local version label (+cuda12.cudnn89). MLflow logged a pip requirement for this package as 'jaxlib==0.4.26' without the local version label to make it installable from PyPI. To specify pip requirements containing local version labels, please use `conda_env` or `pip_requirements`.\n",
            "100%|██████████| 281/281 [02:49<00:00,  1.66it/s]\n",
            "2024/04/14 15:56:31 WARNING mlflow.utils.requirements_utils: Found torch version (2.2.1+cu121) contains a local version label (+cu121). MLflow logged a pip requirement for this package as 'torch==2.2.1' without the local version label to make it installable from PyPI. To specify pip requirements containing local version labels, please use `conda_env` or `pip_requirements`.\n"
          ]
        },
        {
          "output_type": "stream",
          "name": "stdout",
          "text": [
            "Train epoch 81 loss:  1550.0183\n"
          ]
        },
        {
          "output_type": "stream",
          "name": "stderr",
          "text": [
            "2024/04/14 15:56:37 WARNING mlflow.utils.requirements_utils: Found jaxlib version (0.4.26+cuda12.cudnn89) contains a local version label (+cuda12.cudnn89). MLflow logged a pip requirement for this package as 'jaxlib==0.4.26' without the local version label to make it installable from PyPI. To specify pip requirements containing local version labels, please use `conda_env` or `pip_requirements`.\n",
            "100%|██████████| 281/281 [02:49<00:00,  1.66it/s]\n",
            "2024/04/14 15:59:27 WARNING mlflow.utils.requirements_utils: Found torch version (2.2.1+cu121) contains a local version label (+cu121). MLflow logged a pip requirement for this package as 'torch==2.2.1' without the local version label to make it installable from PyPI. To specify pip requirements containing local version labels, please use `conda_env` or `pip_requirements`.\n"
          ]
        },
        {
          "output_type": "stream",
          "name": "stdout",
          "text": [
            "Train epoch 82 loss:  1564.2134\n"
          ]
        },
        {
          "output_type": "stream",
          "name": "stderr",
          "text": [
            "2024/04/14 15:59:34 WARNING mlflow.utils.requirements_utils: Found jaxlib version (0.4.26+cuda12.cudnn89) contains a local version label (+cuda12.cudnn89). MLflow logged a pip requirement for this package as 'jaxlib==0.4.26' without the local version label to make it installable from PyPI. To specify pip requirements containing local version labels, please use `conda_env` or `pip_requirements`.\n",
            "100%|██████████| 281/281 [02:50<00:00,  1.65it/s]\n",
            "2024/04/14 16:02:24 WARNING mlflow.utils.requirements_utils: Found torch version (2.2.1+cu121) contains a local version label (+cu121). MLflow logged a pip requirement for this package as 'torch==2.2.1' without the local version label to make it installable from PyPI. To specify pip requirements containing local version labels, please use `conda_env` or `pip_requirements`.\n"
          ]
        },
        {
          "output_type": "stream",
          "name": "stdout",
          "text": [
            "Train epoch 83 loss:  1562.236\n"
          ]
        },
        {
          "output_type": "stream",
          "name": "stderr",
          "text": [
            "2024/04/14 16:02:31 WARNING mlflow.utils.requirements_utils: Found jaxlib version (0.4.26+cuda12.cudnn89) contains a local version label (+cuda12.cudnn89). MLflow logged a pip requirement for this package as 'jaxlib==0.4.26' without the local version label to make it installable from PyPI. To specify pip requirements containing local version labels, please use `conda_env` or `pip_requirements`.\n",
            "100%|██████████| 281/281 [02:50<00:00,  1.65it/s]\n",
            "2024/04/14 16:05:22 WARNING mlflow.utils.requirements_utils: Found torch version (2.2.1+cu121) contains a local version label (+cu121). MLflow logged a pip requirement for this package as 'torch==2.2.1' without the local version label to make it installable from PyPI. To specify pip requirements containing local version labels, please use `conda_env` or `pip_requirements`.\n"
          ]
        },
        {
          "output_type": "stream",
          "name": "stdout",
          "text": [
            "Train epoch 84 loss:  1535.8615\n"
          ]
        },
        {
          "output_type": "stream",
          "name": "stderr",
          "text": [
            "2024/04/14 16:05:28 WARNING mlflow.utils.requirements_utils: Found jaxlib version (0.4.26+cuda12.cudnn89) contains a local version label (+cuda12.cudnn89). MLflow logged a pip requirement for this package as 'jaxlib==0.4.26' without the local version label to make it installable from PyPI. To specify pip requirements containing local version labels, please use `conda_env` or `pip_requirements`.\n",
            "100%|██████████| 281/281 [02:50<00:00,  1.65it/s]\n",
            "2024/04/14 16:08:18 WARNING mlflow.utils.requirements_utils: Found torch version (2.2.1+cu121) contains a local version label (+cu121). MLflow logged a pip requirement for this package as 'torch==2.2.1' without the local version label to make it installable from PyPI. To specify pip requirements containing local version labels, please use `conda_env` or `pip_requirements`.\n"
          ]
        },
        {
          "output_type": "stream",
          "name": "stdout",
          "text": [
            "Train epoch 85 loss:  1535.1948\n"
          ]
        },
        {
          "output_type": "stream",
          "name": "stderr",
          "text": [
            "2024/04/14 16:08:25 WARNING mlflow.utils.requirements_utils: Found jaxlib version (0.4.26+cuda12.cudnn89) contains a local version label (+cuda12.cudnn89). MLflow logged a pip requirement for this package as 'jaxlib==0.4.26' without the local version label to make it installable from PyPI. To specify pip requirements containing local version labels, please use `conda_env` or `pip_requirements`.\n",
            "100%|██████████| 281/281 [02:49<00:00,  1.66it/s]\n",
            "2024/04/14 16:11:15 WARNING mlflow.utils.requirements_utils: Found torch version (2.2.1+cu121) contains a local version label (+cu121). MLflow logged a pip requirement for this package as 'torch==2.2.1' without the local version label to make it installable from PyPI. To specify pip requirements containing local version labels, please use `conda_env` or `pip_requirements`.\n"
          ]
        },
        {
          "output_type": "stream",
          "name": "stdout",
          "text": [
            "Train epoch 86 loss:  1551.7281\n"
          ]
        },
        {
          "output_type": "stream",
          "name": "stderr",
          "text": [
            "2024/04/14 16:11:22 WARNING mlflow.utils.requirements_utils: Found jaxlib version (0.4.26+cuda12.cudnn89) contains a local version label (+cuda12.cudnn89). MLflow logged a pip requirement for this package as 'jaxlib==0.4.26' without the local version label to make it installable from PyPI. To specify pip requirements containing local version labels, please use `conda_env` or `pip_requirements`.\n",
            "100%|██████████| 281/281 [02:49<00:00,  1.66it/s]\n",
            "2024/04/14 16:14:11 WARNING mlflow.utils.requirements_utils: Found torch version (2.2.1+cu121) contains a local version label (+cu121). MLflow logged a pip requirement for this package as 'torch==2.2.1' without the local version label to make it installable from PyPI. To specify pip requirements containing local version labels, please use `conda_env` or `pip_requirements`.\n"
          ]
        },
        {
          "output_type": "stream",
          "name": "stdout",
          "text": [
            "Train epoch 87 loss:  1540.0792\n"
          ]
        },
        {
          "output_type": "stream",
          "name": "stderr",
          "text": [
            "2024/04/14 16:14:18 WARNING mlflow.utils.requirements_utils: Found jaxlib version (0.4.26+cuda12.cudnn89) contains a local version label (+cuda12.cudnn89). MLflow logged a pip requirement for this package as 'jaxlib==0.4.26' without the local version label to make it installable from PyPI. To specify pip requirements containing local version labels, please use `conda_env` or `pip_requirements`.\n",
            "100%|██████████| 281/281 [02:49<00:00,  1.66it/s]\n",
            "2024/04/14 16:17:08 WARNING mlflow.utils.requirements_utils: Found torch version (2.2.1+cu121) contains a local version label (+cu121). MLflow logged a pip requirement for this package as 'torch==2.2.1' without the local version label to make it installable from PyPI. To specify pip requirements containing local version labels, please use `conda_env` or `pip_requirements`.\n"
          ]
        },
        {
          "output_type": "stream",
          "name": "stdout",
          "text": [
            "Train epoch 88 loss:  1530.8796\n"
          ]
        },
        {
          "output_type": "stream",
          "name": "stderr",
          "text": [
            "2024/04/14 16:17:14 WARNING mlflow.utils.requirements_utils: Found jaxlib version (0.4.26+cuda12.cudnn89) contains a local version label (+cuda12.cudnn89). MLflow logged a pip requirement for this package as 'jaxlib==0.4.26' without the local version label to make it installable from PyPI. To specify pip requirements containing local version labels, please use `conda_env` or `pip_requirements`.\n",
            "100%|██████████| 281/281 [02:49<00:00,  1.65it/s]\n",
            "2024/04/14 16:20:04 WARNING mlflow.utils.requirements_utils: Found torch version (2.2.1+cu121) contains a local version label (+cu121). MLflow logged a pip requirement for this package as 'torch==2.2.1' without the local version label to make it installable from PyPI. To specify pip requirements containing local version labels, please use `conda_env` or `pip_requirements`.\n"
          ]
        },
        {
          "output_type": "stream",
          "name": "stdout",
          "text": [
            "Train epoch 89 loss:  1505.6655\n"
          ]
        },
        {
          "output_type": "stream",
          "name": "stderr",
          "text": [
            "2024/04/14 16:20:11 WARNING mlflow.utils.requirements_utils: Found jaxlib version (0.4.26+cuda12.cudnn89) contains a local version label (+cuda12.cudnn89). MLflow logged a pip requirement for this package as 'jaxlib==0.4.26' without the local version label to make it installable from PyPI. To specify pip requirements containing local version labels, please use `conda_env` or `pip_requirements`.\n",
            "100%|██████████| 281/281 [02:49<00:00,  1.66it/s]\n",
            "2024/04/14 16:23:01 WARNING mlflow.utils.requirements_utils: Found torch version (2.2.1+cu121) contains a local version label (+cu121). MLflow logged a pip requirement for this package as 'torch==2.2.1' without the local version label to make it installable from PyPI. To specify pip requirements containing local version labels, please use `conda_env` or `pip_requirements`.\n"
          ]
        },
        {
          "output_type": "stream",
          "name": "stdout",
          "text": [
            "Train epoch 90 loss:  1509.6753\n"
          ]
        },
        {
          "output_type": "stream",
          "name": "stderr",
          "text": [
            "2024/04/14 16:23:08 WARNING mlflow.utils.requirements_utils: Found jaxlib version (0.4.26+cuda12.cudnn89) contains a local version label (+cuda12.cudnn89). MLflow logged a pip requirement for this package as 'jaxlib==0.4.26' without the local version label to make it installable from PyPI. To specify pip requirements containing local version labels, please use `conda_env` or `pip_requirements`.\n",
            "100%|██████████| 281/281 [02:49<00:00,  1.66it/s]\n",
            "2024/04/14 16:25:57 WARNING mlflow.utils.requirements_utils: Found torch version (2.2.1+cu121) contains a local version label (+cu121). MLflow logged a pip requirement for this package as 'torch==2.2.1' without the local version label to make it installable from PyPI. To specify pip requirements containing local version labels, please use `conda_env` or `pip_requirements`.\n"
          ]
        },
        {
          "output_type": "stream",
          "name": "stdout",
          "text": [
            "Train epoch 91 loss:  1497.8151\n"
          ]
        },
        {
          "output_type": "stream",
          "name": "stderr",
          "text": [
            "2024/04/14 16:26:04 WARNING mlflow.utils.requirements_utils: Found jaxlib version (0.4.26+cuda12.cudnn89) contains a local version label (+cuda12.cudnn89). MLflow logged a pip requirement for this package as 'jaxlib==0.4.26' without the local version label to make it installable from PyPI. To specify pip requirements containing local version labels, please use `conda_env` or `pip_requirements`.\n",
            "100%|██████████| 281/281 [02:49<00:00,  1.65it/s]\n",
            "2024/04/14 16:28:54 WARNING mlflow.utils.requirements_utils: Found torch version (2.2.1+cu121) contains a local version label (+cu121). MLflow logged a pip requirement for this package as 'torch==2.2.1' without the local version label to make it installable from PyPI. To specify pip requirements containing local version labels, please use `conda_env` or `pip_requirements`.\n"
          ]
        },
        {
          "output_type": "stream",
          "name": "stdout",
          "text": [
            "Train epoch 92 loss:  1517.118\n"
          ]
        },
        {
          "output_type": "stream",
          "name": "stderr",
          "text": [
            "2024/04/14 16:29:01 WARNING mlflow.utils.requirements_utils: Found jaxlib version (0.4.26+cuda12.cudnn89) contains a local version label (+cuda12.cudnn89). MLflow logged a pip requirement for this package as 'jaxlib==0.4.26' without the local version label to make it installable from PyPI. To specify pip requirements containing local version labels, please use `conda_env` or `pip_requirements`.\n",
            "100%|██████████| 281/281 [02:49<00:00,  1.66it/s]\n",
            "2024/04/14 16:31:51 WARNING mlflow.utils.requirements_utils: Found torch version (2.2.1+cu121) contains a local version label (+cu121). MLflow logged a pip requirement for this package as 'torch==2.2.1' without the local version label to make it installable from PyPI. To specify pip requirements containing local version labels, please use `conda_env` or `pip_requirements`.\n"
          ]
        },
        {
          "output_type": "stream",
          "name": "stdout",
          "text": [
            "Train epoch 93 loss:  1507.3774\n"
          ]
        },
        {
          "output_type": "stream",
          "name": "stderr",
          "text": [
            "2024/04/14 16:31:57 WARNING mlflow.utils.requirements_utils: Found jaxlib version (0.4.26+cuda12.cudnn89) contains a local version label (+cuda12.cudnn89). MLflow logged a pip requirement for this package as 'jaxlib==0.4.26' without the local version label to make it installable from PyPI. To specify pip requirements containing local version labels, please use `conda_env` or `pip_requirements`.\n",
            "100%|██████████| 281/281 [02:50<00:00,  1.65it/s]\n",
            "2024/04/14 16:34:47 WARNING mlflow.utils.requirements_utils: Found torch version (2.2.1+cu121) contains a local version label (+cu121). MLflow logged a pip requirement for this package as 'torch==2.2.1' without the local version label to make it installable from PyPI. To specify pip requirements containing local version labels, please use `conda_env` or `pip_requirements`.\n"
          ]
        },
        {
          "output_type": "stream",
          "name": "stdout",
          "text": [
            "Train epoch 94 loss:  1494.2728\n"
          ]
        },
        {
          "output_type": "stream",
          "name": "stderr",
          "text": [
            "2024/04/14 16:34:54 WARNING mlflow.utils.requirements_utils: Found jaxlib version (0.4.26+cuda12.cudnn89) contains a local version label (+cuda12.cudnn89). MLflow logged a pip requirement for this package as 'jaxlib==0.4.26' without the local version label to make it installable from PyPI. To specify pip requirements containing local version labels, please use `conda_env` or `pip_requirements`.\n",
            "100%|██████████| 281/281 [02:49<00:00,  1.65it/s]\n",
            "2024/04/14 16:37:44 WARNING mlflow.utils.requirements_utils: Found torch version (2.2.1+cu121) contains a local version label (+cu121). MLflow logged a pip requirement for this package as 'torch==2.2.1' without the local version label to make it installable from PyPI. To specify pip requirements containing local version labels, please use `conda_env` or `pip_requirements`.\n"
          ]
        },
        {
          "output_type": "stream",
          "name": "stdout",
          "text": [
            "Train epoch 95 loss:  1492.814\n"
          ]
        },
        {
          "output_type": "stream",
          "name": "stderr",
          "text": [
            "2024/04/14 16:37:51 WARNING mlflow.utils.requirements_utils: Found jaxlib version (0.4.26+cuda12.cudnn89) contains a local version label (+cuda12.cudnn89). MLflow logged a pip requirement for this package as 'jaxlib==0.4.26' without the local version label to make it installable from PyPI. To specify pip requirements containing local version labels, please use `conda_env` or `pip_requirements`.\n",
            "100%|██████████| 281/281 [02:50<00:00,  1.65it/s]\n",
            "2024/04/14 16:40:42 WARNING mlflow.utils.requirements_utils: Found torch version (2.2.1+cu121) contains a local version label (+cu121). MLflow logged a pip requirement for this package as 'torch==2.2.1' without the local version label to make it installable from PyPI. To specify pip requirements containing local version labels, please use `conda_env` or `pip_requirements`.\n"
          ]
        },
        {
          "output_type": "stream",
          "name": "stdout",
          "text": [
            "Train epoch 96 loss:  1612.9478\n"
          ]
        },
        {
          "output_type": "stream",
          "name": "stderr",
          "text": [
            "2024/04/14 16:40:48 WARNING mlflow.utils.requirements_utils: Found jaxlib version (0.4.26+cuda12.cudnn89) contains a local version label (+cuda12.cudnn89). MLflow logged a pip requirement for this package as 'jaxlib==0.4.26' without the local version label to make it installable from PyPI. To specify pip requirements containing local version labels, please use `conda_env` or `pip_requirements`.\n",
            "100%|██████████| 281/281 [02:49<00:00,  1.65it/s]\n",
            "2024/04/14 16:43:38 WARNING mlflow.utils.requirements_utils: Found torch version (2.2.1+cu121) contains a local version label (+cu121). MLflow logged a pip requirement for this package as 'torch==2.2.1' without the local version label to make it installable from PyPI. To specify pip requirements containing local version labels, please use `conda_env` or `pip_requirements`.\n"
          ]
        },
        {
          "output_type": "stream",
          "name": "stdout",
          "text": [
            "Train epoch 97 loss:  1655.1714\n"
          ]
        },
        {
          "output_type": "stream",
          "name": "stderr",
          "text": [
            "2024/04/14 16:43:45 WARNING mlflow.utils.requirements_utils: Found jaxlib version (0.4.26+cuda12.cudnn89) contains a local version label (+cuda12.cudnn89). MLflow logged a pip requirement for this package as 'jaxlib==0.4.26' without the local version label to make it installable from PyPI. To specify pip requirements containing local version labels, please use `conda_env` or `pip_requirements`.\n",
            "100%|██████████| 281/281 [02:49<00:00,  1.66it/s]\n",
            "2024/04/14 16:46:35 WARNING mlflow.utils.requirements_utils: Found torch version (2.2.1+cu121) contains a local version label (+cu121). MLflow logged a pip requirement for this package as 'torch==2.2.1' without the local version label to make it installable from PyPI. To specify pip requirements containing local version labels, please use `conda_env` or `pip_requirements`.\n"
          ]
        },
        {
          "output_type": "stream",
          "name": "stdout",
          "text": [
            "Train epoch 98 loss:  1614.27\n"
          ]
        },
        {
          "output_type": "stream",
          "name": "stderr",
          "text": [
            "2024/04/14 16:46:42 WARNING mlflow.utils.requirements_utils: Found jaxlib version (0.4.26+cuda12.cudnn89) contains a local version label (+cuda12.cudnn89). MLflow logged a pip requirement for this package as 'jaxlib==0.4.26' without the local version label to make it installable from PyPI. To specify pip requirements containing local version labels, please use `conda_env` or `pip_requirements`.\n",
            "100%|██████████| 281/281 [02:49<00:00,  1.65it/s]\n",
            "2024/04/14 16:49:32 WARNING mlflow.utils.requirements_utils: Found torch version (2.2.1+cu121) contains a local version label (+cu121). MLflow logged a pip requirement for this package as 'torch==2.2.1' without the local version label to make it installable from PyPI. To specify pip requirements containing local version labels, please use `conda_env` or `pip_requirements`.\n"
          ]
        },
        {
          "output_type": "stream",
          "name": "stdout",
          "text": [
            "Train epoch 99 loss:  1587.1713\n"
          ]
        },
        {
          "output_type": "stream",
          "name": "stderr",
          "text": [
            "2024/04/14 16:49:38 WARNING mlflow.utils.requirements_utils: Found jaxlib version (0.4.26+cuda12.cudnn89) contains a local version label (+cuda12.cudnn89). MLflow logged a pip requirement for this package as 'jaxlib==0.4.26' without the local version label to make it installable from PyPI. To specify pip requirements containing local version labels, please use `conda_env` or `pip_requirements`.\n",
            "100%|██████████| 281/281 [02:50<00:00,  1.65it/s]\n",
            "2024/04/14 16:52:29 WARNING mlflow.utils.requirements_utils: Found torch version (2.2.1+cu121) contains a local version label (+cu121). MLflow logged a pip requirement for this package as 'torch==2.2.1' without the local version label to make it installable from PyPI. To specify pip requirements containing local version labels, please use `conda_env` or `pip_requirements`.\n"
          ]
        },
        {
          "output_type": "stream",
          "name": "stdout",
          "text": [
            "Train epoch 100 loss:  1563.2291\n"
          ]
        },
        {
          "output_type": "stream",
          "name": "stderr",
          "text": [
            "2024/04/14 16:52:36 WARNING mlflow.utils.requirements_utils: Found jaxlib version (0.4.26+cuda12.cudnn89) contains a local version label (+cuda12.cudnn89). MLflow logged a pip requirement for this package as 'jaxlib==0.4.26' without the local version label to make it installable from PyPI. To specify pip requirements containing local version labels, please use `conda_env` or `pip_requirements`.\n",
            "2024/04/14 16:52:36 WARNING mlflow.utils.requirements_utils: Found torch version (2.2.1+cu121) contains a local version label (+cu121). MLflow logged a pip requirement for this package as 'torch==2.2.1' without the local version label to make it installable from PyPI. To specify pip requirements containing local version labels, please use `conda_env` or `pip_requirements`.\n",
            "2024/04/14 16:52:43 WARNING mlflow.utils.requirements_utils: Found jaxlib version (0.4.26+cuda12.cudnn89) contains a local version label (+cuda12.cudnn89). MLflow logged a pip requirement for this package as 'jaxlib==0.4.26' without the local version label to make it installable from PyPI. To specify pip requirements containing local version labels, please use `conda_env` or `pip_requirements`.\n"
          ]
        }
      ]
    },
    {
      "cell_type": "code",
      "source": [
        "graphs = model.sample_graphs(10)"
      ],
      "metadata": {
        "id": "KVP75lnudpiw",
        "colab": {
          "base_uri": "https://localhost:8080/"
        },
        "outputId": "cf9c3ca5-891e-44ff-a32b-8d921c68783c"
      },
      "execution_count": null,
      "outputs": [
        {
          "output_type": "stream",
          "name": "stdout",
          "text": [
            "Sampling materials ... \n"
          ]
        },
        {
          "output_type": "stream",
          "name": "stderr",
          "text": [
            "100%|██████████| 100/100 [00:01<00:00, 66.35it/s]\n"
          ]
        }
      ]
    },
    {
      "cell_type": "code",
      "source": [
        "graphs[99].x"
      ],
      "metadata": {
        "id": "ayXFD8wQem-M",
        "colab": {
          "base_uri": "https://localhost:8080/"
        },
        "outputId": "3d112003-3efd-43e9-824b-6526389a5217"
      },
      "execution_count": null,
      "outputs": [
        {
          "output_type": "execute_result",
          "data": {
            "text/plain": [
              "tensor([[ 0.0000e+00,  1.2604e-02, -1.3791e-01, -1.7877e-01],\n",
              "        [ 2.0000e+00, -2.3322e-01, -3.6316e-01, -3.7851e-01],\n",
              "        [ 6.0000e+00,  6.4429e-01,  2.5776e-01,  6.6989e-01],\n",
              "        [ 6.0000e+00,  5.1944e-02, -7.1272e-02,  5.5665e-01],\n",
              "        [ 6.0000e+00, -1.4892e-01, -2.0007e-01,  3.1569e-01],\n",
              "        [ 3.0000e+00,  5.6126e-01,  4.4179e-01,  1.1305e+00],\n",
              "        [ 1.2000e+01,  4.9334e-01,  2.0947e-01,  4.7138e-01],\n",
              "        [ 6.0000e+00, -1.7799e-01, -2.3646e-01, -4.3765e-02],\n",
              "        [ 2.0000e+00,  1.2516e+00,  7.1839e-01,  1.4773e+00],\n",
              "        [ 3.0000e+00,  7.8170e-01,  3.7863e-01,  1.1208e+00],\n",
              "        [ 1.4000e+01,  1.1005e-01, -5.5989e-04,  1.4810e-01],\n",
              "        [ 4.1000e+01, -2.7557e-01, -2.7897e-02, -4.6296e-01],\n",
              "        [ 2.0000e+00,  2.2705e-01, -4.0406e-02,  5.3485e-01],\n",
              "        [ 6.0000e+00, -7.5113e-02, -4.1200e-01, -2.6448e-01],\n",
              "        [ 1.4000e+01,  4.4899e-01,  8.3423e-02,  1.1045e+00]], device='cuda:0',\n",
              "       grad_fn=<CatBackward0>)"
            ]
          },
          "metadata": {},
          "execution_count": 40
        }
      ]
    },
    {
      "cell_type": "code",
      "source": [
        "graphs[0].x"
      ],
      "metadata": {
        "colab": {
          "base_uri": "https://localhost:8080/"
        },
        "id": "0GboXqRLiGtg",
        "outputId": "ca8a597e-a6c0-4ae8-8f00-f50802b62e0a"
      },
      "execution_count": null,
      "outputs": [
        {
          "output_type": "execute_result",
          "data": {
            "text/plain": [
              "tensor([[ 0.0000e+00, -2.8010e-02, -1.4131e-01, -1.9392e-01],\n",
              "        [ 2.0000e+00, -2.9739e-01, -3.5196e-01, -4.0671e-01],\n",
              "        [ 6.0000e+00,  7.0862e-01,  3.4209e-01,  7.5355e-01],\n",
              "        [ 6.0000e+00,  1.2874e-03, -8.5675e-02,  5.0737e-01],\n",
              "        [ 6.0000e+00,  1.2034e-02, -8.5902e-02,  5.0244e-01],\n",
              "        [ 3.0000e+00,  4.7669e-01,  3.5995e-01,  1.0089e+00],\n",
              "        [ 1.2000e+01,  4.7923e-01,  2.1651e-01,  4.5014e-01],\n",
              "        [ 6.0000e+00,  5.4597e-02, -8.2491e-02,  2.0096e-01],\n",
              "        [ 2.0000e+00,  1.1745e+00,  7.3806e-01,  1.4354e+00],\n",
              "        [ 3.0000e+00,  6.6360e-01,  3.3894e-01,  1.0221e+00],\n",
              "        [ 3.3000e+01,  3.5276e-02, -6.9160e-02,  9.8445e-02],\n",
              "        [ 4.1000e+01, -1.7538e-01,  4.7847e-02, -3.6828e-01],\n",
              "        [ 2.0000e+00,  9.2369e-02, -1.0684e-01,  4.2744e-01],\n",
              "        [ 6.0000e+00,  3.6169e-01, -7.2626e-02,  2.1622e-01],\n",
              "        [ 6.0000e+00,  3.7993e-01,  6.6950e-02,  1.0800e+00]], device='cuda:0',\n",
              "       grad_fn=<CatBackward0>)"
            ]
          },
          "metadata": {},
          "execution_count": 41
        }
      ]
    },
    {
      "cell_type": "code",
      "source": [
        "visualizeCrystal(graphs[99])"
      ],
      "metadata": {
        "colab": {
          "base_uri": "https://localhost:8080/",
          "height": 416
        },
        "id": "NYhwfmIJecOi",
        "outputId": "e7506204-75cb-46d7-eb3f-341a17b19029"
      },
      "execution_count": null,
      "outputs": [
        {
          "output_type": "display_data",
          "data": {
            "application/3dmoljs_load.v0": "<div id=\"3dmolviewer_17131136720477707\"  style=\"position: relative; width: 800px; height: 400px;\">\n        <p id=\"3dmolwarning_17131136720477707\" style=\"background-color:#ffcccc;color:black\">3Dmol.js failed to load for some reason.  Please check your browser console for error messages.<br></p>\n        </div>\n<script>\n\nvar loadScriptAsync = function(uri){\n  return new Promise((resolve, reject) => {\n    //this is to ignore the existence of requirejs amd\n    var savedexports, savedmodule;\n    if (typeof exports !== 'undefined') savedexports = exports;\n    else exports = {}\n    if (typeof module !== 'undefined') savedmodule = module;\n    else module = {}\n\n    var tag = document.createElement('script');\n    tag.src = uri;\n    tag.async = true;\n    tag.onload = () => {\n        exports = savedexports;\n        module = savedmodule;\n        resolve();\n    };\n  var firstScriptTag = document.getElementsByTagName('script')[0];\n  firstScriptTag.parentNode.insertBefore(tag, firstScriptTag);\n});\n};\n\nif(typeof $3Dmolpromise === 'undefined') {\n$3Dmolpromise = null;\n  $3Dmolpromise = loadScriptAsync('https://cdnjs.cloudflare.com/ajax/libs/3Dmol/2.1.0/3Dmol-min.js');\n}\n\nvar viewer_17131136720477707 = null;\nvar warn = document.getElementById(\"3dmolwarning_17131136720477707\");\nif(warn) {\n    warn.parentNode.removeChild(warn);\n}\n$3Dmolpromise.then(function() {\nviewer_17131136720477707 = $3Dmol.createViewer(document.getElementById(\"3dmolviewer_17131136720477707\"),{backgroundColor:\"white\"});\nviewer_17131136720477707.zoomTo();\n\tviewer_17131136720477707.addSphere({\"center\": {\"x\": 0.012603730894625187, \"y\": -0.13790516555309296, \"z\": -0.17877084016799927}, \"radius\": 0.5, \"color\": \"white\"});\n\tviewer_17131136720477707.addSphere({\"center\": {\"x\": -0.23321940004825592, \"y\": -0.36315682530403137, \"z\": -0.3785092830657959}, \"radius\": 0.5, \"color\": \"indigo\"});\n\tviewer_17131136720477707.addSphere({\"center\": {\"x\": 0.6442855596542358, \"y\": 0.2577609419822693, \"z\": 0.669890820980072}, \"radius\": 0.5, \"color\": \"red\"});\n\tviewer_17131136720477707.addSphere({\"center\": {\"x\": 0.05194411426782608, \"y\": -0.07127223163843155, \"z\": 0.5566464066505432}, \"radius\": 0.5, \"color\": \"red\"});\n\tviewer_17131136720477707.addSphere({\"center\": {\"x\": -0.1489158272743225, \"y\": -0.20006652176380157, \"z\": 0.3156854212284088}, \"radius\": 0.5, \"color\": \"red\"});\n\tviewer_17131136720477707.addSphere({\"center\": {\"x\": 0.56125807762146, \"y\": 0.44178760051727295, \"z\": 1.1304593086242676}, \"radius\": 0.5, \"color\": \"yellowgreen\"});\n\tviewer_17131136720477707.addSphere({\"center\": {\"x\": 0.4933430254459381, \"y\": 0.20946770906448364, \"z\": 0.471381813287735}, \"radius\": 0.5, \"color\": \"yellowgreen\"});\n\tviewer_17131136720477707.addSphere({\"center\": {\"x\": -0.1779893934726715, \"y\": -0.2364610880613327, \"z\": -0.043764978647232056}, \"radius\": 0.5, \"color\": \"red\"});\n\tviewer_17131136720477707.addSphere({\"center\": {\"x\": 1.2515766620635986, \"y\": 0.7183864712715149, \"z\": 1.4772965908050537}, \"radius\": 0.5, \"color\": \"indigo\"});\n\tviewer_17131136720477707.addSphere({\"center\": {\"x\": 0.7817031145095825, \"y\": 0.3786296248435974, \"z\": 1.1207937002182007}, \"radius\": 0.5, \"color\": \"yellowgreen\"});\n\tviewer_17131136720477707.addSphere({\"center\": {\"x\": 0.11005029082298279, \"y\": -0.0005598919233307242, \"z\": 0.1481025367975235}, \"radius\": 0.5, \"color\": \"yellow\"});\n\tviewer_17131136720477707.addSphere({\"center\": {\"x\": -0.2755663990974426, \"y\": -0.027897333726286888, \"z\": -0.4629642963409424}, \"radius\": 0.5, \"color\": \"blue\"});\n\tviewer_17131136720477707.addSphere({\"center\": {\"x\": 0.22705194354057312, \"y\": -0.04040615260601044, \"z\": 0.5348487496376038}, \"radius\": 0.5, \"color\": \"indigo\"});\n\tviewer_17131136720477707.addSphere({\"center\": {\"x\": -0.07511302083730698, \"y\": -0.4120001494884491, \"z\": -0.2644761800765991}, \"radius\": 0.5, \"color\": \"red\"});\n\tviewer_17131136720477707.addSphere({\"center\": {\"x\": 0.4489879012107849, \"y\": 0.08342325687408447, \"z\": 1.1044511795043945}, \"radius\": 0.5, \"color\": \"yellow\"});\n\tviewer_17131136720477707.addCylinder({\"start\": {\"x\": 0.012603730894625187, \"y\": -0.13790516555309296, \"z\": -0.17877084016799927}, \"end\": {\"x\": 0.6442855596542358, \"y\": 0.2577609419822693, \"z\": 0.669890820980072}, \"radius\": 0.1, \"color\": \"gray\"});\n\tviewer_17131136720477707.addCylinder({\"start\": {\"x\": 0.012603730894625187, \"y\": -0.13790516555309296, \"z\": -0.17877084016799927}, \"end\": {\"x\": 0.05194411426782608, \"y\": -0.07127223163843155, \"z\": 0.5566464066505432}, \"radius\": 0.1, \"color\": \"gray\"});\n\tviewer_17131136720477707.addCylinder({\"start\": {\"x\": 0.012603730894625187, \"y\": -0.13790516555309296, \"z\": -0.17877084016799927}, \"end\": {\"x\": -0.1489158272743225, \"y\": -0.20006652176380157, \"z\": 0.3156854212284088}, \"radius\": 0.1, \"color\": \"gray\"});\n\tviewer_17131136720477707.addCylinder({\"start\": {\"x\": 0.012603730894625187, \"y\": -0.13790516555309296, \"z\": -0.17877084016799927}, \"end\": {\"x\": 0.56125807762146, \"y\": 0.44178760051727295, \"z\": 1.1304593086242676}, \"radius\": 0.1, \"color\": \"gray\"});\n\tviewer_17131136720477707.addCylinder({\"start\": {\"x\": 0.012603730894625187, \"y\": -0.13790516555309296, \"z\": -0.17877084016799927}, \"end\": {\"x\": 0.4933430254459381, \"y\": 0.20946770906448364, \"z\": 0.471381813287735}, \"radius\": 0.1, \"color\": \"gray\"});\n\tviewer_17131136720477707.addCylinder({\"start\": {\"x\": 0.012603730894625187, \"y\": -0.13790516555309296, \"z\": -0.17877084016799927}, \"end\": {\"x\": -0.1779893934726715, \"y\": -0.2364610880613327, \"z\": -0.043764978647232056}, \"radius\": 0.1, \"color\": \"gray\"});\n\tviewer_17131136720477707.addCylinder({\"start\": {\"x\": 0.012603730894625187, \"y\": -0.13790516555309296, \"z\": -0.17877084016799927}, \"end\": {\"x\": 1.2515766620635986, \"y\": 0.7183864712715149, \"z\": 1.4772965908050537}, \"radius\": 0.1, \"color\": \"gray\"});\n\tviewer_17131136720477707.addCylinder({\"start\": {\"x\": 0.012603730894625187, \"y\": -0.13790516555309296, \"z\": -0.17877084016799927}, \"end\": {\"x\": 0.7817031145095825, \"y\": 0.3786296248435974, \"z\": 1.1207937002182007}, \"radius\": 0.1, \"color\": \"gray\"});\n\tviewer_17131136720477707.addCylinder({\"start\": {\"x\": 0.012603730894625187, \"y\": -0.13790516555309296, \"z\": -0.17877084016799927}, \"end\": {\"x\": 0.11005029082298279, \"y\": -0.0005598919233307242, \"z\": 0.1481025367975235}, \"radius\": 0.1, \"color\": \"gray\"});\n\tviewer_17131136720477707.addCylinder({\"start\": {\"x\": 0.012603730894625187, \"y\": -0.13790516555309296, \"z\": -0.17877084016799927}, \"end\": {\"x\": 0.22705194354057312, \"y\": -0.04040615260601044, \"z\": 0.5348487496376038}, \"radius\": 0.1, \"color\": \"gray\"});\n\tviewer_17131136720477707.addCylinder({\"start\": {\"x\": 0.012603730894625187, \"y\": -0.13790516555309296, \"z\": -0.17877084016799927}, \"end\": {\"x\": -0.07511302083730698, \"y\": -0.4120001494884491, \"z\": -0.2644761800765991}, \"radius\": 0.1, \"color\": \"gray\"});\n\tviewer_17131136720477707.addCylinder({\"start\": {\"x\": 0.012603730894625187, \"y\": -0.13790516555309296, \"z\": -0.17877084016799927}, \"end\": {\"x\": 0.4489879012107849, \"y\": 0.08342325687408447, \"z\": 1.1044511795043945}, \"radius\": 0.1, \"color\": \"gray\"});\n\tviewer_17131136720477707.addCylinder({\"start\": {\"x\": -0.23321940004825592, \"y\": -0.36315682530403137, \"z\": -0.3785092830657959}, \"end\": {\"x\": 0.6442855596542358, \"y\": 0.2577609419822693, \"z\": 0.669890820980072}, \"radius\": 0.1, \"color\": \"gray\"});\n\tviewer_17131136720477707.addCylinder({\"start\": {\"x\": -0.23321940004825592, \"y\": -0.36315682530403137, \"z\": -0.3785092830657959}, \"end\": {\"x\": 0.05194411426782608, \"y\": -0.07127223163843155, \"z\": 0.5566464066505432}, \"radius\": 0.1, \"color\": \"gray\"});\n\tviewer_17131136720477707.addCylinder({\"start\": {\"x\": -0.23321940004825592, \"y\": -0.36315682530403137, \"z\": -0.3785092830657959}, \"end\": {\"x\": -0.1489158272743225, \"y\": -0.20006652176380157, \"z\": 0.3156854212284088}, \"radius\": 0.1, \"color\": \"gray\"});\n\tviewer_17131136720477707.addCylinder({\"start\": {\"x\": -0.23321940004825592, \"y\": -0.36315682530403137, \"z\": -0.3785092830657959}, \"end\": {\"x\": 0.56125807762146, \"y\": 0.44178760051727295, \"z\": 1.1304593086242676}, \"radius\": 0.1, \"color\": \"gray\"});\n\tviewer_17131136720477707.addCylinder({\"start\": {\"x\": -0.23321940004825592, \"y\": -0.36315682530403137, \"z\": -0.3785092830657959}, \"end\": {\"x\": 0.4933430254459381, \"y\": 0.20946770906448364, \"z\": 0.471381813287735}, \"radius\": 0.1, \"color\": \"gray\"});\n\tviewer_17131136720477707.addCylinder({\"start\": {\"x\": -0.23321940004825592, \"y\": -0.36315682530403137, \"z\": -0.3785092830657959}, \"end\": {\"x\": -0.1779893934726715, \"y\": -0.2364610880613327, \"z\": -0.043764978647232056}, \"radius\": 0.1, \"color\": \"gray\"});\n\tviewer_17131136720477707.addCylinder({\"start\": {\"x\": -0.23321940004825592, \"y\": -0.36315682530403137, \"z\": -0.3785092830657959}, \"end\": {\"x\": 1.2515766620635986, \"y\": 0.7183864712715149, \"z\": 1.4772965908050537}, \"radius\": 0.1, \"color\": \"gray\"});\n\tviewer_17131136720477707.addCylinder({\"start\": {\"x\": -0.23321940004825592, \"y\": -0.36315682530403137, \"z\": -0.3785092830657959}, \"end\": {\"x\": 0.7817031145095825, \"y\": 0.3786296248435974, \"z\": 1.1207937002182007}, \"radius\": 0.1, \"color\": \"gray\"});\n\tviewer_17131136720477707.addCylinder({\"start\": {\"x\": -0.23321940004825592, \"y\": -0.36315682530403137, \"z\": -0.3785092830657959}, \"end\": {\"x\": 0.22705194354057312, \"y\": -0.04040615260601044, \"z\": 0.5348487496376038}, \"radius\": 0.1, \"color\": \"gray\"});\n\tviewer_17131136720477707.addCylinder({\"start\": {\"x\": -0.23321940004825592, \"y\": -0.36315682530403137, \"z\": -0.3785092830657959}, \"end\": {\"x\": -0.07511302083730698, \"y\": -0.4120001494884491, \"z\": -0.2644761800765991}, \"radius\": 0.1, \"color\": \"gray\"});\n\tviewer_17131136720477707.addCylinder({\"start\": {\"x\": -0.23321940004825592, \"y\": -0.36315682530403137, \"z\": -0.3785092830657959}, \"end\": {\"x\": 0.4489879012107849, \"y\": 0.08342325687408447, \"z\": 1.1044511795043945}, \"radius\": 0.1, \"color\": \"gray\"});\n\tviewer_17131136720477707.addCylinder({\"start\": {\"x\": 0.6442855596542358, \"y\": 0.2577609419822693, \"z\": 0.669890820980072}, \"end\": {\"x\": 0.05194411426782608, \"y\": -0.07127223163843155, \"z\": 0.5566464066505432}, \"radius\": 0.1, \"color\": \"gray\"});\n\tviewer_17131136720477707.addCylinder({\"start\": {\"x\": 0.6442855596542358, \"y\": 0.2577609419822693, \"z\": 0.669890820980072}, \"end\": {\"x\": -0.1489158272743225, \"y\": -0.20006652176380157, \"z\": 0.3156854212284088}, \"radius\": 0.1, \"color\": \"gray\"});\n\tviewer_17131136720477707.addCylinder({\"start\": {\"x\": 0.6442855596542358, \"y\": 0.2577609419822693, \"z\": 0.669890820980072}, \"end\": {\"x\": 0.56125807762146, \"y\": 0.44178760051727295, \"z\": 1.1304593086242676}, \"radius\": 0.1, \"color\": \"gray\"});\n\tviewer_17131136720477707.addCylinder({\"start\": {\"x\": 0.6442855596542358, \"y\": 0.2577609419822693, \"z\": 0.669890820980072}, \"end\": {\"x\": 0.4933430254459381, \"y\": 0.20946770906448364, \"z\": 0.471381813287735}, \"radius\": 0.1, \"color\": \"gray\"});\n\tviewer_17131136720477707.addCylinder({\"start\": {\"x\": 0.6442855596542358, \"y\": 0.2577609419822693, \"z\": 0.669890820980072}, \"end\": {\"x\": -0.1779893934726715, \"y\": -0.2364610880613327, \"z\": -0.043764978647232056}, \"radius\": 0.1, \"color\": \"gray\"});\n\tviewer_17131136720477707.addCylinder({\"start\": {\"x\": 0.6442855596542358, \"y\": 0.2577609419822693, \"z\": 0.669890820980072}, \"end\": {\"x\": 1.2515766620635986, \"y\": 0.7183864712715149, \"z\": 1.4772965908050537}, \"radius\": 0.1, \"color\": \"gray\"});\n\tviewer_17131136720477707.addCylinder({\"start\": {\"x\": 0.6442855596542358, \"y\": 0.2577609419822693, \"z\": 0.669890820980072}, \"end\": {\"x\": 0.7817031145095825, \"y\": 0.3786296248435974, \"z\": 1.1207937002182007}, \"radius\": 0.1, \"color\": \"gray\"});\n\tviewer_17131136720477707.addCylinder({\"start\": {\"x\": 0.6442855596542358, \"y\": 0.2577609419822693, \"z\": 0.669890820980072}, \"end\": {\"x\": -0.07511302083730698, \"y\": -0.4120001494884491, \"z\": -0.2644761800765991}, \"radius\": 0.1, \"color\": \"gray\"});\n\tviewer_17131136720477707.addCylinder({\"start\": {\"x\": 0.6442855596542358, \"y\": 0.2577609419822693, \"z\": 0.669890820980072}, \"end\": {\"x\": 0.4489879012107849, \"y\": 0.08342325687408447, \"z\": 1.1044511795043945}, \"radius\": 0.1, \"color\": \"gray\"});\n\tviewer_17131136720477707.addCylinder({\"start\": {\"x\": 0.05194411426782608, \"y\": -0.07127223163843155, \"z\": 0.5566464066505432}, \"end\": {\"x\": -0.1489158272743225, \"y\": -0.20006652176380157, \"z\": 0.3156854212284088}, \"radius\": 0.1, \"color\": \"gray\"});\n\tviewer_17131136720477707.addCylinder({\"start\": {\"x\": 0.05194411426782608, \"y\": -0.07127223163843155, \"z\": 0.5566464066505432}, \"end\": {\"x\": 0.56125807762146, \"y\": 0.44178760051727295, \"z\": 1.1304593086242676}, \"radius\": 0.1, \"color\": \"gray\"});\n\tviewer_17131136720477707.addCylinder({\"start\": {\"x\": 0.05194411426782608, \"y\": -0.07127223163843155, \"z\": 0.5566464066505432}, \"end\": {\"x\": 0.4933430254459381, \"y\": 0.20946770906448364, \"z\": 0.471381813287735}, \"radius\": 0.1, \"color\": \"gray\"});\n\tviewer_17131136720477707.addCylinder({\"start\": {\"x\": 0.05194411426782608, \"y\": -0.07127223163843155, \"z\": 0.5566464066505432}, \"end\": {\"x\": -0.1779893934726715, \"y\": -0.2364610880613327, \"z\": -0.043764978647232056}, \"radius\": 0.1, \"color\": \"gray\"});\n\tviewer_17131136720477707.addCylinder({\"start\": {\"x\": 0.05194411426782608, \"y\": -0.07127223163843155, \"z\": 0.5566464066505432}, \"end\": {\"x\": 1.2515766620635986, \"y\": 0.7183864712715149, \"z\": 1.4772965908050537}, \"radius\": 0.1, \"color\": \"gray\"});\n\tviewer_17131136720477707.addCylinder({\"start\": {\"x\": 0.05194411426782608, \"y\": -0.07127223163843155, \"z\": 0.5566464066505432}, \"end\": {\"x\": 0.7817031145095825, \"y\": 0.3786296248435974, \"z\": 1.1207937002182007}, \"radius\": 0.1, \"color\": \"gray\"});\n\tviewer_17131136720477707.addCylinder({\"start\": {\"x\": 0.05194411426782608, \"y\": -0.07127223163843155, \"z\": 0.5566464066505432}, \"end\": {\"x\": 0.22705194354057312, \"y\": -0.04040615260601044, \"z\": 0.5348487496376038}, \"radius\": 0.1, \"color\": \"gray\"});\n\tviewer_17131136720477707.addCylinder({\"start\": {\"x\": 0.05194411426782608, \"y\": -0.07127223163843155, \"z\": 0.5566464066505432}, \"end\": {\"x\": -0.07511302083730698, \"y\": -0.4120001494884491, \"z\": -0.2644761800765991}, \"radius\": 0.1, \"color\": \"gray\"});\n\tviewer_17131136720477707.addCylinder({\"start\": {\"x\": 0.05194411426782608, \"y\": -0.07127223163843155, \"z\": 0.5566464066505432}, \"end\": {\"x\": 0.4489879012107849, \"y\": 0.08342325687408447, \"z\": 1.1044511795043945}, \"radius\": 0.1, \"color\": \"gray\"});\n\tviewer_17131136720477707.addCylinder({\"start\": {\"x\": -0.1489158272743225, \"y\": -0.20006652176380157, \"z\": 0.3156854212284088}, \"end\": {\"x\": 0.56125807762146, \"y\": 0.44178760051727295, \"z\": 1.1304593086242676}, \"radius\": 0.1, \"color\": \"gray\"});\n\tviewer_17131136720477707.addCylinder({\"start\": {\"x\": -0.1489158272743225, \"y\": -0.20006652176380157, \"z\": 0.3156854212284088}, \"end\": {\"x\": 0.4933430254459381, \"y\": 0.20946770906448364, \"z\": 0.471381813287735}, \"radius\": 0.1, \"color\": \"gray\"});\n\tviewer_17131136720477707.addCylinder({\"start\": {\"x\": -0.1489158272743225, \"y\": -0.20006652176380157, \"z\": 0.3156854212284088}, \"end\": {\"x\": -0.1779893934726715, \"y\": -0.2364610880613327, \"z\": -0.043764978647232056}, \"radius\": 0.1, \"color\": \"gray\"});\n\tviewer_17131136720477707.addCylinder({\"start\": {\"x\": -0.1489158272743225, \"y\": -0.20006652176380157, \"z\": 0.3156854212284088}, \"end\": {\"x\": 1.2515766620635986, \"y\": 0.7183864712715149, \"z\": 1.4772965908050537}, \"radius\": 0.1, \"color\": \"gray\"});\n\tviewer_17131136720477707.addCylinder({\"start\": {\"x\": -0.1489158272743225, \"y\": -0.20006652176380157, \"z\": 0.3156854212284088}, \"end\": {\"x\": 0.7817031145095825, \"y\": 0.3786296248435974, \"z\": 1.1207937002182007}, \"radius\": 0.1, \"color\": \"gray\"});\n\tviewer_17131136720477707.addCylinder({\"start\": {\"x\": -0.1489158272743225, \"y\": -0.20006652176380157, \"z\": 0.3156854212284088}, \"end\": {\"x\": 0.22705194354057312, \"y\": -0.04040615260601044, \"z\": 0.5348487496376038}, \"radius\": 0.1, \"color\": \"gray\"});\n\tviewer_17131136720477707.addCylinder({\"start\": {\"x\": -0.1489158272743225, \"y\": -0.20006652176380157, \"z\": 0.3156854212284088}, \"end\": {\"x\": -0.07511302083730698, \"y\": -0.4120001494884491, \"z\": -0.2644761800765991}, \"radius\": 0.1, \"color\": \"gray\"});\n\tviewer_17131136720477707.addCylinder({\"start\": {\"x\": -0.1489158272743225, \"y\": -0.20006652176380157, \"z\": 0.3156854212284088}, \"end\": {\"x\": 0.4489879012107849, \"y\": 0.08342325687408447, \"z\": 1.1044511795043945}, \"radius\": 0.1, \"color\": \"gray\"});\n\tviewer_17131136720477707.addCylinder({\"start\": {\"x\": 0.56125807762146, \"y\": 0.44178760051727295, \"z\": 1.1304593086242676}, \"end\": {\"x\": 0.4933430254459381, \"y\": 0.20946770906448364, \"z\": 0.471381813287735}, \"radius\": 0.1, \"color\": \"gray\"});\n\tviewer_17131136720477707.addCylinder({\"start\": {\"x\": 0.56125807762146, \"y\": 0.44178760051727295, \"z\": 1.1304593086242676}, \"end\": {\"x\": -0.1779893934726715, \"y\": -0.2364610880613327, \"z\": -0.043764978647232056}, \"radius\": 0.1, \"color\": \"gray\"});\n\tviewer_17131136720477707.addCylinder({\"start\": {\"x\": 0.56125807762146, \"y\": 0.44178760051727295, \"z\": 1.1304593086242676}, \"end\": {\"x\": 1.2515766620635986, \"y\": 0.7183864712715149, \"z\": 1.4772965908050537}, \"radius\": 0.1, \"color\": \"gray\"});\n\tviewer_17131136720477707.addCylinder({\"start\": {\"x\": 0.56125807762146, \"y\": 0.44178760051727295, \"z\": 1.1304593086242676}, \"end\": {\"x\": 0.7817031145095825, \"y\": 0.3786296248435974, \"z\": 1.1207937002182007}, \"radius\": 0.1, \"color\": \"gray\"});\n\tviewer_17131136720477707.addCylinder({\"start\": {\"x\": 0.56125807762146, \"y\": 0.44178760051727295, \"z\": 1.1304593086242676}, \"end\": {\"x\": 0.11005029082298279, \"y\": -0.0005598919233307242, \"z\": 0.1481025367975235}, \"radius\": 0.1, \"color\": \"gray\"});\n\tviewer_17131136720477707.addCylinder({\"start\": {\"x\": 0.56125807762146, \"y\": 0.44178760051727295, \"z\": 1.1304593086242676}, \"end\": {\"x\": -0.07511302083730698, \"y\": -0.4120001494884491, \"z\": -0.2644761800765991}, \"radius\": 0.1, \"color\": \"gray\"});\n\tviewer_17131136720477707.addCylinder({\"start\": {\"x\": 0.56125807762146, \"y\": 0.44178760051727295, \"z\": 1.1304593086242676}, \"end\": {\"x\": 0.4489879012107849, \"y\": 0.08342325687408447, \"z\": 1.1044511795043945}, \"radius\": 0.1, \"color\": \"gray\"});\n\tviewer_17131136720477707.addCylinder({\"start\": {\"x\": 0.4933430254459381, \"y\": 0.20946770906448364, \"z\": 0.471381813287735}, \"end\": {\"x\": -0.1779893934726715, \"y\": -0.2364610880613327, \"z\": -0.043764978647232056}, \"radius\": 0.1, \"color\": \"gray\"});\n\tviewer_17131136720477707.addCylinder({\"start\": {\"x\": 0.4933430254459381, \"y\": 0.20946770906448364, \"z\": 0.471381813287735}, \"end\": {\"x\": 1.2515766620635986, \"y\": 0.7183864712715149, \"z\": 1.4772965908050537}, \"radius\": 0.1, \"color\": \"gray\"});\n\tviewer_17131136720477707.addCylinder({\"start\": {\"x\": 0.4933430254459381, \"y\": 0.20946770906448364, \"z\": 0.471381813287735}, \"end\": {\"x\": 0.7817031145095825, \"y\": 0.3786296248435974, \"z\": 1.1207937002182007}, \"radius\": 0.1, \"color\": \"gray\"});\n\tviewer_17131136720477707.addCylinder({\"start\": {\"x\": 0.4933430254459381, \"y\": 0.20946770906448364, \"z\": 0.471381813287735}, \"end\": {\"x\": 0.22705194354057312, \"y\": -0.04040615260601044, \"z\": 0.5348487496376038}, \"radius\": 0.1, \"color\": \"gray\"});\n\tviewer_17131136720477707.addCylinder({\"start\": {\"x\": 0.4933430254459381, \"y\": 0.20946770906448364, \"z\": 0.471381813287735}, \"end\": {\"x\": -0.07511302083730698, \"y\": -0.4120001494884491, \"z\": -0.2644761800765991}, \"radius\": 0.1, \"color\": \"gray\"});\n\tviewer_17131136720477707.addCylinder({\"start\": {\"x\": 0.4933430254459381, \"y\": 0.20946770906448364, \"z\": 0.471381813287735}, \"end\": {\"x\": 0.4489879012107849, \"y\": 0.08342325687408447, \"z\": 1.1044511795043945}, \"radius\": 0.1, \"color\": \"gray\"});\n\tviewer_17131136720477707.addCylinder({\"start\": {\"x\": -0.1779893934726715, \"y\": -0.2364610880613327, \"z\": -0.043764978647232056}, \"end\": {\"x\": 0.7817031145095825, \"y\": 0.3786296248435974, \"z\": 1.1207937002182007}, \"radius\": 0.1, \"color\": \"gray\"});\n\tviewer_17131136720477707.addCylinder({\"start\": {\"x\": -0.1779893934726715, \"y\": -0.2364610880613327, \"z\": -0.043764978647232056}, \"end\": {\"x\": 0.22705194354057312, \"y\": -0.04040615260601044, \"z\": 0.5348487496376038}, \"radius\": 0.1, \"color\": \"gray\"});\n\tviewer_17131136720477707.addCylinder({\"start\": {\"x\": -0.1779893934726715, \"y\": -0.2364610880613327, \"z\": -0.043764978647232056}, \"end\": {\"x\": -0.07511302083730698, \"y\": -0.4120001494884491, \"z\": -0.2644761800765991}, \"radius\": 0.1, \"color\": \"gray\"});\n\tviewer_17131136720477707.addCylinder({\"start\": {\"x\": -0.1779893934726715, \"y\": -0.2364610880613327, \"z\": -0.043764978647232056}, \"end\": {\"x\": 0.4489879012107849, \"y\": 0.08342325687408447, \"z\": 1.1044511795043945}, \"radius\": 0.1, \"color\": \"gray\"});\n\tviewer_17131136720477707.addCylinder({\"start\": {\"x\": 1.2515766620635986, \"y\": 0.7183864712715149, \"z\": 1.4772965908050537}, \"end\": {\"x\": 0.7817031145095825, \"y\": 0.3786296248435974, \"z\": 1.1207937002182007}, \"radius\": 0.1, \"color\": \"gray\"});\n\tviewer_17131136720477707.addCylinder({\"start\": {\"x\": 1.2515766620635986, \"y\": 0.7183864712715149, \"z\": 1.4772965908050537}, \"end\": {\"x\": 0.22705194354057312, \"y\": -0.04040615260601044, \"z\": 0.5348487496376038}, \"radius\": 0.1, \"color\": \"gray\"});\n\tviewer_17131136720477707.addCylinder({\"start\": {\"x\": 1.2515766620635986, \"y\": 0.7183864712715149, \"z\": 1.4772965908050537}, \"end\": {\"x\": -0.07511302083730698, \"y\": -0.4120001494884491, \"z\": -0.2644761800765991}, \"radius\": 0.1, \"color\": \"gray\"});\n\tviewer_17131136720477707.addCylinder({\"start\": {\"x\": 0.7817031145095825, \"y\": 0.3786296248435974, \"z\": 1.1207937002182007}, \"end\": {\"x\": 0.22705194354057312, \"y\": -0.04040615260601044, \"z\": 0.5348487496376038}, \"radius\": 0.1, \"color\": \"gray\"});\n\tviewer_17131136720477707.addCylinder({\"start\": {\"x\": 0.7817031145095825, \"y\": 0.3786296248435974, \"z\": 1.1207937002182007}, \"end\": {\"x\": -0.07511302083730698, \"y\": -0.4120001494884491, \"z\": -0.2644761800765991}, \"radius\": 0.1, \"color\": \"gray\"});\n\tviewer_17131136720477707.addCylinder({\"start\": {\"x\": 0.7817031145095825, \"y\": 0.3786296248435974, \"z\": 1.1207937002182007}, \"end\": {\"x\": 0.4489879012107849, \"y\": 0.08342325687408447, \"z\": 1.1044511795043945}, \"radius\": 0.1, \"color\": \"gray\"});\n\tviewer_17131136720477707.addCylinder({\"start\": {\"x\": 0.11005029082298279, \"y\": -0.0005598919233307242, \"z\": 0.1481025367975235}, \"end\": {\"x\": 0.22705194354057312, \"y\": -0.04040615260601044, \"z\": 0.5348487496376038}, \"radius\": 0.1, \"color\": \"gray\"});\n\tviewer_17131136720477707.addCylinder({\"start\": {\"x\": 0.11005029082298279, \"y\": -0.0005598919233307242, \"z\": 0.1481025367975235}, \"end\": {\"x\": -0.07511302083730698, \"y\": -0.4120001494884491, \"z\": -0.2644761800765991}, \"radius\": 0.1, \"color\": \"gray\"});\n\tviewer_17131136720477707.addCylinder({\"start\": {\"x\": 0.11005029082298279, \"y\": -0.0005598919233307242, \"z\": 0.1481025367975235}, \"end\": {\"x\": 0.4489879012107849, \"y\": 0.08342325687408447, \"z\": 1.1044511795043945}, \"radius\": 0.1, \"color\": \"gray\"});\n\tviewer_17131136720477707.addCylinder({\"start\": {\"x\": -0.2755663990974426, \"y\": -0.027897333726286888, \"z\": -0.4629642963409424}, \"end\": {\"x\": 0.22705194354057312, \"y\": -0.04040615260601044, \"z\": 0.5348487496376038}, \"radius\": 0.1, \"color\": \"gray\"});\n\tviewer_17131136720477707.addCylinder({\"start\": {\"x\": -0.2755663990974426, \"y\": -0.027897333726286888, \"z\": -0.4629642963409424}, \"end\": {\"x\": -0.07511302083730698, \"y\": -0.4120001494884491, \"z\": -0.2644761800765991}, \"radius\": 0.1, \"color\": \"gray\"});\n\tviewer_17131136720477707.addCylinder({\"start\": {\"x\": -0.2755663990974426, \"y\": -0.027897333726286888, \"z\": -0.4629642963409424}, \"end\": {\"x\": 0.4489879012107849, \"y\": 0.08342325687408447, \"z\": 1.1044511795043945}, \"radius\": 0.1, \"color\": \"gray\"});\n\tviewer_17131136720477707.addCylinder({\"start\": {\"x\": 0.22705194354057312, \"y\": -0.04040615260601044, \"z\": 0.5348487496376038}, \"end\": {\"x\": 0.4489879012107849, \"y\": 0.08342325687408447, \"z\": 1.1044511795043945}, \"radius\": 0.1, \"color\": \"gray\"});\n\tviewer_17131136720477707.addCylinder({\"start\": {\"x\": -0.07511302083730698, \"y\": -0.4120001494884491, \"z\": -0.2644761800765991}, \"end\": {\"x\": 0.4489879012107849, \"y\": 0.08342325687408447, \"z\": 1.1044511795043945}, \"radius\": 0.1, \"color\": \"gray\"});\n\tviewer_17131136720477707.zoomTo();\nviewer_17131136720477707.render();\n});\n</script>",
            "text/html": [
              "<div id=\"3dmolviewer_17131136720477707\"  style=\"position: relative; width: 800px; height: 400px;\">\n",
              "        <p id=\"3dmolwarning_17131136720477707\" style=\"background-color:#ffcccc;color:black\">3Dmol.js failed to load for some reason.  Please check your browser console for error messages.<br></p>\n",
              "        </div>\n",
              "<script>\n",
              "\n",
              "var loadScriptAsync = function(uri){\n",
              "  return new Promise((resolve, reject) => {\n",
              "    //this is to ignore the existence of requirejs amd\n",
              "    var savedexports, savedmodule;\n",
              "    if (typeof exports !== 'undefined') savedexports = exports;\n",
              "    else exports = {}\n",
              "    if (typeof module !== 'undefined') savedmodule = module;\n",
              "    else module = {}\n",
              "\n",
              "    var tag = document.createElement('script');\n",
              "    tag.src = uri;\n",
              "    tag.async = true;\n",
              "    tag.onload = () => {\n",
              "        exports = savedexports;\n",
              "        module = savedmodule;\n",
              "        resolve();\n",
              "    };\n",
              "  var firstScriptTag = document.getElementsByTagName('script')[0];\n",
              "  firstScriptTag.parentNode.insertBefore(tag, firstScriptTag);\n",
              "});\n",
              "};\n",
              "\n",
              "if(typeof $3Dmolpromise === 'undefined') {\n",
              "$3Dmolpromise = null;\n",
              "  $3Dmolpromise = loadScriptAsync('https://cdnjs.cloudflare.com/ajax/libs/3Dmol/2.1.0/3Dmol-min.js');\n",
              "}\n",
              "\n",
              "var viewer_17131136720477707 = null;\n",
              "var warn = document.getElementById(\"3dmolwarning_17131136720477707\");\n",
              "if(warn) {\n",
              "    warn.parentNode.removeChild(warn);\n",
              "}\n",
              "$3Dmolpromise.then(function() {\n",
              "viewer_17131136720477707 = $3Dmol.createViewer(document.getElementById(\"3dmolviewer_17131136720477707\"),{backgroundColor:\"white\"});\n",
              "viewer_17131136720477707.zoomTo();\n",
              "\tviewer_17131136720477707.addSphere({\"center\": {\"x\": 0.012603730894625187, \"y\": -0.13790516555309296, \"z\": -0.17877084016799927}, \"radius\": 0.5, \"color\": \"white\"});\n",
              "\tviewer_17131136720477707.addSphere({\"center\": {\"x\": -0.23321940004825592, \"y\": -0.36315682530403137, \"z\": -0.3785092830657959}, \"radius\": 0.5, \"color\": \"indigo\"});\n",
              "\tviewer_17131136720477707.addSphere({\"center\": {\"x\": 0.6442855596542358, \"y\": 0.2577609419822693, \"z\": 0.669890820980072}, \"radius\": 0.5, \"color\": \"red\"});\n",
              "\tviewer_17131136720477707.addSphere({\"center\": {\"x\": 0.05194411426782608, \"y\": -0.07127223163843155, \"z\": 0.5566464066505432}, \"radius\": 0.5, \"color\": \"red\"});\n",
              "\tviewer_17131136720477707.addSphere({\"center\": {\"x\": -0.1489158272743225, \"y\": -0.20006652176380157, \"z\": 0.3156854212284088}, \"radius\": 0.5, \"color\": \"red\"});\n",
              "\tviewer_17131136720477707.addSphere({\"center\": {\"x\": 0.56125807762146, \"y\": 0.44178760051727295, \"z\": 1.1304593086242676}, \"radius\": 0.5, \"color\": \"yellowgreen\"});\n",
              "\tviewer_17131136720477707.addSphere({\"center\": {\"x\": 0.4933430254459381, \"y\": 0.20946770906448364, \"z\": 0.471381813287735}, \"radius\": 0.5, \"color\": \"yellowgreen\"});\n",
              "\tviewer_17131136720477707.addSphere({\"center\": {\"x\": -0.1779893934726715, \"y\": -0.2364610880613327, \"z\": -0.043764978647232056}, \"radius\": 0.5, \"color\": \"red\"});\n",
              "\tviewer_17131136720477707.addSphere({\"center\": {\"x\": 1.2515766620635986, \"y\": 0.7183864712715149, \"z\": 1.4772965908050537}, \"radius\": 0.5, \"color\": \"indigo\"});\n",
              "\tviewer_17131136720477707.addSphere({\"center\": {\"x\": 0.7817031145095825, \"y\": 0.3786296248435974, \"z\": 1.1207937002182007}, \"radius\": 0.5, \"color\": \"yellowgreen\"});\n",
              "\tviewer_17131136720477707.addSphere({\"center\": {\"x\": 0.11005029082298279, \"y\": -0.0005598919233307242, \"z\": 0.1481025367975235}, \"radius\": 0.5, \"color\": \"yellow\"});\n",
              "\tviewer_17131136720477707.addSphere({\"center\": {\"x\": -0.2755663990974426, \"y\": -0.027897333726286888, \"z\": -0.4629642963409424}, \"radius\": 0.5, \"color\": \"blue\"});\n",
              "\tviewer_17131136720477707.addSphere({\"center\": {\"x\": 0.22705194354057312, \"y\": -0.04040615260601044, \"z\": 0.5348487496376038}, \"radius\": 0.5, \"color\": \"indigo\"});\n",
              "\tviewer_17131136720477707.addSphere({\"center\": {\"x\": -0.07511302083730698, \"y\": -0.4120001494884491, \"z\": -0.2644761800765991}, \"radius\": 0.5, \"color\": \"red\"});\n",
              "\tviewer_17131136720477707.addSphere({\"center\": {\"x\": 0.4489879012107849, \"y\": 0.08342325687408447, \"z\": 1.1044511795043945}, \"radius\": 0.5, \"color\": \"yellow\"});\n",
              "\tviewer_17131136720477707.addCylinder({\"start\": {\"x\": 0.012603730894625187, \"y\": -0.13790516555309296, \"z\": -0.17877084016799927}, \"end\": {\"x\": 0.6442855596542358, \"y\": 0.2577609419822693, \"z\": 0.669890820980072}, \"radius\": 0.1, \"color\": \"gray\"});\n",
              "\tviewer_17131136720477707.addCylinder({\"start\": {\"x\": 0.012603730894625187, \"y\": -0.13790516555309296, \"z\": -0.17877084016799927}, \"end\": {\"x\": 0.05194411426782608, \"y\": -0.07127223163843155, \"z\": 0.5566464066505432}, \"radius\": 0.1, \"color\": \"gray\"});\n",
              "\tviewer_17131136720477707.addCylinder({\"start\": {\"x\": 0.012603730894625187, \"y\": -0.13790516555309296, \"z\": -0.17877084016799927}, \"end\": {\"x\": -0.1489158272743225, \"y\": -0.20006652176380157, \"z\": 0.3156854212284088}, \"radius\": 0.1, \"color\": \"gray\"});\n",
              "\tviewer_17131136720477707.addCylinder({\"start\": {\"x\": 0.012603730894625187, \"y\": -0.13790516555309296, \"z\": -0.17877084016799927}, \"end\": {\"x\": 0.56125807762146, \"y\": 0.44178760051727295, \"z\": 1.1304593086242676}, \"radius\": 0.1, \"color\": \"gray\"});\n",
              "\tviewer_17131136720477707.addCylinder({\"start\": {\"x\": 0.012603730894625187, \"y\": -0.13790516555309296, \"z\": -0.17877084016799927}, \"end\": {\"x\": 0.4933430254459381, \"y\": 0.20946770906448364, \"z\": 0.471381813287735}, \"radius\": 0.1, \"color\": \"gray\"});\n",
              "\tviewer_17131136720477707.addCylinder({\"start\": {\"x\": 0.012603730894625187, \"y\": -0.13790516555309296, \"z\": -0.17877084016799927}, \"end\": {\"x\": -0.1779893934726715, \"y\": -0.2364610880613327, \"z\": -0.043764978647232056}, \"radius\": 0.1, \"color\": \"gray\"});\n",
              "\tviewer_17131136720477707.addCylinder({\"start\": {\"x\": 0.012603730894625187, \"y\": -0.13790516555309296, \"z\": -0.17877084016799927}, \"end\": {\"x\": 1.2515766620635986, \"y\": 0.7183864712715149, \"z\": 1.4772965908050537}, \"radius\": 0.1, \"color\": \"gray\"});\n",
              "\tviewer_17131136720477707.addCylinder({\"start\": {\"x\": 0.012603730894625187, \"y\": -0.13790516555309296, \"z\": -0.17877084016799927}, \"end\": {\"x\": 0.7817031145095825, \"y\": 0.3786296248435974, \"z\": 1.1207937002182007}, \"radius\": 0.1, \"color\": \"gray\"});\n",
              "\tviewer_17131136720477707.addCylinder({\"start\": {\"x\": 0.012603730894625187, \"y\": -0.13790516555309296, \"z\": -0.17877084016799927}, \"end\": {\"x\": 0.11005029082298279, \"y\": -0.0005598919233307242, \"z\": 0.1481025367975235}, \"radius\": 0.1, \"color\": \"gray\"});\n",
              "\tviewer_17131136720477707.addCylinder({\"start\": {\"x\": 0.012603730894625187, \"y\": -0.13790516555309296, \"z\": -0.17877084016799927}, \"end\": {\"x\": 0.22705194354057312, \"y\": -0.04040615260601044, \"z\": 0.5348487496376038}, \"radius\": 0.1, \"color\": \"gray\"});\n",
              "\tviewer_17131136720477707.addCylinder({\"start\": {\"x\": 0.012603730894625187, \"y\": -0.13790516555309296, \"z\": -0.17877084016799927}, \"end\": {\"x\": -0.07511302083730698, \"y\": -0.4120001494884491, \"z\": -0.2644761800765991}, \"radius\": 0.1, \"color\": \"gray\"});\n",
              "\tviewer_17131136720477707.addCylinder({\"start\": {\"x\": 0.012603730894625187, \"y\": -0.13790516555309296, \"z\": -0.17877084016799927}, \"end\": {\"x\": 0.4489879012107849, \"y\": 0.08342325687408447, \"z\": 1.1044511795043945}, \"radius\": 0.1, \"color\": \"gray\"});\n",
              "\tviewer_17131136720477707.addCylinder({\"start\": {\"x\": -0.23321940004825592, \"y\": -0.36315682530403137, \"z\": -0.3785092830657959}, \"end\": {\"x\": 0.6442855596542358, \"y\": 0.2577609419822693, \"z\": 0.669890820980072}, \"radius\": 0.1, \"color\": \"gray\"});\n",
              "\tviewer_17131136720477707.addCylinder({\"start\": {\"x\": -0.23321940004825592, \"y\": -0.36315682530403137, \"z\": -0.3785092830657959}, \"end\": {\"x\": 0.05194411426782608, \"y\": -0.07127223163843155, \"z\": 0.5566464066505432}, \"radius\": 0.1, \"color\": \"gray\"});\n",
              "\tviewer_17131136720477707.addCylinder({\"start\": {\"x\": -0.23321940004825592, \"y\": -0.36315682530403137, \"z\": -0.3785092830657959}, \"end\": {\"x\": -0.1489158272743225, \"y\": -0.20006652176380157, \"z\": 0.3156854212284088}, \"radius\": 0.1, \"color\": \"gray\"});\n",
              "\tviewer_17131136720477707.addCylinder({\"start\": {\"x\": -0.23321940004825592, \"y\": -0.36315682530403137, \"z\": -0.3785092830657959}, \"end\": {\"x\": 0.56125807762146, \"y\": 0.44178760051727295, \"z\": 1.1304593086242676}, \"radius\": 0.1, \"color\": \"gray\"});\n",
              "\tviewer_17131136720477707.addCylinder({\"start\": {\"x\": -0.23321940004825592, \"y\": -0.36315682530403137, \"z\": -0.3785092830657959}, \"end\": {\"x\": 0.4933430254459381, \"y\": 0.20946770906448364, \"z\": 0.471381813287735}, \"radius\": 0.1, \"color\": \"gray\"});\n",
              "\tviewer_17131136720477707.addCylinder({\"start\": {\"x\": -0.23321940004825592, \"y\": -0.36315682530403137, \"z\": -0.3785092830657959}, \"end\": {\"x\": -0.1779893934726715, \"y\": -0.2364610880613327, \"z\": -0.043764978647232056}, \"radius\": 0.1, \"color\": \"gray\"});\n",
              "\tviewer_17131136720477707.addCylinder({\"start\": {\"x\": -0.23321940004825592, \"y\": -0.36315682530403137, \"z\": -0.3785092830657959}, \"end\": {\"x\": 1.2515766620635986, \"y\": 0.7183864712715149, \"z\": 1.4772965908050537}, \"radius\": 0.1, \"color\": \"gray\"});\n",
              "\tviewer_17131136720477707.addCylinder({\"start\": {\"x\": -0.23321940004825592, \"y\": -0.36315682530403137, \"z\": -0.3785092830657959}, \"end\": {\"x\": 0.7817031145095825, \"y\": 0.3786296248435974, \"z\": 1.1207937002182007}, \"radius\": 0.1, \"color\": \"gray\"});\n",
              "\tviewer_17131136720477707.addCylinder({\"start\": {\"x\": -0.23321940004825592, \"y\": -0.36315682530403137, \"z\": -0.3785092830657959}, \"end\": {\"x\": 0.22705194354057312, \"y\": -0.04040615260601044, \"z\": 0.5348487496376038}, \"radius\": 0.1, \"color\": \"gray\"});\n",
              "\tviewer_17131136720477707.addCylinder({\"start\": {\"x\": -0.23321940004825592, \"y\": -0.36315682530403137, \"z\": -0.3785092830657959}, \"end\": {\"x\": -0.07511302083730698, \"y\": -0.4120001494884491, \"z\": -0.2644761800765991}, \"radius\": 0.1, \"color\": \"gray\"});\n",
              "\tviewer_17131136720477707.addCylinder({\"start\": {\"x\": -0.23321940004825592, \"y\": -0.36315682530403137, \"z\": -0.3785092830657959}, \"end\": {\"x\": 0.4489879012107849, \"y\": 0.08342325687408447, \"z\": 1.1044511795043945}, \"radius\": 0.1, \"color\": \"gray\"});\n",
              "\tviewer_17131136720477707.addCylinder({\"start\": {\"x\": 0.6442855596542358, \"y\": 0.2577609419822693, \"z\": 0.669890820980072}, \"end\": {\"x\": 0.05194411426782608, \"y\": -0.07127223163843155, \"z\": 0.5566464066505432}, \"radius\": 0.1, \"color\": \"gray\"});\n",
              "\tviewer_17131136720477707.addCylinder({\"start\": {\"x\": 0.6442855596542358, \"y\": 0.2577609419822693, \"z\": 0.669890820980072}, \"end\": {\"x\": -0.1489158272743225, \"y\": -0.20006652176380157, \"z\": 0.3156854212284088}, \"radius\": 0.1, \"color\": \"gray\"});\n",
              "\tviewer_17131136720477707.addCylinder({\"start\": {\"x\": 0.6442855596542358, \"y\": 0.2577609419822693, \"z\": 0.669890820980072}, \"end\": {\"x\": 0.56125807762146, \"y\": 0.44178760051727295, \"z\": 1.1304593086242676}, \"radius\": 0.1, \"color\": \"gray\"});\n",
              "\tviewer_17131136720477707.addCylinder({\"start\": {\"x\": 0.6442855596542358, \"y\": 0.2577609419822693, \"z\": 0.669890820980072}, \"end\": {\"x\": 0.4933430254459381, \"y\": 0.20946770906448364, \"z\": 0.471381813287735}, \"radius\": 0.1, \"color\": \"gray\"});\n",
              "\tviewer_17131136720477707.addCylinder({\"start\": {\"x\": 0.6442855596542358, \"y\": 0.2577609419822693, \"z\": 0.669890820980072}, \"end\": {\"x\": -0.1779893934726715, \"y\": -0.2364610880613327, \"z\": -0.043764978647232056}, \"radius\": 0.1, \"color\": \"gray\"});\n",
              "\tviewer_17131136720477707.addCylinder({\"start\": {\"x\": 0.6442855596542358, \"y\": 0.2577609419822693, \"z\": 0.669890820980072}, \"end\": {\"x\": 1.2515766620635986, \"y\": 0.7183864712715149, \"z\": 1.4772965908050537}, \"radius\": 0.1, \"color\": \"gray\"});\n",
              "\tviewer_17131136720477707.addCylinder({\"start\": {\"x\": 0.6442855596542358, \"y\": 0.2577609419822693, \"z\": 0.669890820980072}, \"end\": {\"x\": 0.7817031145095825, \"y\": 0.3786296248435974, \"z\": 1.1207937002182007}, \"radius\": 0.1, \"color\": \"gray\"});\n",
              "\tviewer_17131136720477707.addCylinder({\"start\": {\"x\": 0.6442855596542358, \"y\": 0.2577609419822693, \"z\": 0.669890820980072}, \"end\": {\"x\": -0.07511302083730698, \"y\": -0.4120001494884491, \"z\": -0.2644761800765991}, \"radius\": 0.1, \"color\": \"gray\"});\n",
              "\tviewer_17131136720477707.addCylinder({\"start\": {\"x\": 0.6442855596542358, \"y\": 0.2577609419822693, \"z\": 0.669890820980072}, \"end\": {\"x\": 0.4489879012107849, \"y\": 0.08342325687408447, \"z\": 1.1044511795043945}, \"radius\": 0.1, \"color\": \"gray\"});\n",
              "\tviewer_17131136720477707.addCylinder({\"start\": {\"x\": 0.05194411426782608, \"y\": -0.07127223163843155, \"z\": 0.5566464066505432}, \"end\": {\"x\": -0.1489158272743225, \"y\": -0.20006652176380157, \"z\": 0.3156854212284088}, \"radius\": 0.1, \"color\": \"gray\"});\n",
              "\tviewer_17131136720477707.addCylinder({\"start\": {\"x\": 0.05194411426782608, \"y\": -0.07127223163843155, \"z\": 0.5566464066505432}, \"end\": {\"x\": 0.56125807762146, \"y\": 0.44178760051727295, \"z\": 1.1304593086242676}, \"radius\": 0.1, \"color\": \"gray\"});\n",
              "\tviewer_17131136720477707.addCylinder({\"start\": {\"x\": 0.05194411426782608, \"y\": -0.07127223163843155, \"z\": 0.5566464066505432}, \"end\": {\"x\": 0.4933430254459381, \"y\": 0.20946770906448364, \"z\": 0.471381813287735}, \"radius\": 0.1, \"color\": \"gray\"});\n",
              "\tviewer_17131136720477707.addCylinder({\"start\": {\"x\": 0.05194411426782608, \"y\": -0.07127223163843155, \"z\": 0.5566464066505432}, \"end\": {\"x\": -0.1779893934726715, \"y\": -0.2364610880613327, \"z\": -0.043764978647232056}, \"radius\": 0.1, \"color\": \"gray\"});\n",
              "\tviewer_17131136720477707.addCylinder({\"start\": {\"x\": 0.05194411426782608, \"y\": -0.07127223163843155, \"z\": 0.5566464066505432}, \"end\": {\"x\": 1.2515766620635986, \"y\": 0.7183864712715149, \"z\": 1.4772965908050537}, \"radius\": 0.1, \"color\": \"gray\"});\n",
              "\tviewer_17131136720477707.addCylinder({\"start\": {\"x\": 0.05194411426782608, \"y\": -0.07127223163843155, \"z\": 0.5566464066505432}, \"end\": {\"x\": 0.7817031145095825, \"y\": 0.3786296248435974, \"z\": 1.1207937002182007}, \"radius\": 0.1, \"color\": \"gray\"});\n",
              "\tviewer_17131136720477707.addCylinder({\"start\": {\"x\": 0.05194411426782608, \"y\": -0.07127223163843155, \"z\": 0.5566464066505432}, \"end\": {\"x\": 0.22705194354057312, \"y\": -0.04040615260601044, \"z\": 0.5348487496376038}, \"radius\": 0.1, \"color\": \"gray\"});\n",
              "\tviewer_17131136720477707.addCylinder({\"start\": {\"x\": 0.05194411426782608, \"y\": -0.07127223163843155, \"z\": 0.5566464066505432}, \"end\": {\"x\": -0.07511302083730698, \"y\": -0.4120001494884491, \"z\": -0.2644761800765991}, \"radius\": 0.1, \"color\": \"gray\"});\n",
              "\tviewer_17131136720477707.addCylinder({\"start\": {\"x\": 0.05194411426782608, \"y\": -0.07127223163843155, \"z\": 0.5566464066505432}, \"end\": {\"x\": 0.4489879012107849, \"y\": 0.08342325687408447, \"z\": 1.1044511795043945}, \"radius\": 0.1, \"color\": \"gray\"});\n",
              "\tviewer_17131136720477707.addCylinder({\"start\": {\"x\": -0.1489158272743225, \"y\": -0.20006652176380157, \"z\": 0.3156854212284088}, \"end\": {\"x\": 0.56125807762146, \"y\": 0.44178760051727295, \"z\": 1.1304593086242676}, \"radius\": 0.1, \"color\": \"gray\"});\n",
              "\tviewer_17131136720477707.addCylinder({\"start\": {\"x\": -0.1489158272743225, \"y\": -0.20006652176380157, \"z\": 0.3156854212284088}, \"end\": {\"x\": 0.4933430254459381, \"y\": 0.20946770906448364, \"z\": 0.471381813287735}, \"radius\": 0.1, \"color\": \"gray\"});\n",
              "\tviewer_17131136720477707.addCylinder({\"start\": {\"x\": -0.1489158272743225, \"y\": -0.20006652176380157, \"z\": 0.3156854212284088}, \"end\": {\"x\": -0.1779893934726715, \"y\": -0.2364610880613327, \"z\": -0.043764978647232056}, \"radius\": 0.1, \"color\": \"gray\"});\n",
              "\tviewer_17131136720477707.addCylinder({\"start\": {\"x\": -0.1489158272743225, \"y\": -0.20006652176380157, \"z\": 0.3156854212284088}, \"end\": {\"x\": 1.2515766620635986, \"y\": 0.7183864712715149, \"z\": 1.4772965908050537}, \"radius\": 0.1, \"color\": \"gray\"});\n",
              "\tviewer_17131136720477707.addCylinder({\"start\": {\"x\": -0.1489158272743225, \"y\": -0.20006652176380157, \"z\": 0.3156854212284088}, \"end\": {\"x\": 0.7817031145095825, \"y\": 0.3786296248435974, \"z\": 1.1207937002182007}, \"radius\": 0.1, \"color\": \"gray\"});\n",
              "\tviewer_17131136720477707.addCylinder({\"start\": {\"x\": -0.1489158272743225, \"y\": -0.20006652176380157, \"z\": 0.3156854212284088}, \"end\": {\"x\": 0.22705194354057312, \"y\": -0.04040615260601044, \"z\": 0.5348487496376038}, \"radius\": 0.1, \"color\": \"gray\"});\n",
              "\tviewer_17131136720477707.addCylinder({\"start\": {\"x\": -0.1489158272743225, \"y\": -0.20006652176380157, \"z\": 0.3156854212284088}, \"end\": {\"x\": -0.07511302083730698, \"y\": -0.4120001494884491, \"z\": -0.2644761800765991}, \"radius\": 0.1, \"color\": \"gray\"});\n",
              "\tviewer_17131136720477707.addCylinder({\"start\": {\"x\": -0.1489158272743225, \"y\": -0.20006652176380157, \"z\": 0.3156854212284088}, \"end\": {\"x\": 0.4489879012107849, \"y\": 0.08342325687408447, \"z\": 1.1044511795043945}, \"radius\": 0.1, \"color\": \"gray\"});\n",
              "\tviewer_17131136720477707.addCylinder({\"start\": {\"x\": 0.56125807762146, \"y\": 0.44178760051727295, \"z\": 1.1304593086242676}, \"end\": {\"x\": 0.4933430254459381, \"y\": 0.20946770906448364, \"z\": 0.471381813287735}, \"radius\": 0.1, \"color\": \"gray\"});\n",
              "\tviewer_17131136720477707.addCylinder({\"start\": {\"x\": 0.56125807762146, \"y\": 0.44178760051727295, \"z\": 1.1304593086242676}, \"end\": {\"x\": -0.1779893934726715, \"y\": -0.2364610880613327, \"z\": -0.043764978647232056}, \"radius\": 0.1, \"color\": \"gray\"});\n",
              "\tviewer_17131136720477707.addCylinder({\"start\": {\"x\": 0.56125807762146, \"y\": 0.44178760051727295, \"z\": 1.1304593086242676}, \"end\": {\"x\": 1.2515766620635986, \"y\": 0.7183864712715149, \"z\": 1.4772965908050537}, \"radius\": 0.1, \"color\": \"gray\"});\n",
              "\tviewer_17131136720477707.addCylinder({\"start\": {\"x\": 0.56125807762146, \"y\": 0.44178760051727295, \"z\": 1.1304593086242676}, \"end\": {\"x\": 0.7817031145095825, \"y\": 0.3786296248435974, \"z\": 1.1207937002182007}, \"radius\": 0.1, \"color\": \"gray\"});\n",
              "\tviewer_17131136720477707.addCylinder({\"start\": {\"x\": 0.56125807762146, \"y\": 0.44178760051727295, \"z\": 1.1304593086242676}, \"end\": {\"x\": 0.11005029082298279, \"y\": -0.0005598919233307242, \"z\": 0.1481025367975235}, \"radius\": 0.1, \"color\": \"gray\"});\n",
              "\tviewer_17131136720477707.addCylinder({\"start\": {\"x\": 0.56125807762146, \"y\": 0.44178760051727295, \"z\": 1.1304593086242676}, \"end\": {\"x\": -0.07511302083730698, \"y\": -0.4120001494884491, \"z\": -0.2644761800765991}, \"radius\": 0.1, \"color\": \"gray\"});\n",
              "\tviewer_17131136720477707.addCylinder({\"start\": {\"x\": 0.56125807762146, \"y\": 0.44178760051727295, \"z\": 1.1304593086242676}, \"end\": {\"x\": 0.4489879012107849, \"y\": 0.08342325687408447, \"z\": 1.1044511795043945}, \"radius\": 0.1, \"color\": \"gray\"});\n",
              "\tviewer_17131136720477707.addCylinder({\"start\": {\"x\": 0.4933430254459381, \"y\": 0.20946770906448364, \"z\": 0.471381813287735}, \"end\": {\"x\": -0.1779893934726715, \"y\": -0.2364610880613327, \"z\": -0.043764978647232056}, \"radius\": 0.1, \"color\": \"gray\"});\n",
              "\tviewer_17131136720477707.addCylinder({\"start\": {\"x\": 0.4933430254459381, \"y\": 0.20946770906448364, \"z\": 0.471381813287735}, \"end\": {\"x\": 1.2515766620635986, \"y\": 0.7183864712715149, \"z\": 1.4772965908050537}, \"radius\": 0.1, \"color\": \"gray\"});\n",
              "\tviewer_17131136720477707.addCylinder({\"start\": {\"x\": 0.4933430254459381, \"y\": 0.20946770906448364, \"z\": 0.471381813287735}, \"end\": {\"x\": 0.7817031145095825, \"y\": 0.3786296248435974, \"z\": 1.1207937002182007}, \"radius\": 0.1, \"color\": \"gray\"});\n",
              "\tviewer_17131136720477707.addCylinder({\"start\": {\"x\": 0.4933430254459381, \"y\": 0.20946770906448364, \"z\": 0.471381813287735}, \"end\": {\"x\": 0.22705194354057312, \"y\": -0.04040615260601044, \"z\": 0.5348487496376038}, \"radius\": 0.1, \"color\": \"gray\"});\n",
              "\tviewer_17131136720477707.addCylinder({\"start\": {\"x\": 0.4933430254459381, \"y\": 0.20946770906448364, \"z\": 0.471381813287735}, \"end\": {\"x\": -0.07511302083730698, \"y\": -0.4120001494884491, \"z\": -0.2644761800765991}, \"radius\": 0.1, \"color\": \"gray\"});\n",
              "\tviewer_17131136720477707.addCylinder({\"start\": {\"x\": 0.4933430254459381, \"y\": 0.20946770906448364, \"z\": 0.471381813287735}, \"end\": {\"x\": 0.4489879012107849, \"y\": 0.08342325687408447, \"z\": 1.1044511795043945}, \"radius\": 0.1, \"color\": \"gray\"});\n",
              "\tviewer_17131136720477707.addCylinder({\"start\": {\"x\": -0.1779893934726715, \"y\": -0.2364610880613327, \"z\": -0.043764978647232056}, \"end\": {\"x\": 0.7817031145095825, \"y\": 0.3786296248435974, \"z\": 1.1207937002182007}, \"radius\": 0.1, \"color\": \"gray\"});\n",
              "\tviewer_17131136720477707.addCylinder({\"start\": {\"x\": -0.1779893934726715, \"y\": -0.2364610880613327, \"z\": -0.043764978647232056}, \"end\": {\"x\": 0.22705194354057312, \"y\": -0.04040615260601044, \"z\": 0.5348487496376038}, \"radius\": 0.1, \"color\": \"gray\"});\n",
              "\tviewer_17131136720477707.addCylinder({\"start\": {\"x\": -0.1779893934726715, \"y\": -0.2364610880613327, \"z\": -0.043764978647232056}, \"end\": {\"x\": -0.07511302083730698, \"y\": -0.4120001494884491, \"z\": -0.2644761800765991}, \"radius\": 0.1, \"color\": \"gray\"});\n",
              "\tviewer_17131136720477707.addCylinder({\"start\": {\"x\": -0.1779893934726715, \"y\": -0.2364610880613327, \"z\": -0.043764978647232056}, \"end\": {\"x\": 0.4489879012107849, \"y\": 0.08342325687408447, \"z\": 1.1044511795043945}, \"radius\": 0.1, \"color\": \"gray\"});\n",
              "\tviewer_17131136720477707.addCylinder({\"start\": {\"x\": 1.2515766620635986, \"y\": 0.7183864712715149, \"z\": 1.4772965908050537}, \"end\": {\"x\": 0.7817031145095825, \"y\": 0.3786296248435974, \"z\": 1.1207937002182007}, \"radius\": 0.1, \"color\": \"gray\"});\n",
              "\tviewer_17131136720477707.addCylinder({\"start\": {\"x\": 1.2515766620635986, \"y\": 0.7183864712715149, \"z\": 1.4772965908050537}, \"end\": {\"x\": 0.22705194354057312, \"y\": -0.04040615260601044, \"z\": 0.5348487496376038}, \"radius\": 0.1, \"color\": \"gray\"});\n",
              "\tviewer_17131136720477707.addCylinder({\"start\": {\"x\": 1.2515766620635986, \"y\": 0.7183864712715149, \"z\": 1.4772965908050537}, \"end\": {\"x\": -0.07511302083730698, \"y\": -0.4120001494884491, \"z\": -0.2644761800765991}, \"radius\": 0.1, \"color\": \"gray\"});\n",
              "\tviewer_17131136720477707.addCylinder({\"start\": {\"x\": 0.7817031145095825, \"y\": 0.3786296248435974, \"z\": 1.1207937002182007}, \"end\": {\"x\": 0.22705194354057312, \"y\": -0.04040615260601044, \"z\": 0.5348487496376038}, \"radius\": 0.1, \"color\": \"gray\"});\n",
              "\tviewer_17131136720477707.addCylinder({\"start\": {\"x\": 0.7817031145095825, \"y\": 0.3786296248435974, \"z\": 1.1207937002182007}, \"end\": {\"x\": -0.07511302083730698, \"y\": -0.4120001494884491, \"z\": -0.2644761800765991}, \"radius\": 0.1, \"color\": \"gray\"});\n",
              "\tviewer_17131136720477707.addCylinder({\"start\": {\"x\": 0.7817031145095825, \"y\": 0.3786296248435974, \"z\": 1.1207937002182007}, \"end\": {\"x\": 0.4489879012107849, \"y\": 0.08342325687408447, \"z\": 1.1044511795043945}, \"radius\": 0.1, \"color\": \"gray\"});\n",
              "\tviewer_17131136720477707.addCylinder({\"start\": {\"x\": 0.11005029082298279, \"y\": -0.0005598919233307242, \"z\": 0.1481025367975235}, \"end\": {\"x\": 0.22705194354057312, \"y\": -0.04040615260601044, \"z\": 0.5348487496376038}, \"radius\": 0.1, \"color\": \"gray\"});\n",
              "\tviewer_17131136720477707.addCylinder({\"start\": {\"x\": 0.11005029082298279, \"y\": -0.0005598919233307242, \"z\": 0.1481025367975235}, \"end\": {\"x\": -0.07511302083730698, \"y\": -0.4120001494884491, \"z\": -0.2644761800765991}, \"radius\": 0.1, \"color\": \"gray\"});\n",
              "\tviewer_17131136720477707.addCylinder({\"start\": {\"x\": 0.11005029082298279, \"y\": -0.0005598919233307242, \"z\": 0.1481025367975235}, \"end\": {\"x\": 0.4489879012107849, \"y\": 0.08342325687408447, \"z\": 1.1044511795043945}, \"radius\": 0.1, \"color\": \"gray\"});\n",
              "\tviewer_17131136720477707.addCylinder({\"start\": {\"x\": -0.2755663990974426, \"y\": -0.027897333726286888, \"z\": -0.4629642963409424}, \"end\": {\"x\": 0.22705194354057312, \"y\": -0.04040615260601044, \"z\": 0.5348487496376038}, \"radius\": 0.1, \"color\": \"gray\"});\n",
              "\tviewer_17131136720477707.addCylinder({\"start\": {\"x\": -0.2755663990974426, \"y\": -0.027897333726286888, \"z\": -0.4629642963409424}, \"end\": {\"x\": -0.07511302083730698, \"y\": -0.4120001494884491, \"z\": -0.2644761800765991}, \"radius\": 0.1, \"color\": \"gray\"});\n",
              "\tviewer_17131136720477707.addCylinder({\"start\": {\"x\": -0.2755663990974426, \"y\": -0.027897333726286888, \"z\": -0.4629642963409424}, \"end\": {\"x\": 0.4489879012107849, \"y\": 0.08342325687408447, \"z\": 1.1044511795043945}, \"radius\": 0.1, \"color\": \"gray\"});\n",
              "\tviewer_17131136720477707.addCylinder({\"start\": {\"x\": 0.22705194354057312, \"y\": -0.04040615260601044, \"z\": 0.5348487496376038}, \"end\": {\"x\": 0.4489879012107849, \"y\": 0.08342325687408447, \"z\": 1.1044511795043945}, \"radius\": 0.1, \"color\": \"gray\"});\n",
              "\tviewer_17131136720477707.addCylinder({\"start\": {\"x\": -0.07511302083730698, \"y\": -0.4120001494884491, \"z\": -0.2644761800765991}, \"end\": {\"x\": 0.4489879012107849, \"y\": 0.08342325687408447, \"z\": 1.1044511795043945}, \"radius\": 0.1, \"color\": \"gray\"});\n",
              "\tviewer_17131136720477707.zoomTo();\n",
              "viewer_17131136720477707.render();\n",
              "});\n",
              "</script>"
            ]
          },
          "metadata": {}
        }
      ]
    }
  ],
  "metadata": {
    "colab": {
      "provenance": [],
      "collapsed_sections": [
        "boVuZCUXYqr9",
        "AU6y7FnAZBM8",
        "nAqwRT17Dtlg",
        "GRO17y6_ZWX0"
      ],
      "machine_shape": "hm"
    },
    "kernelspec": {
      "display_name": "Python 3",
      "name": "python3"
    },
    "language_info": {
      "name": "python"
    },
    "widgets": {
      "application/vnd.jupyter.widget-state+json": {
        "95256678542c4ca2a7c73ce90d5076aa": {
          "model_module": "@jupyter-widgets/controls",
          "model_name": "HBoxModel",
          "model_module_version": "1.5.0",
          "state": {
            "_dom_classes": [],
            "_model_module": "@jupyter-widgets/controls",
            "_model_module_version": "1.5.0",
            "_model_name": "HBoxModel",
            "_view_count": null,
            "_view_module": "@jupyter-widgets/controls",
            "_view_module_version": "1.5.0",
            "_view_name": "HBoxView",
            "box_style": "",
            "children": [
              "IPY_MODEL_a26b0d81c2e54833a77d2f09204114ab",
              "IPY_MODEL_ed02cce9871b42a8b97e4b208145090c",
              "IPY_MODEL_709d4ec9829c42a4b7fc1973c1e38513"
            ],
            "layout": "IPY_MODEL_d258a5c39920443ea110ea17f14a9663"
          }
        },
        "a26b0d81c2e54833a77d2f09204114ab": {
          "model_module": "@jupyter-widgets/controls",
          "model_name": "HTMLModel",
          "model_module_version": "1.5.0",
          "state": {
            "_dom_classes": [],
            "_model_module": "@jupyter-widgets/controls",
            "_model_module_version": "1.5.0",
            "_model_name": "HTMLModel",
            "_view_count": null,
            "_view_module": "@jupyter-widgets/controls",
            "_view_module_version": "1.5.0",
            "_view_name": "HTMLView",
            "description": "",
            "description_tooltip": null,
            "layout": "IPY_MODEL_7fc25521383e47349e231b1be2691a03",
            "placeholder": "​",
            "style": "IPY_MODEL_8b5a046576014d808305ed8ef21a21d3",
            "value": "Retrieving ElasticityDoc documents:  87%"
          }
        },
        "ed02cce9871b42a8b97e4b208145090c": {
          "model_module": "@jupyter-widgets/controls",
          "model_name": "FloatProgressModel",
          "model_module_version": "1.5.0",
          "state": {
            "_dom_classes": [],
            "_model_module": "@jupyter-widgets/controls",
            "_model_module_version": "1.5.0",
            "_model_name": "FloatProgressModel",
            "_view_count": null,
            "_view_module": "@jupyter-widgets/controls",
            "_view_module_version": "1.5.0",
            "_view_name": "ProgressView",
            "bar_style": "danger",
            "description": "",
            "description_tooltip": null,
            "layout": "IPY_MODEL_5ea1c03e4163489381f7b2a6a99e0ee7",
            "max": 12392,
            "min": 0,
            "orientation": "horizontal",
            "style": "IPY_MODEL_3ee5623688764ea2a71c6f1784f08687",
            "value": 10733
          }
        },
        "709d4ec9829c42a4b7fc1973c1e38513": {
          "model_module": "@jupyter-widgets/controls",
          "model_name": "HTMLModel",
          "model_module_version": "1.5.0",
          "state": {
            "_dom_classes": [],
            "_model_module": "@jupyter-widgets/controls",
            "_model_module_version": "1.5.0",
            "_model_name": "HTMLModel",
            "_view_count": null,
            "_view_module": "@jupyter-widgets/controls",
            "_view_module_version": "1.5.0",
            "_view_name": "HTMLView",
            "description": "",
            "description_tooltip": null,
            "layout": "IPY_MODEL_3aad5668f60243fcbc3ab9af58d796d5",
            "placeholder": "​",
            "style": "IPY_MODEL_7c14e05e608c46ad8e956008e88661df",
            "value": " 10733/12392 [00:43&lt;00:52, 31.77it/s]"
          }
        },
        "d258a5c39920443ea110ea17f14a9663": {
          "model_module": "@jupyter-widgets/base",
          "model_name": "LayoutModel",
          "model_module_version": "1.2.0",
          "state": {
            "_model_module": "@jupyter-widgets/base",
            "_model_module_version": "1.2.0",
            "_model_name": "LayoutModel",
            "_view_count": null,
            "_view_module": "@jupyter-widgets/base",
            "_view_module_version": "1.2.0",
            "_view_name": "LayoutView",
            "align_content": null,
            "align_items": null,
            "align_self": null,
            "border": null,
            "bottom": null,
            "display": null,
            "flex": null,
            "flex_flow": null,
            "grid_area": null,
            "grid_auto_columns": null,
            "grid_auto_flow": null,
            "grid_auto_rows": null,
            "grid_column": null,
            "grid_gap": null,
            "grid_row": null,
            "grid_template_areas": null,
            "grid_template_columns": null,
            "grid_template_rows": null,
            "height": null,
            "justify_content": null,
            "justify_items": null,
            "left": null,
            "margin": null,
            "max_height": null,
            "max_width": null,
            "min_height": null,
            "min_width": null,
            "object_fit": null,
            "object_position": null,
            "order": null,
            "overflow": null,
            "overflow_x": null,
            "overflow_y": null,
            "padding": null,
            "right": null,
            "top": null,
            "visibility": null,
            "width": null
          }
        },
        "7fc25521383e47349e231b1be2691a03": {
          "model_module": "@jupyter-widgets/base",
          "model_name": "LayoutModel",
          "model_module_version": "1.2.0",
          "state": {
            "_model_module": "@jupyter-widgets/base",
            "_model_module_version": "1.2.0",
            "_model_name": "LayoutModel",
            "_view_count": null,
            "_view_module": "@jupyter-widgets/base",
            "_view_module_version": "1.2.0",
            "_view_name": "LayoutView",
            "align_content": null,
            "align_items": null,
            "align_self": null,
            "border": null,
            "bottom": null,
            "display": null,
            "flex": null,
            "flex_flow": null,
            "grid_area": null,
            "grid_auto_columns": null,
            "grid_auto_flow": null,
            "grid_auto_rows": null,
            "grid_column": null,
            "grid_gap": null,
            "grid_row": null,
            "grid_template_areas": null,
            "grid_template_columns": null,
            "grid_template_rows": null,
            "height": null,
            "justify_content": null,
            "justify_items": null,
            "left": null,
            "margin": null,
            "max_height": null,
            "max_width": null,
            "min_height": null,
            "min_width": null,
            "object_fit": null,
            "object_position": null,
            "order": null,
            "overflow": null,
            "overflow_x": null,
            "overflow_y": null,
            "padding": null,
            "right": null,
            "top": null,
            "visibility": null,
            "width": null
          }
        },
        "8b5a046576014d808305ed8ef21a21d3": {
          "model_module": "@jupyter-widgets/controls",
          "model_name": "DescriptionStyleModel",
          "model_module_version": "1.5.0",
          "state": {
            "_model_module": "@jupyter-widgets/controls",
            "_model_module_version": "1.5.0",
            "_model_name": "DescriptionStyleModel",
            "_view_count": null,
            "_view_module": "@jupyter-widgets/base",
            "_view_module_version": "1.2.0",
            "_view_name": "StyleView",
            "description_width": ""
          }
        },
        "5ea1c03e4163489381f7b2a6a99e0ee7": {
          "model_module": "@jupyter-widgets/base",
          "model_name": "LayoutModel",
          "model_module_version": "1.2.0",
          "state": {
            "_model_module": "@jupyter-widgets/base",
            "_model_module_version": "1.2.0",
            "_model_name": "LayoutModel",
            "_view_count": null,
            "_view_module": "@jupyter-widgets/base",
            "_view_module_version": "1.2.0",
            "_view_name": "LayoutView",
            "align_content": null,
            "align_items": null,
            "align_self": null,
            "border": null,
            "bottom": null,
            "display": null,
            "flex": null,
            "flex_flow": null,
            "grid_area": null,
            "grid_auto_columns": null,
            "grid_auto_flow": null,
            "grid_auto_rows": null,
            "grid_column": null,
            "grid_gap": null,
            "grid_row": null,
            "grid_template_areas": null,
            "grid_template_columns": null,
            "grid_template_rows": null,
            "height": null,
            "justify_content": null,
            "justify_items": null,
            "left": null,
            "margin": null,
            "max_height": null,
            "max_width": null,
            "min_height": null,
            "min_width": null,
            "object_fit": null,
            "object_position": null,
            "order": null,
            "overflow": null,
            "overflow_x": null,
            "overflow_y": null,
            "padding": null,
            "right": null,
            "top": null,
            "visibility": null,
            "width": null
          }
        },
        "3ee5623688764ea2a71c6f1784f08687": {
          "model_module": "@jupyter-widgets/controls",
          "model_name": "ProgressStyleModel",
          "model_module_version": "1.5.0",
          "state": {
            "_model_module": "@jupyter-widgets/controls",
            "_model_module_version": "1.5.0",
            "_model_name": "ProgressStyleModel",
            "_view_count": null,
            "_view_module": "@jupyter-widgets/base",
            "_view_module_version": "1.2.0",
            "_view_name": "StyleView",
            "bar_color": null,
            "description_width": ""
          }
        },
        "3aad5668f60243fcbc3ab9af58d796d5": {
          "model_module": "@jupyter-widgets/base",
          "model_name": "LayoutModel",
          "model_module_version": "1.2.0",
          "state": {
            "_model_module": "@jupyter-widgets/base",
            "_model_module_version": "1.2.0",
            "_model_name": "LayoutModel",
            "_view_count": null,
            "_view_module": "@jupyter-widgets/base",
            "_view_module_version": "1.2.0",
            "_view_name": "LayoutView",
            "align_content": null,
            "align_items": null,
            "align_self": null,
            "border": null,
            "bottom": null,
            "display": null,
            "flex": null,
            "flex_flow": null,
            "grid_area": null,
            "grid_auto_columns": null,
            "grid_auto_flow": null,
            "grid_auto_rows": null,
            "grid_column": null,
            "grid_gap": null,
            "grid_row": null,
            "grid_template_areas": null,
            "grid_template_columns": null,
            "grid_template_rows": null,
            "height": null,
            "justify_content": null,
            "justify_items": null,
            "left": null,
            "margin": null,
            "max_height": null,
            "max_width": null,
            "min_height": null,
            "min_width": null,
            "object_fit": null,
            "object_position": null,
            "order": null,
            "overflow": null,
            "overflow_x": null,
            "overflow_y": null,
            "padding": null,
            "right": null,
            "top": null,
            "visibility": null,
            "width": null
          }
        },
        "7c14e05e608c46ad8e956008e88661df": {
          "model_module": "@jupyter-widgets/controls",
          "model_name": "DescriptionStyleModel",
          "model_module_version": "1.5.0",
          "state": {
            "_model_module": "@jupyter-widgets/controls",
            "_model_module_version": "1.5.0",
            "_model_name": "DescriptionStyleModel",
            "_view_count": null,
            "_view_module": "@jupyter-widgets/base",
            "_view_module_version": "1.2.0",
            "_view_name": "StyleView",
            "description_width": ""
          }
        }
      }
    }
  },
  "nbformat": 4,
  "nbformat_minor": 0
}